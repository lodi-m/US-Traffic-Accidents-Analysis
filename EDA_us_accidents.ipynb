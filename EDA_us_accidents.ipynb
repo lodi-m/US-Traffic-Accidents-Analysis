{
  "nbformat": 4,
  "nbformat_minor": 0,
  "metadata": {
    "colab": {
      "name": "EDA-us-accidents.ipynb",
      "provenance": [],
      "collapsed_sections": [],
      "authorship_tag": "ABX9TyPn0MorOM4vNCSttaKHVETO",
      "include_colab_link": true
    },
    "kernelspec": {
      "name": "python3",
      "display_name": "Python 3"
    }
  },
  "cells": [
    {
      "cell_type": "markdown",
      "metadata": {
        "id": "view-in-github",
        "colab_type": "text"
      },
      "source": [
        "<a href=\"https://colab.research.google.com/github/lodi-m/US-Traffic-Accidents-Analysis/blob/main/EDA_us_accidents.ipynb\" target=\"_parent\"><img src=\"https://colab.research.google.com/assets/colab-badge.svg\" alt=\"Open In Colab\"/></a>"
      ]
    },
    {
      "cell_type": "markdown",
      "metadata": {
        "id": "cXb033XDNibv"
      },
      "source": [
        "# US Traffic Accidents Exploratory Data Analysis\n",
        "\n",
        "## Introduction\n",
        "\n",
        "### What is Exploratory Data Analysis (EDA)? \n",
        "Exploratory data analysis is used to investigate datasets to summarize their main characteristics and draw conclusions *before* any formal statistical modeling or inference is made. It is a crucial first step in the data analysis procedure as it help save time and resources in the future. EDA is especially useful in discovering patterns, locating any abnormalities and finding any interesting relations in the data.\n",
        "\n",
        "In this notebook we'll analyze a car accident dataset from the USA. This current version of the dataset contains information from 4.2 million traffic accidents during *February 2016* - *December 2020* that took place all over the Contiguous United States. The data was collected using multiple Traffic APIs, such as MapQuest and Bing, and several other data providers. \n",
        "\n",
        "Although this dataset can be used for a variety of applications, we will be focusing on how **precipitation** and other **environmental factors** impacted the accidents. \n",
        "\n",
        "If you would like to learn more about the raw data itself please visit: https://smoosavi.org/datasets/us_accidents \n"
      ]
    },
    {
      "cell_type": "markdown",
      "metadata": {
        "id": "s6AZYLNWOTcW"
      },
      "source": [
        "#### Downloading the data\n"
      ]
    },
    {
      "cell_type": "code",
      "metadata": {
        "id": "pDjibJkkOweG"
      },
      "source": [
        "pip install opendatasets --upgrade --quiet"
      ],
      "execution_count": null,
      "outputs": []
    },
    {
      "cell_type": "code",
      "metadata": {
        "colab": {
          "base_uri": "https://localhost:8080/"
        },
        "id": "sNZ9YITROUCk",
        "outputId": "b716a693-dc0c-4ae0-89ae-798cf6e0d53c"
      },
      "source": [
        "import opendatasets as od\n",
        "dataset_url = \"https://www.kaggle.com/sobhanmoosavi/us-accidents\" \n",
        "od.download(dataset_url)"
      ],
      "execution_count": null,
      "outputs": [
        {
          "output_type": "stream",
          "name": "stdout",
          "text": [
            "Please provide your Kaggle credentials to download this dataset. Learn more: http://bit.ly/kaggle-creds\n",
            "Your Kaggle username: malihalodi\n",
            "Your Kaggle Key: ··········\n",
            "Downloading us-accidents.zip to ./us-accidents\n"
          ]
        },
        {
          "output_type": "stream",
          "name": "stderr",
          "text": [
            "100%|██████████| 290M/290M [00:03<00:00, 86.2MB/s]\n"
          ]
        },
        {
          "output_type": "stream",
          "name": "stdout",
          "text": [
            "\n"
          ]
        }
      ]
    },
    {
      "cell_type": "markdown",
      "metadata": {
        "id": "EmvCogaba0Ev"
      },
      "source": [
        "### Data Preparation and Cleaning \n",
        "\n"
      ]
    },
    {
      "cell_type": "code",
      "metadata": {
        "id": "CZhlmTPpaz3j"
      },
      "source": [
        "import pandas as pd\n",
        "import numpy as np\n",
        "import matplotlib.pyplot as plt\n",
        "import seaborn as sns \n",
        "import folium\n",
        "from folium.plugins import HeatMap\n",
        "sns.set_style(\"darkgrid\")"
      ],
      "execution_count": null,
      "outputs": []
    },
    {
      "cell_type": "code",
      "metadata": {
        "id": "N6ZpP5nacXce"
      },
      "source": [
        "raw_df = pd.read_csv(\"/content/us-accidents/US_Accidents_Dec20_Updated.csv\")"
      ],
      "execution_count": null,
      "outputs": []
    },
    {
      "cell_type": "code",
      "metadata": {
        "colab": {
          "base_uri": "https://localhost:8080/"
        },
        "id": "M5jYQ-YlcXX1",
        "outputId": "6ce4f997-12f1-4857-9988-08eadcf86db5"
      },
      "source": [
        "raw_df.columns"
      ],
      "execution_count": null,
      "outputs": [
        {
          "output_type": "execute_result",
          "data": {
            "text/plain": [
              "Index(['ID', 'Severity', 'Start_Time', 'End_Time', 'Start_Lat', 'Start_Lng',\n",
              "       'End_Lat', 'End_Lng', 'Distance(mi)', 'Description', 'Number', 'Street',\n",
              "       'Side', 'City', 'County', 'State', 'Zipcode', 'Country', 'Timezone',\n",
              "       'Airport_Code', 'Weather_Timestamp', 'Temperature(F)', 'Wind_Chill(F)',\n",
              "       'Humidity(%)', 'Pressure(in)', 'Visibility(mi)', 'Wind_Direction',\n",
              "       'Wind_Speed(mph)', 'Precipitation(in)', 'Weather_Condition', 'Amenity',\n",
              "       'Bump', 'Crossing', 'Give_Way', 'Junction', 'No_Exit', 'Railway',\n",
              "       'Roundabout', 'Station', 'Stop', 'Traffic_Calming', 'Traffic_Signal',\n",
              "       'Turning_Loop', 'Sunrise_Sunset', 'Civil_Twilight', 'Nautical_Twilight',\n",
              "       'Astronomical_Twilight'],\n",
              "      dtype='object')"
            ]
          },
          "metadata": {},
          "execution_count": 5
        }
      ]
    },
    {
      "cell_type": "markdown",
      "metadata": {
        "id": "SkeDbLiUdPDp"
      },
      "source": [
        "As you can see, there is a lot more information than we want currently in the dataset. For example, we won't really need to worry about what amenities there were or if there was a roundabout near the accident. We are only focused on the *environmental factors* in this notebook. \n",
        "\n",
        "Please also note that we will only be looking at the time of day in relation to Nautical Twilight. This is because Nautical Twilight takes place right in between Civil and Astronomical Twilight. I felt that if we used the other twilights, there would be a bit of bias in regards to what is considered \"Day\" or \"Night\". As such, I chose to just use the middle value. \n",
        "\n",
        "<img src=\"https://c.tadst.com/gfx/1200x630/twiligh-phases.png?1\" alt=\"Different Types of Twilights and their degrees\" width=\"500\"/>\n",
        "\n",
        "If you would like to read more about the differences between Civil, Nautical, and Astronomical Twilight please visit: https://www.weather.gov/lmk/twilight-types\n",
        "\n"
      ]
    },
    {
      "cell_type": "markdown",
      "metadata": {
        "id": "0u2TnobOIuv-"
      },
      "source": [
        "Now let's go ahead and only select the columns we are interested in. "
      ]
    },
    {
      "cell_type": "code",
      "metadata": {
        "colab": {
          "base_uri": "https://localhost:8080/"
        },
        "id": "ITy2YPFAen6Z",
        "outputId": "27a4a430-4917-4215-ba22-4cab123acdc2"
      },
      "source": [
        "selected_columns = ['ID', 'Severity', 'Start_Time', 'End_Time',\n",
        "                     'Start_Lat', 'Start_Lng', 'End_Lat', 'End_Lng', 'Distance(mi)',\n",
        "                    'Description', 'City', 'State', 'Timezone', 'Weather_Timestamp',\n",
        "                    'Temperature(F)', 'Wind_Chill(F)', 'Humidity(%)', 'Pressure(in)',\n",
        "                    'Visibility(mi)', 'Wind_Direction', 'Wind_Speed(mph)',\n",
        "                    'Precipitation(in)', 'Weather_Condition', \n",
        "                    'Sunrise_Sunset', 'Nautical_Twilight']\n",
        "\n",
        "len(selected_columns)"
      ],
      "execution_count": null,
      "outputs": [
        {
          "output_type": "execute_result",
          "data": {
            "text/plain": [
              "25"
            ]
          },
          "metadata": {},
          "execution_count": 6
        }
      ]
    },
    {
      "cell_type": "code",
      "metadata": {
        "colab": {
          "base_uri": "https://localhost:8080/"
        },
        "id": "klHhlFYagUxZ",
        "outputId": "b995045f-cbab-488b-aef2-b96fecbb43f3"
      },
      "source": [
        "len(raw_df.columns)"
      ],
      "execution_count": null,
      "outputs": [
        {
          "output_type": "execute_result",
          "data": {
            "text/plain": [
              "47"
            ]
          },
          "metadata": {},
          "execution_count": 7
        }
      ]
    },
    {
      "cell_type": "markdown",
      "metadata": {
        "id": "kiwGx-pXgm82"
      },
      "source": [
        "Note that we've about halved the amount of columns! That's about half of the dataset that we're not interested in. "
      ]
    },
    {
      "cell_type": "markdown",
      "metadata": {
        "id": "CJuXkhtOh8wo"
      },
      "source": [
        "Let's now go ahead and make a new copy of the data, containing only the information we want called <code> weather_df </code>. Using <code> weather_df </code>, we can continue to modify and analyze further without actually affecting the original data and dataframe."
      ]
    },
    {
      "cell_type": "code",
      "metadata": {
        "id": "DkxMya4biVio"
      },
      "source": [
        "weather_df = raw_df[selected_columns].copy()"
      ],
      "execution_count": null,
      "outputs": []
    },
    {
      "cell_type": "markdown",
      "metadata": {
        "id": "ykO4Cfq2BBig"
      },
      "source": [
        "Let's just get a better idea of whats inside <code>weather_df</code>"
      ]
    },
    {
      "cell_type": "code",
      "metadata": {
        "colab": {
          "base_uri": "https://localhost:8080/"
        },
        "id": "VNGw6smuAIml",
        "outputId": "3111aa66-5bce-4939-98f7-0bb3fcad8de0"
      },
      "source": [
        "weather_df.shape"
      ],
      "execution_count": null,
      "outputs": [
        {
          "output_type": "execute_result",
          "data": {
            "text/plain": [
              "(2906610, 25)"
            ]
          },
          "metadata": {},
          "execution_count": 9
        }
      ]
    },
    {
      "cell_type": "code",
      "metadata": {
        "colab": {
          "base_uri": "https://localhost:8080/"
        },
        "id": "BRMM_gY5ikPT",
        "outputId": "ec97ac6c-26f4-45d6-d98a-64174f226ff7"
      },
      "source": [
        "weather_df.info()"
      ],
      "execution_count": null,
      "outputs": [
        {
          "output_type": "stream",
          "name": "stdout",
          "text": [
            "<class 'pandas.core.frame.DataFrame'>\n",
            "RangeIndex: 2906610 entries, 0 to 2906609\n",
            "Data columns (total 25 columns):\n",
            " #   Column             Dtype  \n",
            "---  ------             -----  \n",
            " 0   ID                 object \n",
            " 1   Severity           int64  \n",
            " 2   Start_Time         object \n",
            " 3   End_Time           object \n",
            " 4   Start_Lat          float64\n",
            " 5   Start_Lng          float64\n",
            " 6   End_Lat            float64\n",
            " 7   End_Lng            float64\n",
            " 8   Distance(mi)       float64\n",
            " 9   Description        object \n",
            " 10  City               object \n",
            " 11  State              object \n",
            " 12  Timezone           object \n",
            " 13  Weather_Timestamp  object \n",
            " 14  Temperature(F)     float64\n",
            " 15  Wind_Chill(F)      float64\n",
            " 16  Humidity(%)        float64\n",
            " 17  Pressure(in)       float64\n",
            " 18  Visibility(mi)     float64\n",
            " 19  Wind_Direction     object \n",
            " 20  Wind_Speed(mph)    float64\n",
            " 21  Precipitation(in)  float64\n",
            " 22  Weather_Condition  object \n",
            " 23  Sunrise_Sunset     object \n",
            " 24  Nautical_Twilight  object \n",
            "dtypes: float64(12), int64(1), object(12)\n",
            "memory usage: 554.4+ MB\n"
          ]
        }
      ]
    },
    {
      "cell_type": "markdown",
      "metadata": {
        "id": "jK7kXA7aBPCq"
      },
      "source": [
        "Before moving forwards, let's also take care of any missing or Null values. We'll first see exactly how many missing values we have. "
      ]
    },
    {
      "cell_type": "code",
      "metadata": {
        "colab": {
          "base_uri": "https://localhost:8080/",
          "height": 283
        },
        "id": "Vs3F5RwCcXQF",
        "outputId": "63fb539f-b076-49d0-eb50-52d70622d2fb"
      },
      "source": [
        "missing_percentage = weather_df.isna().sum().sort_values(ascending = False) / len(weather_df)\n",
        "missing_percentage[missing_percentage != 0].plot(kind = \"barh\")"
      ],
      "execution_count": null,
      "outputs": [
        {
          "output_type": "execute_result",
          "data": {
            "text/plain": [
              "<matplotlib.axes._subplots.AxesSubplot at 0x7fe843fa89d0>"
            ]
          },
          "metadata": {},
          "execution_count": 11
        },
        {
          "output_type": "display_data",
          "data": {
            "image/png": "[encoded data removed]",
            "text/plain": [
              "<Figure size 432x288 with 1 Axes>"
            ]
          },
          "metadata": {}
        }
      ]
    },
    {
      "cell_type": "markdown",
      "metadata": {
        "id": "frdMY3QDDLd_"
      },
      "source": [
        "From the graph we can see that *End_Lat* and *End_Lng* have the greatest amount of missing values, followed by *Precipitation* and *Wind_Chill*. \n",
        "\n",
        "We won't worry about the missing *End_Lat* and *End_Lng* values ***just*** yet as these missing values may indicate that that the vehicle simply did not move after the accident. In some states, moving the car after a crash is actually illegal so this may also be a factor in the missing values. \n",
        "\n"
      ]
    },
    {
      "cell_type": "code",
      "metadata": {
        "id": "pV25g0IbC26N"
      },
      "source": [
        "weather_df.dropna(subset = [\"Humidity(%)\", \"Weather_Condition\", \"Visibility(mi)\", \"Wind_Speed(mph)\", \"Precipitation(in)\", \"Wind_Chill(F)\"], inplace=True)"
      ],
      "execution_count": null,
      "outputs": []
    },
    {
      "cell_type": "markdown",
      "metadata": {
        "id": "xj0lK7H_TF1U"
      },
      "source": [
        "Let's just making sure that the missing values were actually dropped. \n",
        "Note that we are not dropping *all* of the columns. The remaining ones just have such a small amount of missing values that it won't really have an affect on the analysis down the road. "
      ]
    },
    {
      "cell_type": "code",
      "metadata": {
        "colab": {
          "base_uri": "https://localhost:8080/",
          "height": 283
        },
        "id": "9C0rBfj_Txqd",
        "outputId": "dcbce750-849e-45a4-844f-b174802b6131"
      },
      "source": [
        "missing_percentage = weather_df.isna().sum().sort_values(ascending = False) / len(weather_df)\n",
        "missing_percentage[missing_percentage != 0].plot(kind = \"barh\")"
      ],
      "execution_count": null,
      "outputs": [
        {
          "output_type": "execute_result",
          "data": {
            "text/plain": [
              "<matplotlib.axes._subplots.AxesSubplot at 0x7fe843ede3d0>"
            ]
          },
          "metadata": {},
          "execution_count": 13
        },
        {
          "output_type": "display_data",
          "data": {
            "image/png": "[encoded data removed]",
            "text/plain": [
              "<Figure size 432x288 with 1 Axes>"
            ]
          },
          "metadata": {}
        }
      ]
    },
    {
      "cell_type": "markdown",
      "metadata": {
        "id": "7M70e2W7T3L1"
      },
      "source": [
        "Now that all of the missing values have been dealt with, lets actually get into the data and see if there are any incorrect values.\n",
        "\n",
        "Let's start off with some basic statistics. "
      ]
    },
    {
      "cell_type": "code",
      "metadata": {
        "colab": {
          "base_uri": "https://localhost:8080/",
          "height": 319
        },
        "id": "e0Y35VVPQZ6E",
        "outputId": "550a6074-5b16-4b74-a0c0-3fd577c41037"
      },
      "source": [
        "weather_df.describe()"
      ],
      "execution_count": null,
      "outputs": [
        {
          "output_type": "execute_result",
          "data": {
            "text/html": [
              "<div>\n",
              "<style scoped>\n",
              "    .dataframe tbody tr th:only-of-type {\n",
              "        vertical-align: middle;\n",
              "    }\n",
              "\n",
              "    .dataframe tbody tr th {\n",
              "        vertical-align: top;\n",
              "    }\n",
              "\n",
              "    .dataframe thead th {\n",
              "        text-align: right;\n",
              "    }\n",
              "</style>\n",
              "<table border=\"1\" class=\"dataframe\">\n",
              "  <thead>\n",
              "    <tr style=\"text-align: right;\">\n",
              "      <th></th>\n",
              "      <th>Severity</th>\n",
              "      <th>Start_Lat</th>\n",
              "      <th>Start_Lng</th>\n",
              "      <th>End_Lat</th>\n",
              "      <th>End_Lng</th>\n",
              "      <th>Distance(mi)</th>\n",
              "      <th>Temperature(F)</th>\n",
              "      <th>Wind_Chill(F)</th>\n",
              "      <th>Humidity(%)</th>\n",
              "      <th>Pressure(in)</th>\n",
              "      <th>Visibility(mi)</th>\n",
              "      <th>Wind_Speed(mph)</th>\n",
              "      <th>Precipitation(in)</th>\n",
              "    </tr>\n",
              "  </thead>\n",
              "  <tbody>\n",
              "    <tr>\n",
              "      <th>count</th>\n",
              "      <td>1.462742e+06</td>\n",
              "      <td>1.462742e+06</td>\n",
              "      <td>1.462742e+06</td>\n",
              "      <td>1.381003e+06</td>\n",
              "      <td>1.381003e+06</td>\n",
              "      <td>1.462742e+06</td>\n",
              "      <td>1.462742e+06</td>\n",
              "      <td>1.462742e+06</td>\n",
              "      <td>1.462742e+06</td>\n",
              "      <td>1.462034e+06</td>\n",
              "      <td>1.462742e+06</td>\n",
              "      <td>1.462742e+06</td>\n",
              "      <td>1.462742e+06</td>\n",
              "    </tr>\n",
              "    <tr>\n",
              "      <th>mean</th>\n",
              "      <td>2.203830e+00</td>\n",
              "      <td>3.659601e+01</td>\n",
              "      <td>-9.672085e+01</td>\n",
              "      <td>3.654948e+01</td>\n",
              "      <td>-9.646967e+01</td>\n",
              "      <td>4.375578e-01</td>\n",
              "      <td>5.984798e+01</td>\n",
              "      <td>5.850785e+01</td>\n",
              "      <td>6.612227e+01</td>\n",
              "      <td>2.934691e+01</td>\n",
              "      <td>8.953615e+00</td>\n",
              "      <td>7.175253e+00</td>\n",
              "      <td>6.448827e-03</td>\n",
              "    </tr>\n",
              "    <tr>\n",
              "      <th>std</th>\n",
              "      <td>5.144949e-01</td>\n",
              "      <td>5.119588e+00</td>\n",
              "      <td>1.793836e+01</td>\n",
              "      <td>5.140887e+00</td>\n",
              "      <td>1.787470e+01</td>\n",
              "      <td>1.649376e+00</td>\n",
              "      <td>1.829572e+01</td>\n",
              "      <td>2.045406e+01</td>\n",
              "      <td>2.299925e+01</td>\n",
              "      <td>1.107690e+00</td>\n",
              "      <td>2.778253e+00</td>\n",
              "      <td>5.580180e+00</td>\n",
              "      <td>8.207617e-02</td>\n",
              "    </tr>\n",
              "    <tr>\n",
              "      <th>min</th>\n",
              "      <td>1.000000e+00</td>\n",
              "      <td>2.455527e+01</td>\n",
              "      <td>-1.244976e+02</td>\n",
              "      <td>2.455527e+01</td>\n",
              "      <td>-1.244975e+02</td>\n",
              "      <td>0.000000e+00</td>\n",
              "      <td>-2.700000e+01</td>\n",
              "      <td>-5.270000e+01</td>\n",
              "      <td>1.000000e+00</td>\n",
              "      <td>1.937000e+01</td>\n",
              "      <td>0.000000e+00</td>\n",
              "      <td>0.000000e+00</td>\n",
              "      <td>0.000000e+00</td>\n",
              "    </tr>\n",
              "    <tr>\n",
              "      <th>25%</th>\n",
              "      <td>2.000000e+00</td>\n",
              "      <td>3.372973e+01</td>\n",
              "      <td>-1.179175e+02</td>\n",
              "      <td>3.368313e+01</td>\n",
              "      <td>-1.178586e+02</td>\n",
              "      <td>0.000000e+00</td>\n",
              "      <td>4.700000e+01</td>\n",
              "      <td>4.500000e+01</td>\n",
              "      <td>5.000000e+01</td>\n",
              "      <td>2.917000e+01</td>\n",
              "      <td>1.000000e+01</td>\n",
              "      <td>3.000000e+00</td>\n",
              "      <td>0.000000e+00</td>\n",
              "    </tr>\n",
              "    <tr>\n",
              "      <th>50%</th>\n",
              "      <td>2.000000e+00</td>\n",
              "      <td>3.612933e+01</td>\n",
              "      <td>-9.143870e+01</td>\n",
              "      <td>3.607528e+01</td>\n",
              "      <td>-9.112135e+01</td>\n",
              "      <td>0.000000e+00</td>\n",
              "      <td>6.100000e+01</td>\n",
              "      <td>6.100000e+01</td>\n",
              "      <td>7.000000e+01</td>\n",
              "      <td>2.968000e+01</td>\n",
              "      <td>1.000000e+01</td>\n",
              "      <td>7.000000e+00</td>\n",
              "      <td>0.000000e+00</td>\n",
              "    </tr>\n",
              "    <tr>\n",
              "      <th>75%</th>\n",
              "      <td>2.000000e+00</td>\n",
              "      <td>4.057520e+01</td>\n",
              "      <td>-8.080292e+01</td>\n",
              "      <td>4.054426e+01</td>\n",
              "      <td>-8.075835e+01</td>\n",
              "      <td>2.820000e-01</td>\n",
              "      <td>7.400000e+01</td>\n",
              "      <td>7.400000e+01</td>\n",
              "      <td>8.600000e+01</td>\n",
              "      <td>2.995000e+01</td>\n",
              "      <td>1.000000e+01</td>\n",
              "      <td>1.000000e+01</td>\n",
              "      <td>0.000000e+00</td>\n",
              "    </tr>\n",
              "    <tr>\n",
              "      <th>max</th>\n",
              "      <td>4.000000e+00</td>\n",
              "      <td>4.900220e+01</td>\n",
              "      <td>-6.748413e+01</td>\n",
              "      <td>4.907500e+01</td>\n",
              "      <td>-6.748413e+01</td>\n",
              "      <td>2.512200e+02</td>\n",
              "      <td>1.740000e+02</td>\n",
              "      <td>1.740000e+02</td>\n",
              "      <td>1.000000e+02</td>\n",
              "      <td>5.804000e+01</td>\n",
              "      <td>1.000000e+02</td>\n",
              "      <td>9.840000e+02</td>\n",
              "      <td>2.400000e+01</td>\n",
              "    </tr>\n",
              "  </tbody>\n",
              "</table>\n",
              "</div>"
            ],
            "text/plain": [
              "           Severity     Start_Lat  ...  Wind_Speed(mph)  Precipitation(in)\n",
              "count  1.462742e+06  1.462742e+06  ...     1.462742e+06       1.462742e+06\n",
              "mean   2.203830e+00  3.659601e+01  ...     7.175253e+00       6.448827e-03\n",
              "std    5.144949e-01  5.119588e+00  ...     5.580180e+00       8.207617e-02\n",
              "min    1.000000e+00  2.455527e+01  ...     0.000000e+00       0.000000e+00\n",
              "25%    2.000000e+00  3.372973e+01  ...     3.000000e+00       0.000000e+00\n",
              "50%    2.000000e+00  3.612933e+01  ...     7.000000e+00       0.000000e+00\n",
              "75%    2.000000e+00  4.057520e+01  ...     1.000000e+01       0.000000e+00\n",
              "max    4.000000e+00  4.900220e+01  ...     9.840000e+02       2.400000e+01\n",
              "\n",
              "[8 rows x 13 columns]"
            ]
          },
          "metadata": {},
          "execution_count": 14
        }
      ]
    },
    {
      "cell_type": "markdown",
      "metadata": {
        "id": "4GTe-pZvc043"
      },
      "source": [
        "There seems to be a problem with the Distance(mi) column. The maximum distance is a car moved during the accident is about 251 miles. This value seems a bit too high, and as such, seems unreliable and unrealistic.  "
      ]
    },
    {
      "cell_type": "markdown",
      "metadata": {
        "id": "I_4tBVWuV5IZ"
      },
      "source": [
        "There are similiar problems with Temperature(F), Wind_Chill(F) and Wind_Speed(mph) columns. The maximum value in each of these columns seems too high to be realistic. For example, it does not make sense that the temperature during the accident was 174 degrees Farenheit when the highest recorded temperature ever on Earth is 134 degrees Farenheit (set on July 10, 1913). "
      ]
    },
    {
      "cell_type": "markdown",
      "metadata": {
        "id": "MEwRLkNqE2XV"
      },
      "source": [
        "A simple fix for these unrealistic and unreliable values are to simply exclude them from our analysis. "
      ]
    },
    {
      "cell_type": "code",
      "metadata": {
        "id": "0CnRXUlBE86z"
      },
      "source": [
        "weather_df.drop(weather_df[weather_df[\"Distance(mi)\"] > 100].index, inplace=True)\n",
        "weather_df.drop(weather_df[weather_df[\"Temperature(F)\"] > 134].index, inplace=True)\n",
        "weather_df.drop(weather_df[weather_df[\"Wind_Chill(F)\"] > 60].index, inplace=True)\n",
        "weather_df.drop(weather_df[weather_df[\"Wind_Speed(mph)\"] > 231].index, inplace=True)"
      ],
      "execution_count": null,
      "outputs": []
    },
    {
      "cell_type": "code",
      "metadata": {
        "colab": {
          "base_uri": "https://localhost:8080/",
          "height": 319
        },
        "id": "fBP-8_NNGaKL",
        "outputId": "8a6c577d-8e37-4798-9dfb-624e91832251"
      },
      "source": [
        "weather_df.describe()"
      ],
      "execution_count": null,
      "outputs": [
        {
          "output_type": "execute_result",
          "data": {
            "text/html": [
              "<div>\n",
              "<style scoped>\n",
              "    .dataframe tbody tr th:only-of-type {\n",
              "        vertical-align: middle;\n",
              "    }\n",
              "\n",
              "    .dataframe tbody tr th {\n",
              "        vertical-align: top;\n",
              "    }\n",
              "\n",
              "    .dataframe thead th {\n",
              "        text-align: right;\n",
              "    }\n",
              "</style>\n",
              "<table border=\"1\" class=\"dataframe\">\n",
              "  <thead>\n",
              "    <tr style=\"text-align: right;\">\n",
              "      <th></th>\n",
              "      <th>Severity</th>\n",
              "      <th>Start_Lat</th>\n",
              "      <th>Start_Lng</th>\n",
              "      <th>End_Lat</th>\n",
              "      <th>End_Lng</th>\n",
              "      <th>Distance(mi)</th>\n",
              "      <th>Temperature(F)</th>\n",
              "      <th>Wind_Chill(F)</th>\n",
              "      <th>Humidity(%)</th>\n",
              "      <th>Pressure(in)</th>\n",
              "      <th>Visibility(mi)</th>\n",
              "      <th>Wind_Speed(mph)</th>\n",
              "      <th>Precipitation(in)</th>\n",
              "    </tr>\n",
              "  </thead>\n",
              "  <tbody>\n",
              "    <tr>\n",
              "      <th>count</th>\n",
              "      <td>712816.000000</td>\n",
              "      <td>712816.000000</td>\n",
              "      <td>712816.000000</td>\n",
              "      <td>670875.000000</td>\n",
              "      <td>670875.000000</td>\n",
              "      <td>712816.000000</td>\n",
              "      <td>712816.000000</td>\n",
              "      <td>712816.000000</td>\n",
              "      <td>712816.000000</td>\n",
              "      <td>712425.000000</td>\n",
              "      <td>712816.000000</td>\n",
              "      <td>712816.000000</td>\n",
              "      <td>712816.000000</td>\n",
              "    </tr>\n",
              "    <tr>\n",
              "      <th>mean</th>\n",
              "      <td>2.192585</td>\n",
              "      <td>38.604513</td>\n",
              "      <td>-97.390789</td>\n",
              "      <td>38.573880</td>\n",
              "      <td>-97.192285</td>\n",
              "      <td>0.480983</td>\n",
              "      <td>44.520303</td>\n",
              "      <td>41.770337</td>\n",
              "      <td>73.424398</td>\n",
              "      <td>29.283090</td>\n",
              "      <td>8.408848</td>\n",
              "      <td>6.763847</td>\n",
              "      <td>0.007721</td>\n",
              "    </tr>\n",
              "    <tr>\n",
              "      <th>std</th>\n",
              "      <td>0.495585</td>\n",
              "      <td>4.494895</td>\n",
              "      <td>18.540248</td>\n",
              "      <td>4.516422</td>\n",
              "      <td>18.505757</td>\n",
              "      <td>1.624178</td>\n",
              "      <td>11.848420</td>\n",
              "      <td>14.960839</td>\n",
              "      <td>19.355494</td>\n",
              "      <td>1.242086</td>\n",
              "      <td>3.154094</td>\n",
              "      <td>5.762795</td>\n",
              "      <td>0.107808</td>\n",
              "    </tr>\n",
              "    <tr>\n",
              "      <th>min</th>\n",
              "      <td>1.000000</td>\n",
              "      <td>24.574326</td>\n",
              "      <td>-124.497567</td>\n",
              "      <td>24.574546</td>\n",
              "      <td>-124.497478</td>\n",
              "      <td>0.000000</td>\n",
              "      <td>-27.000000</td>\n",
              "      <td>-52.700000</td>\n",
              "      <td>4.000000</td>\n",
              "      <td>19.480000</td>\n",
              "      <td>0.000000</td>\n",
              "      <td>0.000000</td>\n",
              "      <td>0.000000</td>\n",
              "    </tr>\n",
              "    <tr>\n",
              "      <th>25%</th>\n",
              "      <td>2.000000</td>\n",
              "      <td>34.789993</td>\n",
              "      <td>-118.226471</td>\n",
              "      <td>34.766392</td>\n",
              "      <td>-118.199341</td>\n",
              "      <td>0.000000</td>\n",
              "      <td>37.000000</td>\n",
              "      <td>33.000000</td>\n",
              "      <td>61.000000</td>\n",
              "      <td>29.130000</td>\n",
              "      <td>8.000000</td>\n",
              "      <td>3.000000</td>\n",
              "      <td>0.000000</td>\n",
              "    </tr>\n",
              "    <tr>\n",
              "      <th>50%</th>\n",
              "      <td>2.000000</td>\n",
              "      <td>38.891848</td>\n",
              "      <td>-93.217866</td>\n",
              "      <td>38.882228</td>\n",
              "      <td>-93.164062</td>\n",
              "      <td>0.010000</td>\n",
              "      <td>47.000000</td>\n",
              "      <td>44.000000</td>\n",
              "      <td>78.000000</td>\n",
              "      <td>29.640000</td>\n",
              "      <td>10.000000</td>\n",
              "      <td>6.000000</td>\n",
              "      <td>0.000000</td>\n",
              "    </tr>\n",
              "    <tr>\n",
              "      <th>75%</th>\n",
              "      <td>2.000000</td>\n",
              "      <td>41.909622</td>\n",
              "      <td>-80.481331</td>\n",
              "      <td>41.904583</td>\n",
              "      <td>-80.276722</td>\n",
              "      <td>0.367000</td>\n",
              "      <td>54.000000</td>\n",
              "      <td>54.000000</td>\n",
              "      <td>89.000000</td>\n",
              "      <td>29.970000</td>\n",
              "      <td>10.000000</td>\n",
              "      <td>10.000000</td>\n",
              "      <td>0.000000</td>\n",
              "    </tr>\n",
              "    <tr>\n",
              "      <th>max</th>\n",
              "      <td>4.000000</td>\n",
              "      <td>49.002201</td>\n",
              "      <td>-67.484130</td>\n",
              "      <td>49.075000</td>\n",
              "      <td>-67.484130</td>\n",
              "      <td>99.791000</td>\n",
              "      <td>60.000000</td>\n",
              "      <td>60.000000</td>\n",
              "      <td>100.000000</td>\n",
              "      <td>58.040000</td>\n",
              "      <td>100.000000</td>\n",
              "      <td>230.000000</td>\n",
              "      <td>24.000000</td>\n",
              "    </tr>\n",
              "  </tbody>\n",
              "</table>\n",
              "</div>"
            ],
            "text/plain": [
              "            Severity      Start_Lat  ...  Wind_Speed(mph)  Precipitation(in)\n",
              "count  712816.000000  712816.000000  ...    712816.000000      712816.000000\n",
              "mean        2.192585      38.604513  ...         6.763847           0.007721\n",
              "std         0.495585       4.494895  ...         5.762795           0.107808\n",
              "min         1.000000      24.574326  ...         0.000000           0.000000\n",
              "25%         2.000000      34.789993  ...         3.000000           0.000000\n",
              "50%         2.000000      38.891848  ...         6.000000           0.000000\n",
              "75%         2.000000      41.909622  ...        10.000000           0.000000\n",
              "max         4.000000      49.002201  ...       230.000000          24.000000\n",
              "\n",
              "[8 rows x 13 columns]"
            ]
          },
          "metadata": {},
          "execution_count": 16
        }
      ]
    },
    {
      "cell_type": "markdown",
      "metadata": {
        "id": "RLdMep-LozBQ"
      },
      "source": [
        "I will also go ahead and save this data for easy use in the future. By doing so, I won't have to start with the raw dataset and clean it every single time I work on this project."
      ]
    },
    {
      "cell_type": "code",
      "metadata": {
        "id": "INMxB3QjogiH"
      },
      "source": [
        "weather_df.to_csv(r'/content/us-accidents/clean_data.csv', index = False)"
      ],
      "execution_count": null,
      "outputs": []
    },
    {
      "cell_type": "code",
      "metadata": {
        "id": "Ov0UssHn45dH"
      },
      "source": [
        "weather_df = pd.read_csv(\"/content/clean_data.csv\")"
      ],
      "execution_count": null,
      "outputs": []
    },
    {
      "cell_type": "code",
      "metadata": {
        "colab": {
          "base_uri": "https://localhost:8080/"
        },
        "id": "v3LNwDrmlqi1",
        "outputId": "218f4e8e-f5c9-4443-c87c-72a45a898e4b"
      },
      "source": [
        "weather_df['ID'].count()"
      ],
      "execution_count": null,
      "outputs": [
        {
          "output_type": "execute_result",
          "data": {
            "text/plain": [
              "712816"
            ]
          },
          "metadata": {},
          "execution_count": 17
        }
      ]
    },
    {
      "cell_type": "markdown",
      "metadata": {
        "id": "0xlH-yVHG2l9"
      },
      "source": [
        "Note that we only have about 712 000 entries left in our dataset after cleaning and preparing it! We originally had over 4.2 million entries. That's about 3 million entries which were unusable for either containing null/missing values or have unrealistic information inside. "
      ]
    },
    {
      "cell_type": "markdown",
      "metadata": {
        "id": "AiozSb1OywnH"
      },
      "source": [
        "We've now cleaned up and prepared the dataset for analysis. Let's take a look at a sample of rows from the data frame. "
      ]
    },
    {
      "cell_type": "code",
      "metadata": {
        "id": "ZfZzoym_G1xP",
        "colab": {
          "base_uri": "https://localhost:8080/",
          "height": 848
        },
        "outputId": "9b7b932c-b3fe-48c6-8ff6-34a8f88de8a2"
      },
      "source": [
        "weather_df.sample(10)"
      ],
      "execution_count": null,
      "outputs": [
        {
          "output_type": "execute_result",
          "data": {
            "text/html": [
              "<div>\n",
              "<style scoped>\n",
              "    .dataframe tbody tr th:only-of-type {\n",
              "        vertical-align: middle;\n",
              "    }\n",
              "\n",
              "    .dataframe tbody tr th {\n",
              "        vertical-align: top;\n",
              "    }\n",
              "\n",
              "    .dataframe thead th {\n",
              "        text-align: right;\n",
              "    }\n",
              "</style>\n",
              "<table border=\"1\" class=\"dataframe\">\n",
              "  <thead>\n",
              "    <tr style=\"text-align: right;\">\n",
              "      <th></th>\n",
              "      <th>ID</th>\n",
              "      <th>Severity</th>\n",
              "      <th>Start_Time</th>\n",
              "      <th>End_Time</th>\n",
              "      <th>Start_Lat</th>\n",
              "      <th>Start_Lng</th>\n",
              "      <th>End_Lat</th>\n",
              "      <th>End_Lng</th>\n",
              "      <th>Distance(mi)</th>\n",
              "      <th>Description</th>\n",
              "      <th>City</th>\n",
              "      <th>State</th>\n",
              "      <th>Timezone</th>\n",
              "      <th>Weather_Timestamp</th>\n",
              "      <th>Temperature(F)</th>\n",
              "      <th>Wind_Chill(F)</th>\n",
              "      <th>Humidity(%)</th>\n",
              "      <th>Pressure(in)</th>\n",
              "      <th>Visibility(mi)</th>\n",
              "      <th>Wind_Direction</th>\n",
              "      <th>Wind_Speed(mph)</th>\n",
              "      <th>Precipitation(in)</th>\n",
              "      <th>Weather_Condition</th>\n",
              "      <th>Sunrise_Sunset</th>\n",
              "      <th>Nautical_Twilight</th>\n",
              "    </tr>\n",
              "  </thead>\n",
              "  <tbody>\n",
              "    <tr>\n",
              "      <th>971927</th>\n",
              "      <td>A-971928</td>\n",
              "      <td>2</td>\n",
              "      <td>2020-12-14 18:18:30.000000000</td>\n",
              "      <td>2020-12-14 18:37:30.000000000</td>\n",
              "      <td>37.689231</td>\n",
              "      <td>-77.451800</td>\n",
              "      <td>37.679411</td>\n",
              "      <td>-77.450780</td>\n",
              "      <td>0.681</td>\n",
              "      <td>Slow traffic on I-95 S from Lewistown Rd/Exit ...</td>\n",
              "      <td>Ashland</td>\n",
              "      <td>VA</td>\n",
              "      <td>US/Eastern</td>\n",
              "      <td>2020-12-14 17:54:00</td>\n",
              "      <td>40.0</td>\n",
              "      <td>40.0</td>\n",
              "      <td>83.0</td>\n",
              "      <td>29.78</td>\n",
              "      <td>10.00</td>\n",
              "      <td>VAR</td>\n",
              "      <td>3.0</td>\n",
              "      <td>0.0</td>\n",
              "      <td>Fair</td>\n",
              "      <td>Night</td>\n",
              "      <td>Night</td>\n",
              "    </tr>\n",
              "    <tr>\n",
              "      <th>1565269</th>\n",
              "      <td>A-1565270</td>\n",
              "      <td>2</td>\n",
              "      <td>2019-12-09 08:00:30</td>\n",
              "      <td>2019-12-09 09:46:57</td>\n",
              "      <td>38.550310</td>\n",
              "      <td>-121.473820</td>\n",
              "      <td>38.550310</td>\n",
              "      <td>-121.473820</td>\n",
              "      <td>0.000</td>\n",
              "      <td>At I-80-br/US-50 - Accident.</td>\n",
              "      <td>Sacramento</td>\n",
              "      <td>CA</td>\n",
              "      <td>US/Pacific</td>\n",
              "      <td>2019-12-09 07:53:00</td>\n",
              "      <td>48.0</td>\n",
              "      <td>48.0</td>\n",
              "      <td>96.0</td>\n",
              "      <td>30.15</td>\n",
              "      <td>0.25</td>\n",
              "      <td>CALM</td>\n",
              "      <td>0.0</td>\n",
              "      <td>0.0</td>\n",
              "      <td>Fog</td>\n",
              "      <td>Day</td>\n",
              "      <td>Day</td>\n",
              "    </tr>\n",
              "    <tr>\n",
              "      <th>1983082</th>\n",
              "      <td>A-1983083</td>\n",
              "      <td>2</td>\n",
              "      <td>2020-01-20 21:40:00</td>\n",
              "      <td>2020-01-20 22:12:57</td>\n",
              "      <td>34.155665</td>\n",
              "      <td>-118.445298</td>\n",
              "      <td>34.155665</td>\n",
              "      <td>-118.445298</td>\n",
              "      <td>0.000</td>\n",
              "      <td>At Van Nuys Blvd - Accident.</td>\n",
              "      <td>Sherman Oaks</td>\n",
              "      <td>CA</td>\n",
              "      <td>US/Pacific</td>\n",
              "      <td>2020-01-20 21:53:00</td>\n",
              "      <td>55.0</td>\n",
              "      <td>55.0</td>\n",
              "      <td>72.0</td>\n",
              "      <td>29.24</td>\n",
              "      <td>10.00</td>\n",
              "      <td>CALM</td>\n",
              "      <td>0.0</td>\n",
              "      <td>0.0</td>\n",
              "      <td>Cloudy</td>\n",
              "      <td>Night</td>\n",
              "      <td>Night</td>\n",
              "    </tr>\n",
              "    <tr>\n",
              "      <th>2874548</th>\n",
              "      <td>A-2874549</td>\n",
              "      <td>2</td>\n",
              "      <td>2020-12-16 00:26:53</td>\n",
              "      <td>2020-12-16 02:08:26</td>\n",
              "      <td>40.134742</td>\n",
              "      <td>-75.445026</td>\n",
              "      <td>40.134162</td>\n",
              "      <td>-75.445111</td>\n",
              "      <td>0.040</td>\n",
              "      <td>Incident on NEW MILL RD near EGYPT RD Drive wi...</td>\n",
              "      <td>Collegeville</td>\n",
              "      <td>PA</td>\n",
              "      <td>US/Eastern</td>\n",
              "      <td>2020-12-16 00:54:00</td>\n",
              "      <td>25.0</td>\n",
              "      <td>25.0</td>\n",
              "      <td>60.0</td>\n",
              "      <td>30.05</td>\n",
              "      <td>10.00</td>\n",
              "      <td>CALM</td>\n",
              "      <td>0.0</td>\n",
              "      <td>0.0</td>\n",
              "      <td>Fair</td>\n",
              "      <td>Night</td>\n",
              "      <td>Night</td>\n",
              "    </tr>\n",
              "    <tr>\n",
              "      <th>456547</th>\n",
              "      <td>A-456548</td>\n",
              "      <td>2</td>\n",
              "      <td>2020-01-29 17:50:00</td>\n",
              "      <td>2020-01-29 18:22:29</td>\n",
              "      <td>38.560360</td>\n",
              "      <td>-121.458360</td>\n",
              "      <td>38.560360</td>\n",
              "      <td>-121.458360</td>\n",
              "      <td>0.000</td>\n",
              "      <td>At 59th St - Accident.</td>\n",
              "      <td>Sacramento</td>\n",
              "      <td>CA</td>\n",
              "      <td>US/Pacific</td>\n",
              "      <td>2020-01-29 17:53:00</td>\n",
              "      <td>58.0</td>\n",
              "      <td>58.0</td>\n",
              "      <td>51.0</td>\n",
              "      <td>30.14</td>\n",
              "      <td>10.00</td>\n",
              "      <td>NW</td>\n",
              "      <td>3.0</td>\n",
              "      <td>0.0</td>\n",
              "      <td>Partly Cloudy</td>\n",
              "      <td>Night</td>\n",
              "      <td>Day</td>\n",
              "    </tr>\n",
              "    <tr>\n",
              "      <th>2656992</th>\n",
              "      <td>A-2656993</td>\n",
              "      <td>3</td>\n",
              "      <td>2019-01-17 20:04:19</td>\n",
              "      <td>2019-01-17 20:48:48</td>\n",
              "      <td>33.665783</td>\n",
              "      <td>-84.417679</td>\n",
              "      <td>33.665783</td>\n",
              "      <td>-84.417679</td>\n",
              "      <td>0.000</td>\n",
              "      <td>Accident on I-85 Southbound after Exit 75 Cent...</td>\n",
              "      <td>Atlanta</td>\n",
              "      <td>GA</td>\n",
              "      <td>US/Eastern</td>\n",
              "      <td>2019-01-17 19:52:00</td>\n",
              "      <td>46.0</td>\n",
              "      <td>44.8</td>\n",
              "      <td>89.0</td>\n",
              "      <td>30.18</td>\n",
              "      <td>2.00</td>\n",
              "      <td>Variable</td>\n",
              "      <td>3.5</td>\n",
              "      <td>0.0</td>\n",
              "      <td>Overcast</td>\n",
              "      <td>Night</td>\n",
              "      <td>Night</td>\n",
              "    </tr>\n",
              "    <tr>\n",
              "      <th>39286</th>\n",
              "      <td>A-39287</td>\n",
              "      <td>2</td>\n",
              "      <td>2020-04-10 16:40:17</td>\n",
              "      <td>2020-04-10 16:55:17</td>\n",
              "      <td>38.935010</td>\n",
              "      <td>-77.036460</td>\n",
              "      <td>38.934960</td>\n",
              "      <td>-77.036460</td>\n",
              "      <td>0.003</td>\n",
              "      <td>At Park Rd NW - Accident.</td>\n",
              "      <td>Washington</td>\n",
              "      <td>DC</td>\n",
              "      <td>US/Eastern</td>\n",
              "      <td>2020-04-10 16:52:00</td>\n",
              "      <td>50.0</td>\n",
              "      <td>50.0</td>\n",
              "      <td>35.0</td>\n",
              "      <td>29.75</td>\n",
              "      <td>10.00</td>\n",
              "      <td>NW</td>\n",
              "      <td>18.0</td>\n",
              "      <td>0.0</td>\n",
              "      <td>Mostly Cloudy</td>\n",
              "      <td>Day</td>\n",
              "      <td>Day</td>\n",
              "    </tr>\n",
              "    <tr>\n",
              "      <th>1338548</th>\n",
              "      <td>A-1338549</td>\n",
              "      <td>2</td>\n",
              "      <td>2020-12-01 08:31:59</td>\n",
              "      <td>2020-12-01 09:16:08</td>\n",
              "      <td>28.538540</td>\n",
              "      <td>-81.364273</td>\n",
              "      <td>28.538540</td>\n",
              "      <td>-81.364273</td>\n",
              "      <td>0.000</td>\n",
              "      <td>Accident on FL-15 South St at FL-15 South St T...</td>\n",
              "      <td>Orlando</td>\n",
              "      <td>FL</td>\n",
              "      <td>US/Eastern</td>\n",
              "      <td>2020-12-01 08:53:00</td>\n",
              "      <td>45.0</td>\n",
              "      <td>37.0</td>\n",
              "      <td>60.0</td>\n",
              "      <td>30.07</td>\n",
              "      <td>10.00</td>\n",
              "      <td>NW</td>\n",
              "      <td>18.0</td>\n",
              "      <td>0.0</td>\n",
              "      <td>Fair</td>\n",
              "      <td>Day</td>\n",
              "      <td>Day</td>\n",
              "    </tr>\n",
              "    <tr>\n",
              "      <th>1057827</th>\n",
              "      <td>A-1057828</td>\n",
              "      <td>2</td>\n",
              "      <td>2020-09-25 04:11:22</td>\n",
              "      <td>2020-09-25 05:34:52</td>\n",
              "      <td>39.624104</td>\n",
              "      <td>-104.894638</td>\n",
              "      <td>39.624104</td>\n",
              "      <td>-104.894638</td>\n",
              "      <td>0.000</td>\n",
              "      <td>Accident on Ulster St near Belleview Ave.</td>\n",
              "      <td>Englewood</td>\n",
              "      <td>CO</td>\n",
              "      <td>US/Mountain</td>\n",
              "      <td>2020-09-25 03:53:00</td>\n",
              "      <td>60.0</td>\n",
              "      <td>60.0</td>\n",
              "      <td>32.0</td>\n",
              "      <td>24.16</td>\n",
              "      <td>10.00</td>\n",
              "      <td>S</td>\n",
              "      <td>3.0</td>\n",
              "      <td>0.0</td>\n",
              "      <td>Fair</td>\n",
              "      <td>Night</td>\n",
              "      <td>Night</td>\n",
              "    </tr>\n",
              "    <tr>\n",
              "      <th>571852</th>\n",
              "      <td>A-571853</td>\n",
              "      <td>2</td>\n",
              "      <td>2020-02-24 08:14:00</td>\n",
              "      <td>2020-02-24 09:07:22</td>\n",
              "      <td>45.022800</td>\n",
              "      <td>-93.089600</td>\n",
              "      <td>45.022800</td>\n",
              "      <td>-93.089600</td>\n",
              "      <td>0.000</td>\n",
              "      <td>At US-10 - Accident.</td>\n",
              "      <td>Saint Paul</td>\n",
              "      <td>MN</td>\n",
              "      <td>US/Central</td>\n",
              "      <td>2020-02-24 07:53:00</td>\n",
              "      <td>26.0</td>\n",
              "      <td>26.0</td>\n",
              "      <td>81.0</td>\n",
              "      <td>29.26</td>\n",
              "      <td>10.00</td>\n",
              "      <td>NNW</td>\n",
              "      <td>3.0</td>\n",
              "      <td>0.0</td>\n",
              "      <td>Fair</td>\n",
              "      <td>Day</td>\n",
              "      <td>Day</td>\n",
              "    </tr>\n",
              "  </tbody>\n",
              "</table>\n",
              "</div>"
            ],
            "text/plain": [
              "                ID  Severity  ... Sunrise_Sunset Nautical_Twilight\n",
              "971927    A-971928         2  ...          Night             Night\n",
              "1565269  A-1565270         2  ...            Day               Day\n",
              "1983082  A-1983083         2  ...          Night             Night\n",
              "2874548  A-2874549         2  ...          Night             Night\n",
              "456547    A-456548         2  ...          Night               Day\n",
              "2656992  A-2656993         3  ...          Night             Night\n",
              "39286      A-39287         2  ...            Day               Day\n",
              "1338548  A-1338549         2  ...            Day               Day\n",
              "1057827  A-1057828         2  ...          Night             Night\n",
              "571852    A-571853         2  ...            Day               Day\n",
              "\n",
              "[10 rows x 25 columns]"
            ]
          },
          "metadata": {},
          "execution_count": 18
        }
      ]
    },
    {
      "cell_type": "markdown",
      "metadata": {
        "id": "jD2Yp_XKzdtV"
      },
      "source": [
        "## **Exploratory Analysis and Visualization**\n",
        "Let's begin by seeing where exactly the accidents are occuring. We'll do this by taking a 10% sample of the data and using the \"Start Longitude\" and \"Start Latitude\" columns."
      ]
    },
    {
      "cell_type": "code",
      "metadata": {
        "id": "bKJ6HR03zwvL"
      },
      "source": [
        "location_df = weather_df.sample(int(0.1 * len(weather_df)))"
      ],
      "execution_count": null,
      "outputs": []
    },
    {
      "cell_type": "code",
      "metadata": {
        "colab": {
          "base_uri": "https://localhost:8080/",
          "height": 301
        },
        "id": "8V2wIy3DzwiT",
        "outputId": "d614c4d8-2e21-4f89-be52-a06312f1f519"
      },
      "source": [
        "sns.scatterplot(x = location_df.Start_Lng, y = location_df.Start_Lat, size = 0.002)"
      ],
      "execution_count": null,
      "outputs": [
        {
          "output_type": "execute_result",
          "data": {
            "text/plain": [
              "<matplotlib.axes._subplots.AxesSubplot at 0x7fe843a74a10>"
            ]
          },
          "metadata": {},
          "execution_count": 20
        },
        {
          "output_type": "display_data",
          "data": {
            "image/png": "[encoded data removed]",
            "text/plain": [
              "<Figure size 432x288 with 1 Axes>"
            ]
          },
          "metadata": {}
        }
      ]
    },
    {
      "cell_type": "code",
      "metadata": {
        "id": "HAMjeaU_1BMg"
      },
      "source": [
        "latitude_longitude_pairs = list(zip(list(location_df.Start_Lat), list(location_df.Start_Lng)))"
      ],
      "execution_count": null,
      "outputs": []
    },
    {
      "cell_type": "code",
      "metadata": {
        "id": "GqDN8hwj1i5-"
      },
      "source": [
        "map = folium.Map()\n",
        "HeatMap(latitude_longitude_pairs, radius=20).add_to(map)\n",
        "map"
      ],
      "execution_count": null,
      "outputs": []
    },
    {
      "cell_type": "markdown",
      "metadata": {
        "id": "3L3AnJ7SJSwR"
      },
      "source": [
        "#### **Accidents per state**\n",
        "Let's get a more granular look into each of the states. I'm going to go more in-depth into some of the weather columns here."
      ]
    },
    {
      "cell_type": "code",
      "metadata": {
        "id": "NlYVrW9mJSVz"
      },
      "source": [
        "col_list = []\n",
        "col_list.append(weather_df.groupby(by='State')['ID'].count())\n",
        "for col in ['Temperature(F)', 'Wind_Chill(F)', 'Humidity(%)', 'Visibility(mi)', 'Wind_Speed(mph)', 'Precipitation(in)', 'Distance(mi)']:\n",
        "  avg_df = pd.DataFrame({f'avg_{col}': weather_df.groupby(by='State')[f'{col}'].mean()})\n",
        "  median_df = pd.DataFrame({f'median_{col}': weather_df.groupby(by='State')[f'{col}'].median()})\n",
        "  col_list.append(avg_df)\n",
        "  col_list.append(median_df)\n",
        "per_state = pd.concat(col_list, axis=1).rename(columns={'ID':'num_accidents'}).sort_values(by='num_accidents', ascending=False)"
      ],
      "execution_count": null,
      "outputs": []
    },
    {
      "cell_type": "code",
      "metadata": {
        "id": "UAGCvwGCJRlp",
        "colab": {
          "base_uri": "https://localhost:8080/",
          "height": 1000
        },
        "outputId": "7222267f-5d07-4d2d-a4fc-47a156d80d20"
      },
      "source": [
        "per_state"
      ],
      "execution_count": null,
      "outputs": [
        {
          "output_type": "execute_result",
          "data": {
            "text/html": [
              "<div>\n",
              "<style scoped>\n",
              "    .dataframe tbody tr th:only-of-type {\n",
              "        vertical-align: middle;\n",
              "    }\n",
              "\n",
              "    .dataframe tbody tr th {\n",
              "        vertical-align: top;\n",
              "    }\n",
              "\n",
              "    .dataframe thead th {\n",
              "        text-align: right;\n",
              "    }\n",
              "</style>\n",
              "<table border=\"1\" class=\"dataframe\">\n",
              "  <thead>\n",
              "    <tr style=\"text-align: right;\">\n",
              "      <th></th>\n",
              "      <th>num_accidents</th>\n",
              "      <th>avg_Temperature(F)</th>\n",
              "      <th>median_Temperature(F)</th>\n",
              "      <th>avg_Wind_Chill(F)</th>\n",
              "      <th>median_Wind_Chill(F)</th>\n",
              "      <th>avg_Humidity(%)</th>\n",
              "      <th>median_Humidity(%)</th>\n",
              "      <th>avg_Visibility(mi)</th>\n",
              "      <th>median_Visibility(mi)</th>\n",
              "      <th>avg_Wind_Speed(mph)</th>\n",
              "      <th>median_Wind_Speed(mph)</th>\n",
              "      <th>avg_Precipitation(in)</th>\n",
              "      <th>median_Precipitation(in)</th>\n",
              "      <th>avg_Distance(mi)</th>\n",
              "      <th>median_Distance(mi)</th>\n",
              "    </tr>\n",
              "    <tr>\n",
              "      <th>State</th>\n",
              "      <th></th>\n",
              "      <th></th>\n",
              "      <th></th>\n",
              "      <th></th>\n",
              "      <th></th>\n",
              "      <th></th>\n",
              "      <th></th>\n",
              "      <th></th>\n",
              "      <th></th>\n",
              "      <th></th>\n",
              "      <th></th>\n",
              "      <th></th>\n",
              "      <th></th>\n",
              "      <th></th>\n",
              "      <th></th>\n",
              "    </tr>\n",
              "  </thead>\n",
              "  <tbody>\n",
              "    <tr>\n",
              "      <th>CA</th>\n",
              "      <td>175919</td>\n",
              "      <td>51.329514</td>\n",
              "      <td>53.0</td>\n",
              "      <td>50.809705</td>\n",
              "      <td>53.0</td>\n",
              "      <td>71.713033</td>\n",
              "      <td>76.0</td>\n",
              "      <td>8.499376</td>\n",
              "      <td>10.0</td>\n",
              "      <td>4.341192</td>\n",
              "      <td>3.0</td>\n",
              "      <td>0.006979</td>\n",
              "      <td>0.0</td>\n",
              "      <td>0.233695</td>\n",
              "      <td>0.0000</td>\n",
              "    </tr>\n",
              "    <tr>\n",
              "      <th>OR</th>\n",
              "      <td>47389</td>\n",
              "      <td>44.763164</td>\n",
              "      <td>45.0</td>\n",
              "      <td>42.400745</td>\n",
              "      <td>42.5</td>\n",
              "      <td>78.475406</td>\n",
              "      <td>83.0</td>\n",
              "      <td>8.405169</td>\n",
              "      <td>10.0</td>\n",
              "      <td>6.672044</td>\n",
              "      <td>6.0</td>\n",
              "      <td>0.008257</td>\n",
              "      <td>0.0</td>\n",
              "      <td>0.728888</td>\n",
              "      <td>0.0730</td>\n",
              "    </tr>\n",
              "    <tr>\n",
              "      <th>MN</th>\n",
              "      <td>45901</td>\n",
              "      <td>27.467450</td>\n",
              "      <td>28.0</td>\n",
              "      <td>19.800619</td>\n",
              "      <td>21.0</td>\n",
              "      <td>76.643428</td>\n",
              "      <td>79.0</td>\n",
              "      <td>7.799774</td>\n",
              "      <td>10.0</td>\n",
              "      <td>9.345382</td>\n",
              "      <td>8.0</td>\n",
              "      <td>0.002562</td>\n",
              "      <td>0.0</td>\n",
              "      <td>0.572693</td>\n",
              "      <td>0.0050</td>\n",
              "    </tr>\n",
              "    <tr>\n",
              "      <th>NY</th>\n",
              "      <td>43219</td>\n",
              "      <td>41.371556</td>\n",
              "      <td>42.0</td>\n",
              "      <td>36.904244</td>\n",
              "      <td>37.7</td>\n",
              "      <td>72.063907</td>\n",
              "      <td>76.0</td>\n",
              "      <td>8.141543</td>\n",
              "      <td>10.0</td>\n",
              "      <td>9.391883</td>\n",
              "      <td>8.1</td>\n",
              "      <td>0.018399</td>\n",
              "      <td>0.0</td>\n",
              "      <td>0.590826</td>\n",
              "      <td>0.0100</td>\n",
              "    </tr>\n",
              "    <tr>\n",
              "      <th>PA</th>\n",
              "      <td>33345</td>\n",
              "      <td>41.945446</td>\n",
              "      <td>43.0</td>\n",
              "      <td>38.672689</td>\n",
              "      <td>39.0</td>\n",
              "      <td>73.398111</td>\n",
              "      <td>76.0</td>\n",
              "      <td>8.186396</td>\n",
              "      <td>10.0</td>\n",
              "      <td>7.041658</td>\n",
              "      <td>6.0</td>\n",
              "      <td>0.006806</td>\n",
              "      <td>0.0</td>\n",
              "      <td>0.895427</td>\n",
              "      <td>0.0920</td>\n",
              "    </tr>\n",
              "    <tr>\n",
              "      <th>TX</th>\n",
              "      <td>26937</td>\n",
              "      <td>48.364617</td>\n",
              "      <td>49.0</td>\n",
              "      <td>46.173089</td>\n",
              "      <td>47.0</td>\n",
              "      <td>72.238928</td>\n",
              "      <td>76.0</td>\n",
              "      <td>8.791128</td>\n",
              "      <td>10.0</td>\n",
              "      <td>7.916156</td>\n",
              "      <td>7.0</td>\n",
              "      <td>0.007083</td>\n",
              "      <td>0.0</td>\n",
              "      <td>0.296502</td>\n",
              "      <td>0.0130</td>\n",
              "    </tr>\n",
              "    <tr>\n",
              "      <th>VA</th>\n",
              "      <td>26821</td>\n",
              "      <td>45.676832</td>\n",
              "      <td>47.0</td>\n",
              "      <td>43.745871</td>\n",
              "      <td>44.0</td>\n",
              "      <td>74.561016</td>\n",
              "      <td>80.0</td>\n",
              "      <td>8.847909</td>\n",
              "      <td>10.0</td>\n",
              "      <td>5.999579</td>\n",
              "      <td>6.0</td>\n",
              "      <td>0.006628</td>\n",
              "      <td>0.0</td>\n",
              "      <td>0.824292</td>\n",
              "      <td>0.1940</td>\n",
              "    </tr>\n",
              "    <tr>\n",
              "      <th>SC</th>\n",
              "      <td>26153</td>\n",
              "      <td>47.214201</td>\n",
              "      <td>48.0</td>\n",
              "      <td>45.845253</td>\n",
              "      <td>46.0</td>\n",
              "      <td>74.809391</td>\n",
              "      <td>81.0</td>\n",
              "      <td>8.842672</td>\n",
              "      <td>10.0</td>\n",
              "      <td>4.843704</td>\n",
              "      <td>5.0</td>\n",
              "      <td>0.006004</td>\n",
              "      <td>0.0</td>\n",
              "      <td>0.194951</td>\n",
              "      <td>0.0000</td>\n",
              "    </tr>\n",
              "    <tr>\n",
              "      <th>NC</th>\n",
              "      <td>26010</td>\n",
              "      <td>46.961915</td>\n",
              "      <td>48.0</td>\n",
              "      <td>45.396959</td>\n",
              "      <td>46.0</td>\n",
              "      <td>74.733948</td>\n",
              "      <td>80.0</td>\n",
              "      <td>8.465482</td>\n",
              "      <td>10.0</td>\n",
              "      <td>5.427551</td>\n",
              "      <td>5.0</td>\n",
              "      <td>0.009046</td>\n",
              "      <td>0.0</td>\n",
              "      <td>0.317745</td>\n",
              "      <td>0.0000</td>\n",
              "    </tr>\n",
              "    <tr>\n",
              "      <th>MI</th>\n",
              "      <td>20800</td>\n",
              "      <td>36.624212</td>\n",
              "      <td>36.0</td>\n",
              "      <td>30.433106</td>\n",
              "      <td>30.0</td>\n",
              "      <td>76.820337</td>\n",
              "      <td>80.0</td>\n",
              "      <td>7.342885</td>\n",
              "      <td>10.0</td>\n",
              "      <td>9.943731</td>\n",
              "      <td>9.0</td>\n",
              "      <td>0.007434</td>\n",
              "      <td>0.0</td>\n",
              "      <td>0.398319</td>\n",
              "      <td>0.0100</td>\n",
              "    </tr>\n",
              "    <tr>\n",
              "      <th>IL</th>\n",
              "      <td>20172</td>\n",
              "      <td>38.384989</td>\n",
              "      <td>38.7</td>\n",
              "      <td>32.850654</td>\n",
              "      <td>33.0</td>\n",
              "      <td>74.687537</td>\n",
              "      <td>78.0</td>\n",
              "      <td>7.639591</td>\n",
              "      <td>10.0</td>\n",
              "      <td>9.842405</td>\n",
              "      <td>9.0</td>\n",
              "      <td>0.007653</td>\n",
              "      <td>0.0</td>\n",
              "      <td>0.306582</td>\n",
              "      <td>0.0000</td>\n",
              "    </tr>\n",
              "    <tr>\n",
              "      <th>FL</th>\n",
              "      <td>17649</td>\n",
              "      <td>51.734869</td>\n",
              "      <td>53.0</td>\n",
              "      <td>50.880237</td>\n",
              "      <td>53.0</td>\n",
              "      <td>76.643889</td>\n",
              "      <td>80.0</td>\n",
              "      <td>9.492185</td>\n",
              "      <td>10.0</td>\n",
              "      <td>6.118035</td>\n",
              "      <td>6.0</td>\n",
              "      <td>0.001166</td>\n",
              "      <td>0.0</td>\n",
              "      <td>0.541322</td>\n",
              "      <td>0.0610</td>\n",
              "    </tr>\n",
              "    <tr>\n",
              "      <th>UT</th>\n",
              "      <td>17634</td>\n",
              "      <td>39.702529</td>\n",
              "      <td>39.0</td>\n",
              "      <td>35.924538</td>\n",
              "      <td>35.0</td>\n",
              "      <td>65.682715</td>\n",
              "      <td>67.0</td>\n",
              "      <td>8.677860</td>\n",
              "      <td>10.0</td>\n",
              "      <td>7.409487</td>\n",
              "      <td>6.9</td>\n",
              "      <td>0.005709</td>\n",
              "      <td>0.0</td>\n",
              "      <td>0.439608</td>\n",
              "      <td>0.0000</td>\n",
              "    </tr>\n",
              "    <tr>\n",
              "      <th>NJ</th>\n",
              "      <td>14697</td>\n",
              "      <td>43.903586</td>\n",
              "      <td>44.0</td>\n",
              "      <td>40.588093</td>\n",
              "      <td>41.0</td>\n",
              "      <td>71.857794</td>\n",
              "      <td>76.0</td>\n",
              "      <td>7.998755</td>\n",
              "      <td>10.0</td>\n",
              "      <td>7.944172</td>\n",
              "      <td>7.0</td>\n",
              "      <td>0.018760</td>\n",
              "      <td>0.0</td>\n",
              "      <td>0.507104</td>\n",
              "      <td>0.0390</td>\n",
              "    </tr>\n",
              "    <tr>\n",
              "      <th>MD</th>\n",
              "      <td>14133</td>\n",
              "      <td>44.975759</td>\n",
              "      <td>46.0</td>\n",
              "      <td>42.972922</td>\n",
              "      <td>44.0</td>\n",
              "      <td>72.883747</td>\n",
              "      <td>77.0</td>\n",
              "      <td>8.798535</td>\n",
              "      <td>10.0</td>\n",
              "      <td>5.723024</td>\n",
              "      <td>5.0</td>\n",
              "      <td>0.004800</td>\n",
              "      <td>0.0</td>\n",
              "      <td>0.613565</td>\n",
              "      <td>0.2130</td>\n",
              "    </tr>\n",
              "    <tr>\n",
              "      <th>WA</th>\n",
              "      <td>14029</td>\n",
              "      <td>46.831948</td>\n",
              "      <td>47.0</td>\n",
              "      <td>44.727807</td>\n",
              "      <td>44.0</td>\n",
              "      <td>82.239932</td>\n",
              "      <td>86.0</td>\n",
              "      <td>8.435498</td>\n",
              "      <td>10.0</td>\n",
              "      <td>6.558857</td>\n",
              "      <td>6.0</td>\n",
              "      <td>0.008688</td>\n",
              "      <td>0.0</td>\n",
              "      <td>0.408043</td>\n",
              "      <td>0.0000</td>\n",
              "    </tr>\n",
              "    <tr>\n",
              "      <th>TN</th>\n",
              "      <td>13953</td>\n",
              "      <td>45.877109</td>\n",
              "      <td>47.0</td>\n",
              "      <td>43.803132</td>\n",
              "      <td>45.0</td>\n",
              "      <td>72.166989</td>\n",
              "      <td>76.0</td>\n",
              "      <td>8.621431</td>\n",
              "      <td>10.0</td>\n",
              "      <td>6.114900</td>\n",
              "      <td>6.0</td>\n",
              "      <td>0.007950</td>\n",
              "      <td>0.0</td>\n",
              "      <td>0.399030</td>\n",
              "      <td>0.0110</td>\n",
              "    </tr>\n",
              "    <tr>\n",
              "      <th>OH</th>\n",
              "      <td>12198</td>\n",
              "      <td>41.221553</td>\n",
              "      <td>42.0</td>\n",
              "      <td>36.575299</td>\n",
              "      <td>37.0</td>\n",
              "      <td>75.789392</td>\n",
              "      <td>80.0</td>\n",
              "      <td>7.906527</td>\n",
              "      <td>10.0</td>\n",
              "      <td>9.586588</td>\n",
              "      <td>9.0</td>\n",
              "      <td>0.007974</td>\n",
              "      <td>0.0</td>\n",
              "      <td>0.398375</td>\n",
              "      <td>0.0000</td>\n",
              "    </tr>\n",
              "    <tr>\n",
              "      <th>CO</th>\n",
              "      <td>11635</td>\n",
              "      <td>37.001693</td>\n",
              "      <td>37.0</td>\n",
              "      <td>32.344315</td>\n",
              "      <td>32.0</td>\n",
              "      <td>63.894542</td>\n",
              "      <td>67.0</td>\n",
              "      <td>9.400178</td>\n",
              "      <td>10.0</td>\n",
              "      <td>8.011440</td>\n",
              "      <td>7.0</td>\n",
              "      <td>0.002066</td>\n",
              "      <td>0.0</td>\n",
              "      <td>0.673857</td>\n",
              "      <td>0.0000</td>\n",
              "    </tr>\n",
              "    <tr>\n",
              "      <th>GA</th>\n",
              "      <td>9905</td>\n",
              "      <td>47.757708</td>\n",
              "      <td>49.0</td>\n",
              "      <td>45.852337</td>\n",
              "      <td>47.0</td>\n",
              "      <td>75.459162</td>\n",
              "      <td>81.0</td>\n",
              "      <td>8.509554</td>\n",
              "      <td>10.0</td>\n",
              "      <td>6.210722</td>\n",
              "      <td>6.0</td>\n",
              "      <td>0.011433</td>\n",
              "      <td>0.0</td>\n",
              "      <td>0.640557</td>\n",
              "      <td>0.1510</td>\n",
              "    </tr>\n",
              "    <tr>\n",
              "      <th>LA</th>\n",
              "      <td>8701</td>\n",
              "      <td>49.675026</td>\n",
              "      <td>51.0</td>\n",
              "      <td>48.485301</td>\n",
              "      <td>51.0</td>\n",
              "      <td>77.941271</td>\n",
              "      <td>83.0</td>\n",
              "      <td>9.106299</td>\n",
              "      <td>10.0</td>\n",
              "      <td>6.113746</td>\n",
              "      <td>6.0</td>\n",
              "      <td>0.005055</td>\n",
              "      <td>0.0</td>\n",
              "      <td>0.334577</td>\n",
              "      <td>0.0620</td>\n",
              "    </tr>\n",
              "    <tr>\n",
              "      <th>CT</th>\n",
              "      <td>8317</td>\n",
              "      <td>42.706757</td>\n",
              "      <td>43.0</td>\n",
              "      <td>39.431141</td>\n",
              "      <td>40.0</td>\n",
              "      <td>71.961525</td>\n",
              "      <td>76.0</td>\n",
              "      <td>8.231083</td>\n",
              "      <td>10.0</td>\n",
              "      <td>7.503751</td>\n",
              "      <td>7.0</td>\n",
              "      <td>0.008804</td>\n",
              "      <td>0.0</td>\n",
              "      <td>0.933762</td>\n",
              "      <td>0.5340</td>\n",
              "    </tr>\n",
              "    <tr>\n",
              "      <th>MA</th>\n",
              "      <td>7626</td>\n",
              "      <td>42.008891</td>\n",
              "      <td>42.0</td>\n",
              "      <td>37.864949</td>\n",
              "      <td>37.0</td>\n",
              "      <td>71.305140</td>\n",
              "      <td>77.0</td>\n",
              "      <td>7.641676</td>\n",
              "      <td>10.0</td>\n",
              "      <td>9.350157</td>\n",
              "      <td>9.0</td>\n",
              "      <td>0.010764</td>\n",
              "      <td>0.0</td>\n",
              "      <td>0.265601</td>\n",
              "      <td>0.0000</td>\n",
              "    </tr>\n",
              "    <tr>\n",
              "      <th>AZ</th>\n",
              "      <td>7591</td>\n",
              "      <td>49.904057</td>\n",
              "      <td>51.0</td>\n",
              "      <td>48.679265</td>\n",
              "      <td>51.0</td>\n",
              "      <td>48.395995</td>\n",
              "      <td>44.0</td>\n",
              "      <td>9.781774</td>\n",
              "      <td>10.0</td>\n",
              "      <td>5.744079</td>\n",
              "      <td>6.0</td>\n",
              "      <td>0.002272</td>\n",
              "      <td>0.0</td>\n",
              "      <td>0.464321</td>\n",
              "      <td>0.0230</td>\n",
              "    </tr>\n",
              "    <tr>\n",
              "      <th>MO</th>\n",
              "      <td>7574</td>\n",
              "      <td>41.517164</td>\n",
              "      <td>42.0</td>\n",
              "      <td>37.435133</td>\n",
              "      <td>38.0</td>\n",
              "      <td>74.568920</td>\n",
              "      <td>79.0</td>\n",
              "      <td>8.253185</td>\n",
              "      <td>10.0</td>\n",
              "      <td>8.526551</td>\n",
              "      <td>8.0</td>\n",
              "      <td>0.009002</td>\n",
              "      <td>0.0</td>\n",
              "      <td>0.416083</td>\n",
              "      <td>0.0515</td>\n",
              "    </tr>\n",
              "    <tr>\n",
              "      <th>AL</th>\n",
              "      <td>7046</td>\n",
              "      <td>47.833338</td>\n",
              "      <td>49.0</td>\n",
              "      <td>46.480329</td>\n",
              "      <td>49.0</td>\n",
              "      <td>75.040023</td>\n",
              "      <td>80.0</td>\n",
              "      <td>8.901246</td>\n",
              "      <td>10.0</td>\n",
              "      <td>5.358884</td>\n",
              "      <td>5.0</td>\n",
              "      <td>0.016557</td>\n",
              "      <td>0.0</td>\n",
              "      <td>0.486158</td>\n",
              "      <td>0.0000</td>\n",
              "    </tr>\n",
              "    <tr>\n",
              "      <th>IN</th>\n",
              "      <td>5355</td>\n",
              "      <td>40.025658</td>\n",
              "      <td>40.0</td>\n",
              "      <td>35.343081</td>\n",
              "      <td>35.0</td>\n",
              "      <td>77.044631</td>\n",
              "      <td>81.0</td>\n",
              "      <td>8.210155</td>\n",
              "      <td>10.0</td>\n",
              "      <td>8.789057</td>\n",
              "      <td>8.0</td>\n",
              "      <td>0.005514</td>\n",
              "      <td>0.0</td>\n",
              "      <td>0.988659</td>\n",
              "      <td>0.2150</td>\n",
              "    </tr>\n",
              "    <tr>\n",
              "      <th>OK</th>\n",
              "      <td>5280</td>\n",
              "      <td>44.973428</td>\n",
              "      <td>46.0</td>\n",
              "      <td>41.113258</td>\n",
              "      <td>41.0</td>\n",
              "      <td>72.011364</td>\n",
              "      <td>76.0</td>\n",
              "      <td>8.441388</td>\n",
              "      <td>10.0</td>\n",
              "      <td>10.572860</td>\n",
              "      <td>9.2</td>\n",
              "      <td>0.009652</td>\n",
              "      <td>0.0</td>\n",
              "      <td>0.064101</td>\n",
              "      <td>0.0000</td>\n",
              "    </tr>\n",
              "    <tr>\n",
              "      <th>WI</th>\n",
              "      <td>3899</td>\n",
              "      <td>36.552757</td>\n",
              "      <td>36.0</td>\n",
              "      <td>30.762529</td>\n",
              "      <td>30.0</td>\n",
              "      <td>76.392152</td>\n",
              "      <td>80.0</td>\n",
              "      <td>7.402655</td>\n",
              "      <td>10.0</td>\n",
              "      <td>9.534240</td>\n",
              "      <td>9.0</td>\n",
              "      <td>0.009769</td>\n",
              "      <td>0.0</td>\n",
              "      <td>0.529608</td>\n",
              "      <td>0.0000</td>\n",
              "    </tr>\n",
              "    <tr>\n",
              "      <th>IA</th>\n",
              "      <td>3565</td>\n",
              "      <td>33.172202</td>\n",
              "      <td>32.0</td>\n",
              "      <td>26.016353</td>\n",
              "      <td>25.0</td>\n",
              "      <td>79.450491</td>\n",
              "      <td>83.0</td>\n",
              "      <td>7.829515</td>\n",
              "      <td>10.0</td>\n",
              "      <td>10.790182</td>\n",
              "      <td>9.2</td>\n",
              "      <td>0.003980</td>\n",
              "      <td>0.0</td>\n",
              "      <td>2.085764</td>\n",
              "      <td>0.8970</td>\n",
              "    </tr>\n",
              "    <tr>\n",
              "      <th>KY</th>\n",
              "      <td>3524</td>\n",
              "      <td>43.407094</td>\n",
              "      <td>44.1</td>\n",
              "      <td>39.952157</td>\n",
              "      <td>41.0</td>\n",
              "      <td>74.454313</td>\n",
              "      <td>79.0</td>\n",
              "      <td>8.032804</td>\n",
              "      <td>10.0</td>\n",
              "      <td>7.922588</td>\n",
              "      <td>7.0</td>\n",
              "      <td>0.009606</td>\n",
              "      <td>0.0</td>\n",
              "      <td>0.479416</td>\n",
              "      <td>0.0000</td>\n",
              "    </tr>\n",
              "    <tr>\n",
              "      <th>MT</th>\n",
              "      <td>2803</td>\n",
              "      <td>27.924759</td>\n",
              "      <td>27.0</td>\n",
              "      <td>22.633892</td>\n",
              "      <td>23.0</td>\n",
              "      <td>74.361399</td>\n",
              "      <td>79.0</td>\n",
              "      <td>8.303336</td>\n",
              "      <td>10.0</td>\n",
              "      <td>7.167785</td>\n",
              "      <td>6.0</td>\n",
              "      <td>0.001727</td>\n",
              "      <td>0.0</td>\n",
              "      <td>1.314102</td>\n",
              "      <td>0.2770</td>\n",
              "    </tr>\n",
              "    <tr>\n",
              "      <th>NE</th>\n",
              "      <td>2446</td>\n",
              "      <td>36.066844</td>\n",
              "      <td>35.1</td>\n",
              "      <td>30.296239</td>\n",
              "      <td>31.0</td>\n",
              "      <td>73.826656</td>\n",
              "      <td>77.0</td>\n",
              "      <td>8.233336</td>\n",
              "      <td>10.0</td>\n",
              "      <td>9.520196</td>\n",
              "      <td>8.1</td>\n",
              "      <td>0.004918</td>\n",
              "      <td>0.0</td>\n",
              "      <td>0.576403</td>\n",
              "      <td>0.0000</td>\n",
              "    </tr>\n",
              "    <tr>\n",
              "      <th>AR</th>\n",
              "      <td>2302</td>\n",
              "      <td>46.152997</td>\n",
              "      <td>47.0</td>\n",
              "      <td>44.177237</td>\n",
              "      <td>44.0</td>\n",
              "      <td>79.956125</td>\n",
              "      <td>85.0</td>\n",
              "      <td>8.761599</td>\n",
              "      <td>10.0</td>\n",
              "      <td>6.076629</td>\n",
              "      <td>6.0</td>\n",
              "      <td>0.009049</td>\n",
              "      <td>0.0</td>\n",
              "      <td>1.314417</td>\n",
              "      <td>0.3855</td>\n",
              "    </tr>\n",
              "    <tr>\n",
              "      <th>ID</th>\n",
              "      <td>2187</td>\n",
              "      <td>36.968313</td>\n",
              "      <td>37.0</td>\n",
              "      <td>32.672840</td>\n",
              "      <td>32.0</td>\n",
              "      <td>72.286694</td>\n",
              "      <td>75.0</td>\n",
              "      <td>8.779995</td>\n",
              "      <td>10.0</td>\n",
              "      <td>7.171148</td>\n",
              "      <td>6.0</td>\n",
              "      <td>0.003457</td>\n",
              "      <td>0.0</td>\n",
              "      <td>1.663192</td>\n",
              "      <td>0.5230</td>\n",
              "    </tr>\n",
              "    <tr>\n",
              "      <th>NH</th>\n",
              "      <td>2034</td>\n",
              "      <td>35.321141</td>\n",
              "      <td>33.1</td>\n",
              "      <td>30.313078</td>\n",
              "      <td>28.0</td>\n",
              "      <td>77.508850</td>\n",
              "      <td>85.0</td>\n",
              "      <td>6.295118</td>\n",
              "      <td>9.0</td>\n",
              "      <td>7.228958</td>\n",
              "      <td>6.9</td>\n",
              "      <td>0.014140</td>\n",
              "      <td>0.0</td>\n",
              "      <td>0.501390</td>\n",
              "      <td>0.0000</td>\n",
              "    </tr>\n",
              "    <tr>\n",
              "      <th>RI</th>\n",
              "      <td>2005</td>\n",
              "      <td>42.271521</td>\n",
              "      <td>43.0</td>\n",
              "      <td>37.825436</td>\n",
              "      <td>38.0</td>\n",
              "      <td>76.434414</td>\n",
              "      <td>85.0</td>\n",
              "      <td>7.655561</td>\n",
              "      <td>10.0</td>\n",
              "      <td>10.068180</td>\n",
              "      <td>9.0</td>\n",
              "      <td>0.018414</td>\n",
              "      <td>0.0</td>\n",
              "      <td>0.333371</td>\n",
              "      <td>0.0000</td>\n",
              "    </tr>\n",
              "    <tr>\n",
              "      <th>KS</th>\n",
              "      <td>2000</td>\n",
              "      <td>40.132150</td>\n",
              "      <td>40.0</td>\n",
              "      <td>35.731750</td>\n",
              "      <td>36.0</td>\n",
              "      <td>74.000000</td>\n",
              "      <td>77.0</td>\n",
              "      <td>8.148755</td>\n",
              "      <td>10.0</td>\n",
              "      <td>8.733100</td>\n",
              "      <td>8.0</td>\n",
              "      <td>0.006865</td>\n",
              "      <td>0.0</td>\n",
              "      <td>0.776829</td>\n",
              "      <td>0.3175</td>\n",
              "    </tr>\n",
              "    <tr>\n",
              "      <th>DC</th>\n",
              "      <td>1935</td>\n",
              "      <td>48.078501</td>\n",
              "      <td>50.0</td>\n",
              "      <td>45.760775</td>\n",
              "      <td>50.0</td>\n",
              "      <td>68.170543</td>\n",
              "      <td>71.0</td>\n",
              "      <td>9.384408</td>\n",
              "      <td>10.0</td>\n",
              "      <td>8.087700</td>\n",
              "      <td>8.0</td>\n",
              "      <td>0.003494</td>\n",
              "      <td>0.0</td>\n",
              "      <td>0.273573</td>\n",
              "      <td>0.0920</td>\n",
              "    </tr>\n",
              "    <tr>\n",
              "      <th>NV</th>\n",
              "      <td>1778</td>\n",
              "      <td>40.843532</td>\n",
              "      <td>41.0</td>\n",
              "      <td>38.167042</td>\n",
              "      <td>38.0</td>\n",
              "      <td>57.423510</td>\n",
              "      <td>57.0</td>\n",
              "      <td>9.225112</td>\n",
              "      <td>10.0</td>\n",
              "      <td>5.957143</td>\n",
              "      <td>5.0</td>\n",
              "      <td>0.003363</td>\n",
              "      <td>0.0</td>\n",
              "      <td>0.717825</td>\n",
              "      <td>0.0000</td>\n",
              "    </tr>\n",
              "    <tr>\n",
              "      <th>DE</th>\n",
              "      <td>1489</td>\n",
              "      <td>46.101813</td>\n",
              "      <td>48.0</td>\n",
              "      <td>43.272196</td>\n",
              "      <td>44.0</td>\n",
              "      <td>70.007388</td>\n",
              "      <td>73.0</td>\n",
              "      <td>8.683412</td>\n",
              "      <td>10.0</td>\n",
              "      <td>9.244997</td>\n",
              "      <td>8.0</td>\n",
              "      <td>0.005668</td>\n",
              "      <td>0.0</td>\n",
              "      <td>0.475559</td>\n",
              "      <td>0.0000</td>\n",
              "    </tr>\n",
              "    <tr>\n",
              "      <th>WV</th>\n",
              "      <td>1360</td>\n",
              "      <td>39.781471</td>\n",
              "      <td>40.0</td>\n",
              "      <td>36.650882</td>\n",
              "      <td>38.0</td>\n",
              "      <td>77.751471</td>\n",
              "      <td>82.0</td>\n",
              "      <td>8.072647</td>\n",
              "      <td>10.0</td>\n",
              "      <td>5.571324</td>\n",
              "      <td>5.0</td>\n",
              "      <td>0.006493</td>\n",
              "      <td>0.0</td>\n",
              "      <td>1.082970</td>\n",
              "      <td>0.4505</td>\n",
              "    </tr>\n",
              "    <tr>\n",
              "      <th>NM</th>\n",
              "      <td>982</td>\n",
              "      <td>39.403462</td>\n",
              "      <td>40.0</td>\n",
              "      <td>35.796945</td>\n",
              "      <td>36.0</td>\n",
              "      <td>54.315682</td>\n",
              "      <td>53.0</td>\n",
              "      <td>9.369613</td>\n",
              "      <td>10.0</td>\n",
              "      <td>7.714358</td>\n",
              "      <td>6.9</td>\n",
              "      <td>0.002383</td>\n",
              "      <td>0.0</td>\n",
              "      <td>1.664563</td>\n",
              "      <td>0.0450</td>\n",
              "    </tr>\n",
              "    <tr>\n",
              "      <th>MS</th>\n",
              "      <td>960</td>\n",
              "      <td>47.330208</td>\n",
              "      <td>48.0</td>\n",
              "      <td>45.950417</td>\n",
              "      <td>48.0</td>\n",
              "      <td>78.427083</td>\n",
              "      <td>83.0</td>\n",
              "      <td>8.709427</td>\n",
              "      <td>10.0</td>\n",
              "      <td>5.236667</td>\n",
              "      <td>5.0</td>\n",
              "      <td>0.006969</td>\n",
              "      <td>0.0</td>\n",
              "      <td>0.678784</td>\n",
              "      <td>0.2440</td>\n",
              "    </tr>\n",
              "    <tr>\n",
              "      <th>ME</th>\n",
              "      <td>710</td>\n",
              "      <td>36.093380</td>\n",
              "      <td>34.0</td>\n",
              "      <td>30.920423</td>\n",
              "      <td>29.0</td>\n",
              "      <td>76.511268</td>\n",
              "      <td>83.0</td>\n",
              "      <td>6.987183</td>\n",
              "      <td>10.0</td>\n",
              "      <td>7.953521</td>\n",
              "      <td>7.0</td>\n",
              "      <td>0.012577</td>\n",
              "      <td>0.0</td>\n",
              "      <td>0.708618</td>\n",
              "      <td>0.1615</td>\n",
              "    </tr>\n",
              "    <tr>\n",
              "      <th>ND</th>\n",
              "      <td>381</td>\n",
              "      <td>25.582152</td>\n",
              "      <td>25.0</td>\n",
              "      <td>16.095013</td>\n",
              "      <td>16.0</td>\n",
              "      <td>80.937008</td>\n",
              "      <td>84.0</td>\n",
              "      <td>8.235696</td>\n",
              "      <td>10.0</td>\n",
              "      <td>11.323885</td>\n",
              "      <td>10.0</td>\n",
              "      <td>0.000551</td>\n",
              "      <td>0.0</td>\n",
              "      <td>2.094528</td>\n",
              "      <td>1.0080</td>\n",
              "    </tr>\n",
              "    <tr>\n",
              "      <th>VT</th>\n",
              "      <td>225</td>\n",
              "      <td>33.345333</td>\n",
              "      <td>32.0</td>\n",
              "      <td>28.332444</td>\n",
              "      <td>27.5</td>\n",
              "      <td>75.853333</td>\n",
              "      <td>82.0</td>\n",
              "      <td>6.816667</td>\n",
              "      <td>10.0</td>\n",
              "      <td>6.752444</td>\n",
              "      <td>6.0</td>\n",
              "      <td>0.006889</td>\n",
              "      <td>0.0</td>\n",
              "      <td>1.498676</td>\n",
              "      <td>0.1600</td>\n",
              "    </tr>\n",
              "    <tr>\n",
              "      <th>WY</th>\n",
              "      <td>142</td>\n",
              "      <td>30.241549</td>\n",
              "      <td>28.0</td>\n",
              "      <td>21.491549</td>\n",
              "      <td>19.0</td>\n",
              "      <td>73.528169</td>\n",
              "      <td>80.0</td>\n",
              "      <td>7.726761</td>\n",
              "      <td>10.0</td>\n",
              "      <td>13.378873</td>\n",
              "      <td>13.0</td>\n",
              "      <td>0.002465</td>\n",
              "      <td>0.0</td>\n",
              "      <td>7.961803</td>\n",
              "      <td>1.3755</td>\n",
              "    </tr>\n",
              "    <tr>\n",
              "      <th>SD</th>\n",
              "      <td>100</td>\n",
              "      <td>45.675000</td>\n",
              "      <td>52.0</td>\n",
              "      <td>42.295000</td>\n",
              "      <td>52.0</td>\n",
              "      <td>69.900000</td>\n",
              "      <td>70.5</td>\n",
              "      <td>9.186000</td>\n",
              "      <td>10.0</td>\n",
              "      <td>9.013000</td>\n",
              "      <td>7.5</td>\n",
              "      <td>0.001000</td>\n",
              "      <td>0.0</td>\n",
              "      <td>1.579350</td>\n",
              "      <td>0.0820</td>\n",
              "    </tr>\n",
              "  </tbody>\n",
              "</table>\n",
              "</div>"
            ],
            "text/plain": [
              "       num_accidents  avg_Temperature(F)  ...  avg_Distance(mi)  median_Distance(mi)\n",
              "State                                     ...                                       \n",
              "CA            175919           51.329514  ...          0.233695               0.0000\n",
              "OR             47389           44.763164  ...          0.728888               0.0730\n",
              "MN             45901           27.467450  ...          0.572693               0.0050\n",
              "NY             43219           41.371556  ...          0.590826               0.0100\n",
              "PA             33345           41.945446  ...          0.895427               0.0920\n",
              "TX             26937           48.364617  ...          0.296502               0.0130\n",
              "VA             26821           45.676832  ...          0.824292               0.1940\n",
              "SC             26153           47.214201  ...          0.194951               0.0000\n",
              "NC             26010           46.961915  ...          0.317745               0.0000\n",
              "MI             20800           36.624212  ...          0.398319               0.0100\n",
              "IL             20172           38.384989  ...          0.306582               0.0000\n",
              "FL             17649           51.734869  ...          0.541322               0.0610\n",
              "UT             17634           39.702529  ...          0.439608               0.0000\n",
              "NJ             14697           43.903586  ...          0.507104               0.0390\n",
              "MD             14133           44.975759  ...          0.613565               0.2130\n",
              "WA             14029           46.831948  ...          0.408043               0.0000\n",
              "TN             13953           45.877109  ...          0.399030               0.0110\n",
              "OH             12198           41.221553  ...          0.398375               0.0000\n",
              "CO             11635           37.001693  ...          0.673857               0.0000\n",
              "GA              9905           47.757708  ...          0.640557               0.1510\n",
              "LA              8701           49.675026  ...          0.334577               0.0620\n",
              "CT              8317           42.706757  ...          0.933762               0.5340\n",
              "MA              7626           42.008891  ...          0.265601               0.0000\n",
              "AZ              7591           49.904057  ...          0.464321               0.0230\n",
              "MO              7574           41.517164  ...          0.416083               0.0515\n",
              "AL              7046           47.833338  ...          0.486158               0.0000\n",
              "IN              5355           40.025658  ...          0.988659               0.2150\n",
              "OK              5280           44.973428  ...          0.064101               0.0000\n",
              "WI              3899           36.552757  ...          0.529608               0.0000\n",
              "IA              3565           33.172202  ...          2.085764               0.8970\n",
              "KY              3524           43.407094  ...          0.479416               0.0000\n",
              "MT              2803           27.924759  ...          1.314102               0.2770\n",
              "NE              2446           36.066844  ...          0.576403               0.0000\n",
              "AR              2302           46.152997  ...          1.314417               0.3855\n",
              "ID              2187           36.968313  ...          1.663192               0.5230\n",
              "NH              2034           35.321141  ...          0.501390               0.0000\n",
              "RI              2005           42.271521  ...          0.333371               0.0000\n",
              "KS              2000           40.132150  ...          0.776829               0.3175\n",
              "DC              1935           48.078501  ...          0.273573               0.0920\n",
              "NV              1778           40.843532  ...          0.717825               0.0000\n",
              "DE              1489           46.101813  ...          0.475559               0.0000\n",
              "WV              1360           39.781471  ...          1.082970               0.4505\n",
              "NM               982           39.403462  ...          1.664563               0.0450\n",
              "MS               960           47.330208  ...          0.678784               0.2440\n",
              "ME               710           36.093380  ...          0.708618               0.1615\n",
              "ND               381           25.582152  ...          2.094528               1.0080\n",
              "VT               225           33.345333  ...          1.498676               0.1600\n",
              "WY               142           30.241549  ...          7.961803               1.3755\n",
              "SD               100           45.675000  ...          1.579350               0.0820\n",
              "\n",
              "[49 rows x 15 columns]"
            ]
          },
          "metadata": {},
          "execution_count": 22
        }
      ]
    },
    {
      "cell_type": "markdown",
      "metadata": {
        "id": "4JT8ICL7pTlZ"
      },
      "source": [
        "We can see the top 10 states by number of accidents generally have the same average and median temperature, with the exception of Minnesota which has the lowest temperature."
      ]
    },
    {
      "cell_type": "markdown",
      "metadata": {
        "id": "f82leaMFXuRc"
      },
      "source": [
        "## Top ten states by number of accidents\n",
        "\n",
        "<img src=\"https://drive.google.com/uc?export=view&id=1eV6dXmtfTtsB_kSZvQmzfe6QjuGr8j_z\" alt=\"top ten states by number of accidents diagram\" width=\"450\"/>"
      ]
    },
    {
      "cell_type": "markdown",
      "metadata": {
        "id": "E2Ci1qUiSylU"
      },
      "source": [
        "### **Some more key takeaways for all states:**\n",
        "- the most common temperature per state was from **40 - 50 degrees** Fahrenheit  \n",
        "- most days when accidents happened had a **humidity of 76% - 80%**\n",
        "- during an accident, the distance a **vehicle traveled was 0.16 miles** on average \n",
        "- the **average wind speed** for the accidents in all states was **7.14 miles** per hour "
      ]
    },
    {
      "cell_type": "markdown",
      "metadata": {
        "id": "MHp141ggFaP7"
      },
      "source": [
        "### **Digging deeper into when accidents tend to occur**\n",
        "Let's also look at the most popular times of the day when accidents happen in each state and for how long an accident typically lasted. Even though the time an accident happened is not the main focus of this notebook, I am doing this just to understand the dataset a little bit more.\n",
        "\n",
        "**Note:** I am adding 24 hours to the duration values that negative to make them the actual duration of the accident. A negative duration indicates that the accident started on one day, and ended on another day. By adding 24 hours to this, we can ensure that we get the correct accident duration. \n",
        "  - For example, let's consider an accident which started at 23:00 on Monday, and ended at 3:00 on Tuesday. The duration for this accident should be 4 hours, but subtracting 3:00 - 23:00 we get -20 hours. Only by adding 24 to -20, do we get the actual duration of 4 hours.\n",
        "\n"
      ]
    },
    {
      "cell_type": "code",
      "metadata": {
        "id": "nYYxOrgyJRtm"
      },
      "source": [
        "time_df = pd.DataFrame(\n",
        "    {   'ID': weather_df.ID,\n",
        "        'State': weather_df.State,\n",
        "        'start_hour': weather_df.Start_Time.astype(str).str[11:13],\n",
        "        'end_hour': weather_df.End_Time.astype(str).str[11:13],\n",
        "        'duration': weather_df.End_Time.astype(str).str[11:13].astype(float) - weather_df.Start_Time.astype(str).str[11:13].astype(float)\n",
        "     })\n",
        "time_df['duration'] = time_df['duration'].mask(time_df['duration'] < 0, 24 + time_df['duration'])"
      ],
      "execution_count": null,
      "outputs": []
    },
    {
      "cell_type": "code",
      "metadata": {
        "colab": {
          "base_uri": "https://localhost:8080/",
          "height": 422
        },
        "id": "MehiT9QUJBD-",
        "outputId": "26bfdfad-e37f-41d6-8493-c13fe3fb855e"
      },
      "source": [
        "time_df.sort_values(by='duration', ascending=False)"
      ],
      "execution_count": null,
      "outputs": [
        {
          "output_type": "execute_result",
          "data": {
            "text/html": [
              "<div>\n",
              "<style scoped>\n",
              "    .dataframe tbody tr th:only-of-type {\n",
              "        vertical-align: middle;\n",
              "    }\n",
              "\n",
              "    .dataframe tbody tr th {\n",
              "        vertical-align: top;\n",
              "    }\n",
              "\n",
              "    .dataframe thead th {\n",
              "        text-align: right;\n",
              "    }\n",
              "</style>\n",
              "<table border=\"1\" class=\"dataframe\">\n",
              "  <thead>\n",
              "    <tr style=\"text-align: right;\">\n",
              "      <th></th>\n",
              "      <th>ID</th>\n",
              "      <th>State</th>\n",
              "      <th>start_hour</th>\n",
              "      <th>end_hour</th>\n",
              "      <th>duration</th>\n",
              "    </tr>\n",
              "  </thead>\n",
              "  <tbody>\n",
              "    <tr>\n",
              "      <th>2156733</th>\n",
              "      <td>A-2156734</td>\n",
              "      <td>WA</td>\n",
              "      <td>01</td>\n",
              "      <td>00</td>\n",
              "      <td>23.0</td>\n",
              "    </tr>\n",
              "    <tr>\n",
              "      <th>1564540</th>\n",
              "      <td>A-1564541</td>\n",
              "      <td>WA</td>\n",
              "      <td>01</td>\n",
              "      <td>00</td>\n",
              "      <td>23.0</td>\n",
              "    </tr>\n",
              "    <tr>\n",
              "      <th>2650252</th>\n",
              "      <td>A-2650253</td>\n",
              "      <td>WA</td>\n",
              "      <td>01</td>\n",
              "      <td>00</td>\n",
              "      <td>23.0</td>\n",
              "    </tr>\n",
              "    <tr>\n",
              "      <th>1317386</th>\n",
              "      <td>A-1317387</td>\n",
              "      <td>TN</td>\n",
              "      <td>18</td>\n",
              "      <td>17</td>\n",
              "      <td>23.0</td>\n",
              "    </tr>\n",
              "    <tr>\n",
              "      <th>1088931</th>\n",
              "      <td>A-1088932</td>\n",
              "      <td>WA</td>\n",
              "      <td>01</td>\n",
              "      <td>00</td>\n",
              "      <td>23.0</td>\n",
              "    </tr>\n",
              "    <tr>\n",
              "      <th>...</th>\n",
              "      <td>...</td>\n",
              "      <td>...</td>\n",
              "      <td>...</td>\n",
              "      <td>...</td>\n",
              "      <td>...</td>\n",
              "    </tr>\n",
              "    <tr>\n",
              "      <th>2534111</th>\n",
              "      <td>A-2534112</td>\n",
              "      <td>NJ</td>\n",
              "      <td>10</td>\n",
              "      <td>10</td>\n",
              "      <td>0.0</td>\n",
              "    </tr>\n",
              "    <tr>\n",
              "      <th>2534106</th>\n",
              "      <td>A-2534107</td>\n",
              "      <td>WA</td>\n",
              "      <td>11</td>\n",
              "      <td>11</td>\n",
              "      <td>0.0</td>\n",
              "    </tr>\n",
              "    <tr>\n",
              "      <th>622267</th>\n",
              "      <td>A-622268</td>\n",
              "      <td>CA</td>\n",
              "      <td>19</td>\n",
              "      <td>19</td>\n",
              "      <td>0.0</td>\n",
              "    </tr>\n",
              "    <tr>\n",
              "      <th>622272</th>\n",
              "      <td>A-622273</td>\n",
              "      <td>IN</td>\n",
              "      <td>17</td>\n",
              "      <td>17</td>\n",
              "      <td>0.0</td>\n",
              "    </tr>\n",
              "    <tr>\n",
              "      <th>1816878</th>\n",
              "      <td>A-1816879</td>\n",
              "      <td>CA</td>\n",
              "      <td>11</td>\n",
              "      <td>11</td>\n",
              "      <td>0.0</td>\n",
              "    </tr>\n",
              "  </tbody>\n",
              "</table>\n",
              "<p>712816 rows × 5 columns</p>\n",
              "</div>"
            ],
            "text/plain": [
              "                ID State start_hour end_hour  duration\n",
              "2156733  A-2156734    WA         01       00      23.0\n",
              "1564540  A-1564541    WA         01       00      23.0\n",
              "2650252  A-2650253    WA         01       00      23.0\n",
              "1317386  A-1317387    TN         18       17      23.0\n",
              "1088931  A-1088932    WA         01       00      23.0\n",
              "...            ...   ...        ...      ...       ...\n",
              "2534111  A-2534112    NJ         10       10       0.0\n",
              "2534106  A-2534107    WA         11       11       0.0\n",
              "622267    A-622268    CA         19       19       0.0\n",
              "622272    A-622273    IN         17       17       0.0\n",
              "1816878  A-1816879    CA         11       11       0.0\n",
              "\n",
              "[712816 rows x 5 columns]"
            ]
          },
          "metadata": {},
          "execution_count": 26
        }
      ]
    },
    {
      "cell_type": "code",
      "metadata": {
        "colab": {
          "base_uri": "https://localhost:8080/"
        },
        "id": "8z3dbGH7JSOb",
        "outputId": "8dfcbfbb-e287-43a4-f8ed-9c7f42cbd78e"
      },
      "source": [
        "time_df['duration'].mode()"
      ],
      "execution_count": null,
      "outputs": [
        {
          "output_type": "execute_result",
          "data": {
            "text/plain": [
              "0    1.0\n",
              "dtype: float64"
            ]
          },
          "metadata": {},
          "execution_count": 6
        }
      ]
    },
    {
      "cell_type": "code",
      "metadata": {
        "colab": {
          "base_uri": "https://localhost:8080/"
        },
        "id": "4VBRYnxuJips",
        "outputId": "fdc49342-5623-4a7f-b164-d24d662ce9ba"
      },
      "source": [
        "time_df['start_hour'].mode()"
      ],
      "execution_count": null,
      "outputs": [
        {
          "output_type": "execute_result",
          "data": {
            "text/plain": [
              "0    07\n",
              "dtype: object"
            ]
          },
          "metadata": {},
          "execution_count": 8
        }
      ]
    },
    {
      "cell_type": "code",
      "metadata": {
        "colab": {
          "base_uri": "https://localhost:8080/"
        },
        "id": "wTBfySVNJSEd",
        "outputId": "4d561a92-af7e-48ba-f314-b0add1cfe7bd"
      },
      "source": [
        "time_df['end_hour'].mode()"
      ],
      "execution_count": null,
      "outputs": [
        {
          "output_type": "execute_result",
          "data": {
            "text/plain": [
              "0    08\n",
              "dtype: object"
            ]
          },
          "metadata": {},
          "execution_count": 9
        }
      ]
    },
    {
      "cell_type": "markdown",
      "metadata": {
        "id": "LTHmCkPcJ1AG"
      },
      "source": [
        "**Key Observations:** \n",
        "- majority of accidents last for one hour\n",
        "- most accidents start at 7AM and end at 8AM\n",
        "  - I am assuming this is due to most people driving to work/school in the mornings which lead to increased traffic in the mornings. There is also an added factor of urgency, as people have a start time for work/school, which may make drivers more irrational to get to their destination on time.\n",
        "\n",
        "Note: I am using mode instead of mean for these calculations as to not skew the results because of a few outlier accidents that lasted a long time.  \n"
      ]
    },
    {
      "cell_type": "markdown",
      "metadata": {
        "id": "ZlH-0aYgHvAF"
      },
      "source": [
        "Let's now break those values up per state."
      ]
    },
    {
      "cell_type": "code",
      "metadata": {
        "id": "jnRI6YQrKY_3"
      },
      "source": [
        "time_per_state = pd.DataFrame({\n",
        "    'duration_mode': time_df.groupby(by='State')['duration'].agg(lambda x: x.value_counts().index[0]).sort_values(ascending=False),\n",
        "    'duration_mean': time_df.groupby(by='State')['duration'].mean(),\n",
        "    'start_hr_mode': time_df.groupby(by='State')['start_hour'].agg(lambda x: x.value_counts().index[0]).sort_values(ascending=False),\n",
        "    'end_hr_mode': time_df.groupby(by='State')['end_hour'].agg(lambda x: x.value_counts().index[0]).sort_values(ascending=False)\n",
        "})"
      ],
      "execution_count": null,
      "outputs": []
    },
    {
      "cell_type": "code",
      "metadata": {
        "id": "-TbEMVnkKZIi",
        "colab": {
          "base_uri": "https://localhost:8080/",
          "height": 1000
        },
        "outputId": "e4e03e72-fa28-4599-cdbe-8304359ff42b"
      },
      "source": [
        "time_per_state"
      ],
      "execution_count": null,
      "outputs": [
        {
          "output_type": "execute_result",
          "data": {
            "text/html": [
              "<div>\n",
              "<style scoped>\n",
              "    .dataframe tbody tr th:only-of-type {\n",
              "        vertical-align: middle;\n",
              "    }\n",
              "\n",
              "    .dataframe tbody tr th {\n",
              "        vertical-align: top;\n",
              "    }\n",
              "\n",
              "    .dataframe thead th {\n",
              "        text-align: right;\n",
              "    }\n",
              "</style>\n",
              "<table border=\"1\" class=\"dataframe\">\n",
              "  <thead>\n",
              "    <tr style=\"text-align: right;\">\n",
              "      <th></th>\n",
              "      <th>duration_mode</th>\n",
              "      <th>duration_mean</th>\n",
              "      <th>start_hr_mode</th>\n",
              "      <th>end_hr_mode</th>\n",
              "    </tr>\n",
              "  </thead>\n",
              "  <tbody>\n",
              "    <tr>\n",
              "      <th>AL</th>\n",
              "      <td>1.0</td>\n",
              "      <td>1.760006</td>\n",
              "      <td>07</td>\n",
              "      <td>08</td>\n",
              "    </tr>\n",
              "    <tr>\n",
              "      <th>AR</th>\n",
              "      <td>2.0</td>\n",
              "      <td>2.114683</td>\n",
              "      <td>01</td>\n",
              "      <td>01</td>\n",
              "    </tr>\n",
              "    <tr>\n",
              "      <th>AZ</th>\n",
              "      <td>1.0</td>\n",
              "      <td>1.797392</td>\n",
              "      <td>07</td>\n",
              "      <td>08</td>\n",
              "    </tr>\n",
              "    <tr>\n",
              "      <th>CA</th>\n",
              "      <td>1.0</td>\n",
              "      <td>1.850181</td>\n",
              "      <td>07</td>\n",
              "      <td>08</td>\n",
              "    </tr>\n",
              "    <tr>\n",
              "      <th>CO</th>\n",
              "      <td>1.0</td>\n",
              "      <td>1.150580</td>\n",
              "      <td>07</td>\n",
              "      <td>08</td>\n",
              "    </tr>\n",
              "    <tr>\n",
              "      <th>CT</th>\n",
              "      <td>1.0</td>\n",
              "      <td>2.548275</td>\n",
              "      <td>07</td>\n",
              "      <td>00</td>\n",
              "    </tr>\n",
              "    <tr>\n",
              "      <th>DC</th>\n",
              "      <td>1.0</td>\n",
              "      <td>2.219121</td>\n",
              "      <td>07</td>\n",
              "      <td>07</td>\n",
              "    </tr>\n",
              "    <tr>\n",
              "      <th>DE</th>\n",
              "      <td>1.0</td>\n",
              "      <td>1.303559</td>\n",
              "      <td>08</td>\n",
              "      <td>08</td>\n",
              "    </tr>\n",
              "    <tr>\n",
              "      <th>FL</th>\n",
              "      <td>2.0</td>\n",
              "      <td>2.386198</td>\n",
              "      <td>07</td>\n",
              "      <td>08</td>\n",
              "    </tr>\n",
              "    <tr>\n",
              "      <th>GA</th>\n",
              "      <td>1.0</td>\n",
              "      <td>1.681474</td>\n",
              "      <td>07</td>\n",
              "      <td>08</td>\n",
              "    </tr>\n",
              "    <tr>\n",
              "      <th>IA</th>\n",
              "      <td>1.0</td>\n",
              "      <td>1.841234</td>\n",
              "      <td>17</td>\n",
              "      <td>08</td>\n",
              "    </tr>\n",
              "    <tr>\n",
              "      <th>ID</th>\n",
              "      <td>1.0</td>\n",
              "      <td>3.321902</td>\n",
              "      <td>13</td>\n",
              "      <td>01</td>\n",
              "    </tr>\n",
              "    <tr>\n",
              "      <th>IL</th>\n",
              "      <td>1.0</td>\n",
              "      <td>1.516657</td>\n",
              "      <td>07</td>\n",
              "      <td>08</td>\n",
              "    </tr>\n",
              "    <tr>\n",
              "      <th>IN</th>\n",
              "      <td>1.0</td>\n",
              "      <td>1.706443</td>\n",
              "      <td>07</td>\n",
              "      <td>08</td>\n",
              "    </tr>\n",
              "    <tr>\n",
              "      <th>KS</th>\n",
              "      <td>1.0</td>\n",
              "      <td>1.718000</td>\n",
              "      <td>07</td>\n",
              "      <td>08</td>\n",
              "    </tr>\n",
              "    <tr>\n",
              "      <th>KY</th>\n",
              "      <td>1.0</td>\n",
              "      <td>1.296822</td>\n",
              "      <td>07</td>\n",
              "      <td>08</td>\n",
              "    </tr>\n",
              "    <tr>\n",
              "      <th>LA</th>\n",
              "      <td>2.0</td>\n",
              "      <td>2.144696</td>\n",
              "      <td>07</td>\n",
              "      <td>08</td>\n",
              "    </tr>\n",
              "    <tr>\n",
              "      <th>MA</th>\n",
              "      <td>1.0</td>\n",
              "      <td>1.181353</td>\n",
              "      <td>07</td>\n",
              "      <td>08</td>\n",
              "    </tr>\n",
              "    <tr>\n",
              "      <th>MD</th>\n",
              "      <td>1.0</td>\n",
              "      <td>1.898323</td>\n",
              "      <td>07</td>\n",
              "      <td>08</td>\n",
              "    </tr>\n",
              "    <tr>\n",
              "      <th>ME</th>\n",
              "      <td>1.0</td>\n",
              "      <td>1.976056</td>\n",
              "      <td>08</td>\n",
              "      <td>09</td>\n",
              "    </tr>\n",
              "    <tr>\n",
              "      <th>MI</th>\n",
              "      <td>1.0</td>\n",
              "      <td>1.594038</td>\n",
              "      <td>07</td>\n",
              "      <td>08</td>\n",
              "    </tr>\n",
              "    <tr>\n",
              "      <th>MN</th>\n",
              "      <td>1.0</td>\n",
              "      <td>1.833293</td>\n",
              "      <td>17</td>\n",
              "      <td>18</td>\n",
              "    </tr>\n",
              "    <tr>\n",
              "      <th>MO</th>\n",
              "      <td>1.0</td>\n",
              "      <td>1.617507</td>\n",
              "      <td>07</td>\n",
              "      <td>08</td>\n",
              "    </tr>\n",
              "    <tr>\n",
              "      <th>MS</th>\n",
              "      <td>1.0</td>\n",
              "      <td>2.037500</td>\n",
              "      <td>01</td>\n",
              "      <td>08</td>\n",
              "    </tr>\n",
              "    <tr>\n",
              "      <th>MT</th>\n",
              "      <td>2.0</td>\n",
              "      <td>3.139850</td>\n",
              "      <td>01</td>\n",
              "      <td>04</td>\n",
              "    </tr>\n",
              "    <tr>\n",
              "      <th>NC</th>\n",
              "      <td>1.0</td>\n",
              "      <td>2.269627</td>\n",
              "      <td>07</td>\n",
              "      <td>09</td>\n",
              "    </tr>\n",
              "    <tr>\n",
              "      <th>ND</th>\n",
              "      <td>3.0</td>\n",
              "      <td>2.291339</td>\n",
              "      <td>01</td>\n",
              "      <td>21</td>\n",
              "    </tr>\n",
              "    <tr>\n",
              "      <th>NE</th>\n",
              "      <td>1.0</td>\n",
              "      <td>1.380213</td>\n",
              "      <td>07</td>\n",
              "      <td>08</td>\n",
              "    </tr>\n",
              "    <tr>\n",
              "      <th>NH</th>\n",
              "      <td>1.0</td>\n",
              "      <td>1.966077</td>\n",
              "      <td>08</td>\n",
              "      <td>09</td>\n",
              "    </tr>\n",
              "    <tr>\n",
              "      <th>NJ</th>\n",
              "      <td>1.0</td>\n",
              "      <td>2.049534</td>\n",
              "      <td>07</td>\n",
              "      <td>09</td>\n",
              "    </tr>\n",
              "    <tr>\n",
              "      <th>NM</th>\n",
              "      <td>1.0</td>\n",
              "      <td>2.211813</td>\n",
              "      <td>07</td>\n",
              "      <td>08</td>\n",
              "    </tr>\n",
              "    <tr>\n",
              "      <th>NV</th>\n",
              "      <td>1.0</td>\n",
              "      <td>1.823397</td>\n",
              "      <td>07</td>\n",
              "      <td>08</td>\n",
              "    </tr>\n",
              "    <tr>\n",
              "      <th>NY</th>\n",
              "      <td>1.0</td>\n",
              "      <td>1.943335</td>\n",
              "      <td>07</td>\n",
              "      <td>08</td>\n",
              "    </tr>\n",
              "    <tr>\n",
              "      <th>OH</th>\n",
              "      <td>1.0</td>\n",
              "      <td>1.566240</td>\n",
              "      <td>07</td>\n",
              "      <td>08</td>\n",
              "    </tr>\n",
              "    <tr>\n",
              "      <th>OK</th>\n",
              "      <td>1.0</td>\n",
              "      <td>1.273295</td>\n",
              "      <td>07</td>\n",
              "      <td>09</td>\n",
              "    </tr>\n",
              "    <tr>\n",
              "      <th>OR</th>\n",
              "      <td>4.0</td>\n",
              "      <td>3.619511</td>\n",
              "      <td>07</td>\n",
              "      <td>21</td>\n",
              "    </tr>\n",
              "    <tr>\n",
              "      <th>PA</th>\n",
              "      <td>1.0</td>\n",
              "      <td>2.077073</td>\n",
              "      <td>07</td>\n",
              "      <td>08</td>\n",
              "    </tr>\n",
              "    <tr>\n",
              "      <th>RI</th>\n",
              "      <td>1.0</td>\n",
              "      <td>1.283791</td>\n",
              "      <td>08</td>\n",
              "      <td>08</td>\n",
              "    </tr>\n",
              "    <tr>\n",
              "      <th>SC</th>\n",
              "      <td>1.0</td>\n",
              "      <td>1.867472</td>\n",
              "      <td>07</td>\n",
              "      <td>08</td>\n",
              "    </tr>\n",
              "    <tr>\n",
              "      <th>SD</th>\n",
              "      <td>3.0</td>\n",
              "      <td>3.870000</td>\n",
              "      <td>23</td>\n",
              "      <td>06</td>\n",
              "    </tr>\n",
              "    <tr>\n",
              "      <th>TN</th>\n",
              "      <td>1.0</td>\n",
              "      <td>2.023866</td>\n",
              "      <td>07</td>\n",
              "      <td>08</td>\n",
              "    </tr>\n",
              "    <tr>\n",
              "      <th>TX</th>\n",
              "      <td>1.0</td>\n",
              "      <td>1.716264</td>\n",
              "      <td>07</td>\n",
              "      <td>08</td>\n",
              "    </tr>\n",
              "    <tr>\n",
              "      <th>UT</th>\n",
              "      <td>1.0</td>\n",
              "      <td>1.806000</td>\n",
              "      <td>07</td>\n",
              "      <td>09</td>\n",
              "    </tr>\n",
              "    <tr>\n",
              "      <th>VA</th>\n",
              "      <td>1.0</td>\n",
              "      <td>1.882145</td>\n",
              "      <td>08</td>\n",
              "      <td>09</td>\n",
              "    </tr>\n",
              "    <tr>\n",
              "      <th>VT</th>\n",
              "      <td>1.0</td>\n",
              "      <td>2.417778</td>\n",
              "      <td>16</td>\n",
              "      <td>01</td>\n",
              "    </tr>\n",
              "    <tr>\n",
              "      <th>WA</th>\n",
              "      <td>1.0</td>\n",
              "      <td>2.486635</td>\n",
              "      <td>07</td>\n",
              "      <td>00</td>\n",
              "    </tr>\n",
              "    <tr>\n",
              "      <th>WI</th>\n",
              "      <td>1.0</td>\n",
              "      <td>1.393434</td>\n",
              "      <td>08</td>\n",
              "      <td>08</td>\n",
              "    </tr>\n",
              "    <tr>\n",
              "      <th>WV</th>\n",
              "      <td>1.0</td>\n",
              "      <td>4.736029</td>\n",
              "      <td>23</td>\n",
              "      <td>03</td>\n",
              "    </tr>\n",
              "    <tr>\n",
              "      <th>WY</th>\n",
              "      <td>6.0</td>\n",
              "      <td>2.690141</td>\n",
              "      <td>01</td>\n",
              "      <td>06</td>\n",
              "    </tr>\n",
              "  </tbody>\n",
              "</table>\n",
              "</div>"
            ],
            "text/plain": [
              "    duration_mode  duration_mean start_hr_mode end_hr_mode\n",
              "AL            1.0       1.760006            07          08\n",
              "AR            2.0       2.114683            01          01\n",
              "AZ            1.0       1.797392            07          08\n",
              "CA            1.0       1.850181            07          08\n",
              "CO            1.0       1.150580            07          08\n",
              "CT            1.0       2.548275            07          00\n",
              "DC            1.0       2.219121            07          07\n",
              "DE            1.0       1.303559            08          08\n",
              "FL            2.0       2.386198            07          08\n",
              "GA            1.0       1.681474            07          08\n",
              "IA            1.0       1.841234            17          08\n",
              "ID            1.0       3.321902            13          01\n",
              "IL            1.0       1.516657            07          08\n",
              "IN            1.0       1.706443            07          08\n",
              "KS            1.0       1.718000            07          08\n",
              "KY            1.0       1.296822            07          08\n",
              "LA            2.0       2.144696            07          08\n",
              "MA            1.0       1.181353            07          08\n",
              "MD            1.0       1.898323            07          08\n",
              "ME            1.0       1.976056            08          09\n",
              "MI            1.0       1.594038            07          08\n",
              "MN            1.0       1.833293            17          18\n",
              "MO            1.0       1.617507            07          08\n",
              "MS            1.0       2.037500            01          08\n",
              "MT            2.0       3.139850            01          04\n",
              "NC            1.0       2.269627            07          09\n",
              "ND            3.0       2.291339            01          21\n",
              "NE            1.0       1.380213            07          08\n",
              "NH            1.0       1.966077            08          09\n",
              "NJ            1.0       2.049534            07          09\n",
              "NM            1.0       2.211813            07          08\n",
              "NV            1.0       1.823397            07          08\n",
              "NY            1.0       1.943335            07          08\n",
              "OH            1.0       1.566240            07          08\n",
              "OK            1.0       1.273295            07          09\n",
              "OR            4.0       3.619511            07          21\n",
              "PA            1.0       2.077073            07          08\n",
              "RI            1.0       1.283791            08          08\n",
              "SC            1.0       1.867472            07          08\n",
              "SD            3.0       3.870000            23          06\n",
              "TN            1.0       2.023866            07          08\n",
              "TX            1.0       1.716264            07          08\n",
              "UT            1.0       1.806000            07          09\n",
              "VA            1.0       1.882145            08          09\n",
              "VT            1.0       2.417778            16          01\n",
              "WA            1.0       2.486635            07          00\n",
              "WI            1.0       1.393434            08          08\n",
              "WV            1.0       4.736029            23          03\n",
              "WY            6.0       2.690141            01          06"
            ]
          },
          "metadata": {},
          "execution_count": 28
        }
      ]
    },
    {
      "cell_type": "code",
      "metadata": {
        "colab": {
          "base_uri": "https://localhost:8080/",
          "height": 508
        },
        "id": "kfo8lUK_7YhP",
        "outputId": "fcbee2fc-f266-4597-f21a-abfb6b6a4c96"
      },
      "source": [
        "time_per_state['duration_mode'].plot(kind='bar', figsize=(12,8))"
      ],
      "execution_count": null,
      "outputs": [
        {
          "output_type": "execute_result",
          "data": {
            "text/plain": [
              "<matplotlib.axes._subplots.AxesSubplot at 0x7f7de3fadc50>"
            ]
          },
          "metadata": {},
          "execution_count": 20
        },
        {
          "output_type": "display_data",
          "data": {
            "image/png": "[encoded data removed]",
            "text/plain": [
              "<Figure size 864x576 with 1 Axes>"
            ]
          },
          "metadata": {
            "needs_background": "light"
          }
        }
      ]
    },
    {
      "cell_type": "markdown",
      "metadata": {
        "id": "Umsv3MENLO1K"
      },
      "source": [
        "From the bar graph above, we can see that accidents in most states last an hour, just like the national duration. \n",
        "\n",
        "There are 8 states that do not follow this trend. They include: Arizona, Florida, Los Angeles, Minnesota, North Dakota, Oklahoma, South Dakota and Wyoming. Out of these eight, accidents last 2 hours for four of them whereas accidents in the other four last anywhere from 3 to 6 hours."
      ]
    },
    {
      "cell_type": "markdown",
      "metadata": {
        "id": "Axn1PjeJL-fc"
      },
      "source": [
        "Let's also look into the times accidents start and end in each state. We'll compare the times to the national start and end times to see if they match. "
      ]
    },
    {
      "cell_type": "code",
      "metadata": {
        "colab": {
          "base_uri": "https://localhost:8080/",
          "height": 483
        },
        "id": "SX0pY3JE8btJ",
        "outputId": "55a0e68a-9d05-437d-8981-3918cde9fc60"
      },
      "source": [
        "x = np.arange(len(time_per_state['start_hr_mode']))\n",
        "width = 0.3\n",
        "fig, ax = plt.subplots(figsize=(14,8))\n",
        "start_hours = ax.bar(x-width/2, time_per_state['start_hr_mode'].astype(int), width, label='start_hours')\n",
        "end_hours = ax.bar(x+width/2, time_per_state['end_hr_mode'].astype(float), width, label='end_hours')\n",
        "plt.xticks(x, time_per_state['start_hr_mode'].index)\n",
        "plt.yticks(np.arange(24))\n",
        "ax.legend()\n",
        "plt.show()"
      ],
      "execution_count": null,
      "outputs": [
        {
          "output_type": "display_data",
          "data": {
            "image/png": "[encoded data removed]",
            "text/plain": [
              "<Figure size 1008x576 with 1 Axes>"
            ]
          },
          "metadata": {}
        }
      ]
    },
    {
      "cell_type": "markdown",
      "metadata": {
        "id": "vB5fFrURMeEB"
      },
      "source": [
        ""
      ]
    },
    {
      "cell_type": "markdown",
      "metadata": {
        "id": "l5G82IeLMfSp"
      },
      "source": [
        "### Looking at the monthly distribution of accidents"
      ]
    },
    {
      "cell_type": "code",
      "metadata": {
        "id": "MHiKDaf5QIl8",
        "colab": {
          "base_uri": "https://localhost:8080/",
          "height": 300
        },
        "outputId": "6922bd04-3645-4af1-eef8-7bb29675c7b6"
      },
      "source": [
        "holiday_df = pd.DataFrame({\n",
        "    'ID': weather_df.ID,\n",
        "    'State': weather_df.State,\n",
        "    'start_time': pd.to_datetime(weather_df['Start_Time']),\n",
        "    'year': pd.to_datetime(weather_df['Start_Time']).dt.year,\n",
        "    'month': pd.to_datetime(weather_df['Start_Time']).dt.month\n",
        "    })\n",
        "plt.xlabel('month', fontsize=12)\n",
        "plt.ylabel('number of accidents', fontsize=12)\n",
        "plt.plot(holiday_df.groupby(by='month')['ID'].count())"
      ],
      "execution_count": null,
      "outputs": [
        {
          "output_type": "execute_result",
          "data": {
            "text/plain": [
              "[<matplotlib.lines.Line2D at 0x7fe83c37ae50>]"
            ]
          },
          "metadata": {},
          "execution_count": 32
        },
        {
          "output_type": "display_data",
          "data": {
            "image/png": "[encoded data removed]",
            "text/plain": [
              "<Figure size 432x288 with 1 Axes>"
            ]
          },
          "metadata": {}
        }
      ]
    },
    {
      "cell_type": "markdown",
      "metadata": {
        "id": "Uj2bv2tuhVUe"
      },
      "source": [
        "From this graph we can see that the number of traffic accidents tend to increase as the end of the year approaches. Starting in October, the closer we get to December, the more accidents there are.\n",
        "\n",
        "I am assuming this is due to the holiday season. As the end of the year approaches, we are looking at major American holidays such as Thanksgiving, Black Friday, and Christmas. These holidays mean that more people are going out to purchase items to prepare for gatherings. They will also be going outside more frequently as well, as most people tend to split up their holiday shopping in multiple trips."
      ]
    },
    {
      "cell_type": "markdown",
      "metadata": {
        "id": "Y6NlhNqThnA1"
      },
      "source": [
        "Let's now look at the top 5 states in terms of number of accidents and see if they also follow this trend. "
      ]
    },
    {
      "cell_type": "code",
      "metadata": {
        "colab": {
          "base_uri": "https://localhost:8080/",
          "height": 865
        },
        "id": "wBj2IS17oPue",
        "outputId": "ec7e2633-1cc7-4386-a282-3140f6fc761a"
      },
      "source": [
        "fig, ax = plt.subplots(5, figsize=(12,12))\n",
        "fig.tight_layout(pad=3.75)\n",
        "plt.setp(ax[:], xlabel='month')\n",
        "plt.setp(ax[:], ylabel='number of accidents')\n",
        "\n",
        "ax[0].title.set_text('California')\n",
        "ax[1].title.set_text('Oregon')\n",
        "ax[2].title.set_text('Minnesota')\n",
        "ax[3].title.set_text('New York')\n",
        "ax[4].title.set_text('Pennsylvania')\n",
        "\n",
        "ax[0].plot(holiday_df[holiday_df['State'] == 'CA'].groupby('month')['ID'].count())\n",
        "ax[1].plot(holiday_df[holiday_df['State'] == 'OR'].groupby('month')['ID'].count())\n",
        "ax[2].plot(holiday_df[holiday_df['State'] == 'MN'].groupby('month')['ID'].count())\n",
        "ax[3].plot(holiday_df[holiday_df['State'] == 'NY'].groupby('month')['ID'].count())\n",
        "ax[4].plot(holiday_df[holiday_df['State'] == 'PA'].groupby('month')['ID'].count())\n"
      ],
      "execution_count": null,
      "outputs": [
        {
          "output_type": "execute_result",
          "data": {
            "text/plain": [
              "[<matplotlib.lines.Line2D at 0x7fe82d9e6a10>]"
            ]
          },
          "metadata": {},
          "execution_count": 49
        },
        {
          "output_type": "display_data",
          "data": {
            "image/png": "[encoded data removed]",
            "text/plain": [
              "<Figure size 864x864 with 5 Axes>"
            ]
          },
          "metadata": {}
        }
      ]
    },
    {
      "cell_type": "markdown",
      "metadata": {
        "id": "_lutbU1jQWNK"
      },
      "source": [
        "From the graphs above, we can say that the top five states by number of accidents *generally* follow the national trend. The number of accidents in each state start rapidly increasing around September and keep increasing until December. There is also a spike in April in each of the states. "
      ]
    },
    {
      "cell_type": "markdown",
      "metadata": {
        "id": "xJ1WjpZUR1Ck"
      },
      "source": [
        "### **Weather Analysis**\n",
        "\n",
        "I will be asking the following questions to understand if weather has an impact on accidents and accident severity:\n",
        "\n",
        "1. **What weather factors make the biggest impact in terms of the severity of an accident?**\n",
        "  - Compare different weather factors by severity to each other\n",
        "  - Look at temperature, wind chill, precipitation, and weather condition \n",
        "\n",
        "2. **What type of weather correlates to the most severity?**\n",
        "  - Look into the number of accidents for different weather conditions\n",
        "\n",
        "3. **Are there specific times of the day where it is more 'dangerous' to drive?**\n",
        "  - Increased number of accidents? Greater severity by time of day?\n",
        "\n",
        "4. **Is precipitation an important factor when it comes to an accident's severity?**\n",
        "  - Compare accidents with precipitation = 0 to accidents with precipitation > 0\n",
        "\n",
        "5. **What weather factors are correlated to the severity of an accident?**\n",
        "  - Look at temperature, wind chill, humidity, visibility, wind direction, wind speed, precipitation, and pressure(?)"
      ]
    },
    {
      "cell_type": "markdown",
      "metadata": {
        "id": "owUEVziAttab"
      },
      "source": [
        "#### **Steps to take to answer questions:** \n",
        "- **Temperature:**\n",
        "  - [x] look at number of accidents by 10 degree buckets (make bar graph to visually see)\n",
        "  - [x] divide those accidents by severity (create unstacked bar graph for easy comparison)\n",
        "\n",
        "- **Weather Condition:**\n",
        "  - [x] determine number of weather conditions to begin with (if a lot, only select the top 5/10 by number of accidents to work with)\n",
        "  - [x] look at number of accidents for each weather condition\n",
        "  - [x] divide those accidents by severity (create unstacked bar graph for easy comparison)\n",
        "\n",
        "- **Precipitation:** \n",
        "  - [x] break into with precipitation = 0 vs precipitation > 0\n",
        "    - doing so will allow us to see the number of accidents for each type of 'weather', then we can see if/how big of an effect precipitation has\n",
        "  - [x] for each type of 'weather' here, look at number of accidents\n",
        "  - [x] divide those accidents by severity (create unstacked bar graph for easy comparison)\n",
        "\n",
        "- **Time:** \n",
        "  - [x] break accidents into four buckets by their start time \n",
        "    - will categorize based on time (morning, afternoon, evening, night)\n",
        "    - [x] look at the number of accidents in each category \n",
        "    - [x] break down each time category by severity \n",
        "  - [x] look at accidents with precipitation = 0 vs precipitation > 0 in addition to the start time as well\n",
        "\n",
        "- **Create correlation matrix to determine what factors are closely correlated to severity** \n",
        "  - [x] only include those columns related to weather and those which we have looked at in this notebook \n",
        "    - wouldn't make much sense to include *all* the columns in the dataset\n"
      ]
    },
    {
      "cell_type": "code",
      "metadata": {
        "id": "c3VpZ6HJux8u"
      },
      "source": [
        " ## for temperature - do 10 degree buckets and make a bar graph counting number of accidents by severity \n",
        " ## for weather_condition - groupby this column and count number of accidents by severity\n",
        " ## for precipitation - do 0.5 inches buckets and make a bar graph counting nmber of accidents by severity\n",
        "\n",
        " ##do bar graphs like the one before -> multiple bars for one category (as many bars as severities so 4 in total)"
      ],
      "execution_count": null,
      "outputs": []
    },
    {
      "cell_type": "markdown",
      "metadata": {
        "id": "joqXU14eTZQc"
      },
      "source": [
        "#### Temperature\n",
        "Let's start off by looking at *all* accidents by temperature. I made sure to bin the number of accidents by 10 degree buckets."
      ]
    },
    {
      "cell_type": "code",
      "metadata": {
        "id": "MpXEziFfO0pc",
        "colab": {
          "base_uri": "https://localhost:8080/",
          "height": 300
        },
        "outputId": "c8c7ed2c-beb6-4610-d8ad-f494bb02ab39"
      },
      "source": [
        "plt.hist(weather_df['Temperature(F)'], bins=np.arange(-20, 80, 10))\n",
        "plt.xticks(np.arange(-20, 80, 10))\n",
        "plt.xlabel('Temperature (F)', fontsize=12)\n",
        "plt.ylabel('Number of Accidents', fontsize=12)"
      ],
      "execution_count": null,
      "outputs": [
        {
          "output_type": "execute_result",
          "data": {
            "text/plain": [
              "Text(0, 0.5, 'Number of Accidents')"
            ]
          },
          "metadata": {},
          "execution_count": 5
        },
        {
          "output_type": "display_data",
          "data": {
            "image/png": "[encoded data removed]",
            "text/plain": [
              "<Figure size 432x288 with 1 Axes>"
            ]
          },
          "metadata": {}
        }
      ]
    },
    {
      "cell_type": "markdown",
      "metadata": {
        "id": "jgmrQcp59nrO"
      },
      "source": [
        "Here we can see that the number of accidents keeps on increasing as the temperature increases. However this trend seems to end at the 60 degree mark, where there is a massive drop in the number of accidents."
      ]
    },
    {
      "cell_type": "markdown",
      "metadata": {
        "id": "kQennK5c5SWr"
      },
      "source": [
        "Next I will look into the accidents by temperature, broken down by the severity of the accident as well."
      ]
    },
    {
      "cell_type": "code",
      "metadata": {
        "colab": {
          "base_uri": "https://localhost:8080/",
          "height": 552
        },
        "id": "ZHMcBznVyhcC",
        "outputId": "ae0f18ce-cd0e-470a-c146-34c504b61a41"
      },
      "source": [
        "weather_df['temp_bins'] = pd.cut(weather_df['Temperature(F)'], bins=np.arange(-20, 80, 10))\n",
        "weather_df.groupby(by=['temp_bins', 'Severity']).size().unstack(fill_value=0).plot.bar(width=1, figsize=(10,8))"
      ],
      "execution_count": null,
      "outputs": [
        {
          "output_type": "execute_result",
          "data": {
            "text/plain": [
              "<matplotlib.axes._subplots.AxesSubplot at 0x7f90e784b210>"
            ]
          },
          "metadata": {},
          "execution_count": 16
        },
        {
          "output_type": "display_data",
          "data": {
            "image/png": "[encoded data removed]",
            "text/plain": [
              "<Figure size 720x576 with 1 Axes>"
            ]
          },
          "metadata": {}
        }
      ]
    },
    {
      "cell_type": "markdown",
      "metadata": {
        "id": "FGs94IyB5bDD"
      },
      "source": [
        "From the graph above, we can see that the number of accidents increased as the temperature rises. The majority of accidents also have a severity of 2, and occured when the temperature was between 51 and 60 degrees (~275,000 accidents). \n",
        "\n",
        "We can also notice that there are a greater number of accidents with a severity of 4, the highest severity, than there are accidents with a severity of 1 for all temperatures. \n",
        "\n",
        "**Note:** The round brackets in the graph represent that the number is NOT included. For example, (40, 50] represents the range of numbers from 41 to 50 inclusive."
      ]
    },
    {
      "cell_type": "markdown",
      "metadata": {
        "id": "mOaJx1GQTULw"
      },
      "source": [
        "#### Weather condition\n",
        "Next I will look deeper into the 'Weather_Condition' column."
      ]
    },
    {
      "cell_type": "code",
      "metadata": {
        "id": "TGleekQB195u",
        "colab": {
          "base_uri": "https://localhost:8080/"
        },
        "outputId": "b356c979-dddf-4d46-f96f-ea4cf8ba2014"
      },
      "source": [
        "#as b/c a lot of weather conditions, lets not graph all of them but just the top ten weather conditions in terms of accidents\n",
        "len(weather_df['Weather_Condition'].unique())"
      ],
      "execution_count": null,
      "outputs": [
        {
          "output_type": "execute_result",
          "data": {
            "text/plain": [
              "100"
            ]
          },
          "metadata": {},
          "execution_count": 39
        }
      ]
    },
    {
      "cell_type": "markdown",
      "metadata": {
        "id": "HiMLqXZBF3vw"
      },
      "source": [
        "As there are quite a lot of weather conditions in this dataset, I will only be looking at the top 10 by number of accidents. "
      ]
    },
    {
      "cell_type": "code",
      "metadata": {
        "colab": {
          "base_uri": "https://localhost:8080/",
          "height": 358
        },
        "id": "ePnajA85P9U-",
        "outputId": "1e27b743-02db-42a8-b533-41bff079565f"
      },
      "source": [
        "weather_cond = weather_df.groupby(by='Weather_Condition')['ID'].count().sort_values(ascending=False).head(10)\n",
        "weather_cond.plot.bar()"
      ],
      "execution_count": null,
      "outputs": [
        {
          "output_type": "execute_result",
          "data": {
            "text/plain": [
              "<matplotlib.axes._subplots.AxesSubplot at 0x7f90eafb7a50>"
            ]
          },
          "metadata": {},
          "execution_count": 42
        },
        {
          "output_type": "display_data",
          "data": {
            "image/png": "[encoded data removed]",
            "text/plain": [
              "<Figure size 432x288 with 1 Axes>"
            ]
          },
          "metadata": {}
        }
      ]
    },
    {
      "cell_type": "markdown",
      "metadata": {
        "id": "lhwJ_jGsGAz6"
      },
      "source": [
        "From the bar graph above, we can see the majority of accidents had a weather condition of \"Fair\", with \"Cloudy\" being the second."
      ]
    },
    {
      "cell_type": "code",
      "metadata": {
        "colab": {
          "base_uri": "https://localhost:8080/",
          "height": 576
        },
        "id": "JyD5hKQZwVDX",
        "outputId": "4e457490-c92b-4238-f222-e11dc7269d64"
      },
      "source": [
        "weather_cond_subset = weather_df.loc[weather_df['Weather_Condition']\n",
        "                                     .isin(['Fair', 'Cloudy', 'Mostly Cloudy', 'Light Rain', 'Partly Cloudy', 'Light Snow', 'Fog', 'Rain', 'Overcast', 'Haze'])]\n",
        "weather_cond_subset.groupby(by=['Weather_Condition', 'Severity']).size().unstack(fill_value=0).plot.bar(width=1, figsize=(10,8))"
      ],
      "execution_count": null,
      "outputs": [
        {
          "output_type": "execute_result",
          "data": {
            "text/plain": [
              "<matplotlib.axes._subplots.AxesSubplot at 0x7f90d64ac2d0>"
            ]
          },
          "metadata": {},
          "execution_count": 78
        },
        {
          "output_type": "display_data",
          "data": {
            "image/png": "[encoded data removed]",
            "text/plain": [
              "<Figure size 720x576 with 1 Axes>"
            ]
          },
          "metadata": {}
        }
      ]
    },
    {
      "cell_type": "markdown",
      "metadata": {
        "id": "c6VfTVCtCZEw"
      },
      "source": [
        "By breaking down the weather conditions based on an accident's severity, we can see that \"Cloudy\" and \"Fair\" weather conditions have the most amount of most severe accidents. But one thing to keep into consideration is that they also have the highest and second highest number of accidents. As such, I will be looking at the percentage of accidents per severity for each weather condition. This will allow for a better comparison between the weather conditions when determining which condition contributed the most to more severe accidents. "
      ]
    },
    {
      "cell_type": "code",
      "metadata": {
        "id": "8FNL80IUC8ep"
      },
      "source": [
        "### DO WHAT SAYING IN CELL ABOVE "
      ],
      "execution_count": 1,
      "outputs": []
    },
    {
      "cell_type": "markdown",
      "metadata": {
        "id": "bLHskf7_Tdhb"
      },
      "source": [
        "#### Precipitation\n",
        "\n",
        "For this weather factor, I will compare the two 'categories' of precipitation: \n",
        "  - precipitation = 0\n",
        "  - precipitation > 0"
      ]
    },
    {
      "cell_type": "code",
      "metadata": {
        "colab": {
          "base_uri": "https://localhost:8080/"
        },
        "id": "cRo7IRxKTSVs",
        "outputId": "d4ed3e89-ae3a-4c52-aa38-3b4658a4cd12"
      },
      "source": [
        "len(weather_df[weather_df['Precipitation(in)'] > 0]['Precipitation(in)'].unique())"
      ],
      "execution_count": null,
      "outputs": [
        {
          "output_type": "execute_result",
          "data": {
            "text/plain": [
              "112"
            ]
          },
          "metadata": {},
          "execution_count": 76
        }
      ]
    },
    {
      "cell_type": "markdown",
      "metadata": {
        "id": "WcRnrx9oDYWJ"
      },
      "source": [
        "##### Precipitation = 0"
      ]
    },
    {
      "cell_type": "code",
      "metadata": {
        "colab": {
          "base_uri": "https://localhost:8080/",
          "height": 283
        },
        "id": "P58TIxaQ2ifC",
        "outputId": "80fda2de-5e7a-4c0b-b2a3-7db328f8a57b"
      },
      "source": [
        "precip_zero = weather_df[weather_df['Precipitation(in)'] == 0].copy()\n",
        "precip_zero['Severity'].hist()"
      ],
      "execution_count": null,
      "outputs": [
        {
          "output_type": "execute_result",
          "data": {
            "text/plain": [
              "<matplotlib.axes._subplots.AxesSubplot at 0x7f67df346f90>"
            ]
          },
          "metadata": {},
          "execution_count": 19
        },
        {
          "output_type": "display_data",
          "data": {
            "image/png": "[encoded data removed]",
            "text/plain": [
              "<Figure size 432x288 with 1 Axes>"
            ]
          },
          "metadata": {}
        }
      ]
    },
    {
      "cell_type": "markdown",
      "metadata": {
        "id": "_vrKFPxTDb7z"
      },
      "source": [
        "##### Precipitation > 0\n",
        "\n",
        "# RUN THE CELL BELOW AGAIN"
      ]
    },
    {
      "cell_type": "code",
      "metadata": {
        "colab": {
          "base_uri": "https://localhost:8080/",
          "height": 568
        },
        "id": "epLj2O6CzpUP",
        "outputId": "2e69f537-7963-4c41-8ebc-7f9f07a8d554"
      },
      "source": [
        "precip_more_zero = weather_df[weather_df['Precipitation(in)'] > 0].copy()\n",
        "precip_more_zero['precip_bins'] = pd.cut(precip_more_zero['Precipitation(in)'], bins=np.arange(0.0, 11.0, 0.5))\n",
        "plt.xlabel('precip_bins (in)')\n",
        "plt.ylabel('number of accidents')\n",
        "precip_more_zero.groupby(by=['precip_bins', 'Severity']).size().unstack(fill_value=0).plot.bar(width=1, figsize=(10,8))"
      ],
      "execution_count": null,
      "outputs": [
        {
          "output_type": "execute_result",
          "data": {
            "text/plain": [
              "<matplotlib.axes._subplots.AxesSubplot at 0x7f67df61c5d0>"
            ]
          },
          "metadata": {},
          "execution_count": 16
        },
        {
          "output_type": "display_data",
          "data": {
            "image/png": "[encoded data removed]",
            "text/plain": [
              "<Figure size 720x576 with 1 Axes>"
            ]
          },
          "metadata": {}
        }
      ]
    },
    {
      "cell_type": "markdown",
      "metadata": {
        "id": "Vhx4zdj1Dehi"
      },
      "source": [
        "I know that there are accidents with greater precipitation than what is shown in the bar graph above. The reason they are not showing is due to the large amount of accidents with precipitation between (0.0, 0.5] inches. As such, I will make another graph excluding this bucket of accidents to get a closer look at the other buckets. "
      ]
    },
    {
      "cell_type": "markdown",
      "metadata": {
        "id": "XWOo9AdzEET2"
      },
      "source": [
        "## RUN THE CELL BELOW AGAIN"
      ]
    },
    {
      "cell_type": "code",
      "metadata": {
        "colab": {
          "base_uri": "https://localhost:8080/",
          "height": 565
        },
        "id": "bp8c8qZkTSbK",
        "outputId": "2d6b76f3-1de1-43c6-c9bc-c4f714c3fe62"
      },
      "source": [
        "precip_more_zero_1 = weather_df[weather_df['Precipitation(in)'] > 0].copy()\n",
        "precip_more_zero_1['precip_bins'] = pd.cut(precip_more_zero_1['Precipitation(in)'], bins=np.arange(0.5, 11.0, 0.5))\n",
        "plt.xlabel('precip_bins (in)')\n",
        "plt.ylabel('number of accidents')\n",
        "precip_more_zero_1.groupby(by=['precip_bins', 'Severity']).size().unstack(fill_value=0).plot.bar(width=1, figsize=(10,8))"
      ],
      "execution_count": null,
      "outputs": [
        {
          "output_type": "execute_result",
          "data": {
            "text/plain": [
              "<matplotlib.axes._subplots.AxesSubplot at 0x7f39307e6450>"
            ]
          },
          "metadata": {},
          "execution_count": 33
        },
        {
          "output_type": "display_data",
          "data": {
            "image/png": "[encoded data removed]",
            "text/plain": [
              "<Figure size 720x576 with 1 Axes>"
            ]
          },
          "metadata": {}
        }
      ]
    },
    {
      "cell_type": "markdown",
      "metadata": {
        "id": "UJ0UdpNbToY5"
      },
      "source": [
        "what about weather at night vs in the day?  \n",
        "       - does raining during the night make it worse to drive in, causing more accidents than raining during the day?  \n",
        "    - Does faster rain/snow/rain relate to more accidents? "
      ]
    },
    {
      "cell_type": "markdown",
      "metadata": {
        "id": "QKjAhb9DIU4R"
      },
      "source": [
        "#### Time"
      ]
    },
    {
      "cell_type": "code",
      "metadata": {
        "id": "kpFucA0zTvjl"
      },
      "source": [
        "#look at those accidents with precp > 0, and then look at their timestamps -> cateogirze based on the time into morning, afternoon, evening, night \n",
        "# for each cateogry, look at the severity of accidents\n",
        "\n",
        "#categorize the precip > 0 into low, medium and high precip, and look at their morning, afternoon, evening, night severities "
      ],
      "execution_count": null,
      "outputs": []
    },
    {
      "cell_type": "code",
      "metadata": {
        "id": "lDaCEtiLv4eO",
        "colab": {
          "base_uri": "https://localhost:8080/",
          "height": 357
        },
        "outputId": "9aa253f6-4a9b-4a94-dc89-e501c0a2e3c3"
      },
      "source": [
        "#this lets us divide the accidents into 4 bins -> morning, afternoon, evening, night \n",
        "precip_more_zero['time_bins'] = pd.cut(pd.to_datetime(precip_more_zero['Start_Time']).dt.hour, bins = 4)\n",
        "time_bins_grouped = precip_more_zero.groupby(by='time_bins')['ID'].count().sort_values(ascending=False)\n",
        "time_bins_grouped.plot.bar()"
      ],
      "execution_count": null,
      "outputs": [
        {
          "output_type": "execute_result",
          "data": {
            "text/plain": [
              "<matplotlib.axes._subplots.AxesSubplot at 0x7f67df2ed890>"
            ]
          },
          "metadata": {},
          "execution_count": 20
        },
        {
          "output_type": "display_data",
          "data": {
            "image/png": "[encoded data removed]",
            "text/plain": [
              "<Figure size 432x288 with 1 Axes>"
            ]
          },
          "metadata": {}
        }
      ]
    },
    {
      "cell_type": "code",
      "metadata": {
        "id": "lXPo2ylLv4g9",
        "colab": {
          "base_uri": "https://localhost:8080/",
          "height": 575
        },
        "outputId": "4321bb34-229d-40c8-e3c7-30709987e298"
      },
      "source": [
        "precip_more_zero.groupby(by=['time_bins', 'Severity']).size().unstack(fill_value=0).plot.bar(width=1, figsize=(10,8))"
      ],
      "execution_count": null,
      "outputs": [
        {
          "output_type": "execute_result",
          "data": {
            "text/plain": [
              "<matplotlib.axes._subplots.AxesSubplot at 0x7f67df425350>"
            ]
          },
          "metadata": {},
          "execution_count": 18
        },
        {
          "output_type": "display_data",
          "data": {
            "image/png": "[encoded data removed]",
            "text/plain": [
              "<Figure size 720x576 with 1 Axes>"
            ]
          },
          "metadata": {}
        }
      ]
    },
    {
      "cell_type": "code",
      "metadata": {
        "id": "bDDvdNpev4kQ",
        "colab": {
          "base_uri": "https://localhost:8080/",
          "height": 357
        },
        "outputId": "8d586ccc-9a90-464a-e6a1-85178529d6eb"
      },
      "source": [
        "precip_zero['time_bins'] = pd.cut(pd.to_datetime(precip_zero['Start_Time']).dt.hour, bins = 4)\n",
        "time_bins_precip_zero_grouped = precip_zero.groupby(by='time_bins')['ID'].count().sort_values(ascending=False)\n",
        "time_bins_precip_zero_grouped.plot.bar()"
      ],
      "execution_count": null,
      "outputs": [
        {
          "output_type": "execute_result",
          "data": {
            "text/plain": [
              "<matplotlib.axes._subplots.AxesSubplot at 0x7f67df25e650>"
            ]
          },
          "metadata": {},
          "execution_count": 21
        },
        {
          "output_type": "display_data",
          "data": {
            "image/png": "[encoded data removed]",
            "text/plain": [
              "<Figure size 432x288 with 1 Axes>"
            ]
          },
          "metadata": {}
        }
      ]
    },
    {
      "cell_type": "code",
      "metadata": {
        "id": "2G0nyUF8mHXe",
        "colab": {
          "base_uri": "https://localhost:8080/",
          "height": 575
        },
        "outputId": "8d368a2d-b48f-469d-c401-c19a2087a8b3"
      },
      "source": [
        "precip_zero.groupby(by=['time_bins', 'Severity']).size().unstack(fill_value=0).plot.bar(width=1, figsize=(10,8))"
      ],
      "execution_count": null,
      "outputs": [
        {
          "output_type": "execute_result",
          "data": {
            "text/plain": [
              "<matplotlib.axes._subplots.AxesSubplot at 0x7f67df1cb650>"
            ]
          },
          "metadata": {},
          "execution_count": 22
        },
        {
          "output_type": "display_data",
          "data": {
            "image/png": "[encoded data removed]",
            "text/plain": [
              "<Figure size 720x576 with 1 Axes>"
            ]
          },
          "metadata": {}
        }
      ]
    },
    {
      "cell_type": "markdown",
      "metadata": {
        "id": "9Oi0_avTEIHH"
      },
      "source": [
        "#### Correlation matrix to determine what factors are closely correlated to the severity of an accident"
      ]
    },
    {
      "cell_type": "code",
      "metadata": {
        "colab": {
          "base_uri": "https://localhost:8080/",
          "height": 586
        },
        "id": "gxAMTPdHTvem",
        "outputId": "c80bcff6-d0fc-4f06-d724-f617a6ba8857"
      },
      "source": [
        "#correlation matrix between start_time, end_time, severity, wind_speed, and precipitation\n",
        "corr_matrix = weather_df[['Severity', 'Temperature(F)', 'Wind_Chill(F)', 'Humidity(%)', \n",
        "                          'Pressure(in)', 'Visibility(mi)', 'Wind_Direction', \n",
        "                          'Wind_Speed(mph)', 'Precipitation(in)']].corr()\n",
        "plt.figure(figsize = (10,8))              \n",
        "sns.heatmap(corr_matrix, annot=True)"
      ],
      "execution_count": null,
      "outputs": [
        {
          "output_type": "execute_result",
          "data": {
            "text/plain": [
              "<matplotlib.axes._subplots.AxesSubplot at 0x7f39277092d0>"
            ]
          },
          "metadata": {},
          "execution_count": 40
        },
        {
          "output_type": "display_data",
          "data": {
            "image/png": "[encoded data removed]",
            "text/plain": [
              "<Figure size 720x576 with 2 Axes>"
            ]
          },
          "metadata": {}
        }
      ]
    },
    {
      "cell_type": "markdown",
      "metadata": {
        "id": "wX-mS-XVEqvR"
      },
      "source": [
        "By only looking at the 'Severity' column/row we can see how correlated the weather factors are with the severity of an accident. \n",
        "\n",
        "**Key Observations:**\n",
        "  - Severity is most correlated to the wind speed at the time of the accident and is least correlated to the precipitation and humidity. \n",
        "  - Temperature and Wind Chill are also very closely correlated, these two variables are the most correlated out of all variables in the matrix\n",
        "  - Humidity and Visibility are also somewhat correlated with a correlation coefficient of -0.45\n",
        "\n",
        "\n",
        "**NOTE:** The closer the value in the square is to zero, the more the variables are *less correlated*. As such, the further the value in the square gets from zero, the *more correlated* the two variables are."
      ]
    },
    {
      "cell_type": "markdown",
      "metadata": {
        "id": "HNPWIP3nT_DR"
      },
      "source": [
        "#References\n",
        "\n",
        "*   Moosavi, Sobhan, Mohammad Hossein Samavatian, Srinivasan Parthasarathy, and Rajiv Ramnath. “A Countrywide Traffic Accident Dataset.”, 2019.\n",
        "\n",
        "* Moosavi, Sobhan, Mohammad Hossein Samavatian, Srinivasan Parthasarathy, Radu Teodorescu, and Rajiv Ramnath. \"Accident Risk Prediction based on Heterogeneous Sparse Data: New Dataset and Insights.\" In proceedings of the 27th ACM SIGSPATIAL International Conference on Advances in Geographic Information Systems, ACM, 2019.\n",
        "\n",
        "*   https://www.ibm.com/cloud/learn/exploratory-data-analysis \n",
        "*   https://www.stat.cmu.edu/~hseltman/309/Book/chapter4.pdf \n",
        "* https://pandas.pydata.org/pandas-docs/stable/reference/general_functions.html\n",
        "* https://www.timeanddate.com/astronomy/different-types-twilight.html \n",
        "* https://www.washingtonpost.com/weather/2020/08/16/death-valley-heat-record/\n",
        "* https://www.mountwashington.org/about-us/history/world-record-wind.aspx#:~:text=For%20nearly%20sixty%2Dtwo%20years,by%20Mount%20Washington%20Observatory%20staff. "
      ]
    }
  ]
}
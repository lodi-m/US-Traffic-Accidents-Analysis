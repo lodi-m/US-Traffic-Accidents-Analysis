{
  "nbformat": 4,
  "nbformat_minor": 0,
  "metadata": {
    "colab": {
      "name": "EDA-us-accidents.ipynb",
      "provenance": [],
      "collapsed_sections": [],
      "authorship_tag": "ABX9TyPdrrcR0U59CWnKsjJtBSwG",
      "include_colab_link": true
    },
    "kernelspec": {
      "name": "python3",
      "display_name": "Python 3"
    }
  },
  "cells": [
    {
      "cell_type": "markdown",
      "metadata": {
        "id": "view-in-github",
        "colab_type": "text"
      },
      "source": [
        "<a href=\"https://colab.research.google.com/github/lodi-m/US-Traffic-Accidents-Analysis/blob/main/EDA_us_accidents.ipynb\" target=\"_parent\"><img src=\"https://colab.research.google.com/assets/colab-badge.svg\" alt=\"Open In Colab\"/></a>"
      ]
    },
    {
      "cell_type": "markdown",
      "metadata": {
        "id": "cXb033XDNibv"
      },
      "source": [
        "# US Traffic Accidents Exploratory Data Analysis\n",
        "\n",
        "## Introduction\n",
        "\n",
        "### What is Exploratory Data Analysis (EDA)? \n",
        "Exploratory data analysis is used to investigate datasets to summarize their main characteristics and draw conclusions *before* any formal statistical modeling or inference is made. It is a crucial first step in the data analysis procedure as it help save time and resources in the future. EDA is especially useful in discovering patterns, locating any abnormalities and finding any interesting relations in the data.\n",
        "\n",
        "In this notebook we'll analyze a car accident dataset from the USA. This current version of the dataset contains information from 4.2 million traffic accidents during *February 2016* - *December 2020* that took place all over the Contiguous United States. The data was collected using multiple Traffic APIs, such as MapQuest and Bing, and several other data providers. \n",
        "\n",
        "Although this dataset can be used for a variety of applications, we will be focusing on how **precipitation** and other **environmental factors** impacted the accidents. \n",
        "\n",
        "If you would like to learn more about the raw data itself please visit: https://smoosavi.org/datasets/us_accidents \n"
      ]
    },
    {
      "cell_type": "markdown",
      "metadata": {
        "id": "s6AZYLNWOTcW"
      },
      "source": [
        "#### Downloading the data\n"
      ]
    },
    {
      "cell_type": "code",
      "metadata": {
        "id": "pDjibJkkOweG"
      },
      "source": [
        "pip install opendatasets --upgrade --quiet"
      ],
      "execution_count": 2,
      "outputs": []
    },
    {
      "cell_type": "code",
      "metadata": {
        "colab": {
          "base_uri": "https://localhost:8080/"
        },
        "id": "sNZ9YITROUCk",
        "outputId": "05a0e36c-91e8-42fd-85ea-13b660241a70"
      },
      "source": [
        "import opendatasets as od\n",
        "dataset_url = \"https://www.kaggle.com/sobhanmoosavi/us-accidents\" \n",
        "od.download(dataset_url)"
      ],
      "execution_count": 3,
      "outputs": [
        {
          "output_type": "stream",
          "name": "stdout",
          "text": [
            "Please provide your Kaggle credentials to download this dataset. Learn more: http://bit.ly/kaggle-creds\n",
            "Your Kaggle username: malihalodi\n",
            "Your Kaggle Key: ··········\n",
            "Downloading us-accidents.zip to ./us-accidents\n"
          ]
        },
        {
          "output_type": "stream",
          "name": "stderr",
          "text": [
            "100%|██████████| 290M/290M [00:02<00:00, 103MB/s] \n"
          ]
        },
        {
          "output_type": "stream",
          "name": "stdout",
          "text": [
            "\n"
          ]
        }
      ]
    },
    {
      "cell_type": "markdown",
      "metadata": {
        "id": "EmvCogaba0Ev"
      },
      "source": [
        "### Data Preparation and Cleaning \n",
        "\n"
      ]
    },
    {
      "cell_type": "code",
      "metadata": {
        "id": "CZhlmTPpaz3j"
      },
      "source": [
        "import pandas as pd\n",
        "import numpy as np\n",
        "import seaborn as sns \n",
        "import folium\n",
        "from folium.plugins import HeatMap\n",
        "sns.set_style(\"darkgrid\")"
      ],
      "execution_count": 4,
      "outputs": []
    },
    {
      "cell_type": "code",
      "metadata": {
        "id": "N6ZpP5nacXce"
      },
      "source": [
        "raw_df = pd.read_csv(\"/content/us-accidents/US_Accidents_Dec20_Updated.csv\")"
      ],
      "execution_count": 5,
      "outputs": []
    },
    {
      "cell_type": "code",
      "metadata": {
        "colab": {
          "base_uri": "https://localhost:8080/"
        },
        "id": "M5jYQ-YlcXX1",
        "outputId": "ea31c60a-4d19-4418-8b15-affc0e7e0476"
      },
      "source": [
        "raw_df.columns"
      ],
      "execution_count": 6,
      "outputs": [
        {
          "output_type": "execute_result",
          "data": {
            "text/plain": [
              "Index(['ID', 'Severity', 'Start_Time', 'End_Time', 'Start_Lat', 'Start_Lng',\n",
              "       'End_Lat', 'End_Lng', 'Distance(mi)', 'Description', 'Number', 'Street',\n",
              "       'Side', 'City', 'County', 'State', 'Zipcode', 'Country', 'Timezone',\n",
              "       'Airport_Code', 'Weather_Timestamp', 'Temperature(F)', 'Wind_Chill(F)',\n",
              "       'Humidity(%)', 'Pressure(in)', 'Visibility(mi)', 'Wind_Direction',\n",
              "       'Wind_Speed(mph)', 'Precipitation(in)', 'Weather_Condition', 'Amenity',\n",
              "       'Bump', 'Crossing', 'Give_Way', 'Junction', 'No_Exit', 'Railway',\n",
              "       'Roundabout', 'Station', 'Stop', 'Traffic_Calming', 'Traffic_Signal',\n",
              "       'Turning_Loop', 'Sunrise_Sunset', 'Civil_Twilight', 'Nautical_Twilight',\n",
              "       'Astronomical_Twilight'],\n",
              "      dtype='object')"
            ]
          },
          "metadata": {},
          "execution_count": 6
        }
      ]
    },
    {
      "cell_type": "markdown",
      "metadata": {
        "id": "SkeDbLiUdPDp"
      },
      "source": [
        "As you can see, there is a lot more information than we want currently in the dataset. For example, we won't really need to worry about what amenities there were or if there was a roundabout near the accident. We are only focused on the *environmental factors* in this notebook. \n",
        "\n",
        "Please also note that we will only be looking at the time of day in relation to Nautical Twilight. This is because Nautical Twilight takes place right in between Civil and Astronomical Twilight. I felt that if we used the other twilights, there would be a bit of bias in regards to what is considered \"Day\" or \"Night\". As such, I chose to just use the middle value. \n",
        "\n",
        "<img src=\"https://c.tadst.com/gfx/1200x630/twiligh-phases.png?1\" alt=\"Different Types of Twilights and their degrees\" width=\"500\"/>\n",
        "\n",
        "If you would like to read more about the differences between Civil, Nautical, and Astronomical Twilight please visit: https://www.weather.gov/lmk/twilight-types\n",
        "\n"
      ]
    },
    {
      "cell_type": "markdown",
      "metadata": {
        "id": "0u2TnobOIuv-"
      },
      "source": [
        "Now let's go ahead and only select the columns we are interested in. "
      ]
    },
    {
      "cell_type": "code",
      "metadata": {
        "colab": {
          "base_uri": "https://localhost:8080/"
        },
        "id": "ITy2YPFAen6Z",
        "outputId": "f6aecd86-f7cc-4b17-e3a8-efe2e5ba5c47"
      },
      "source": [
        "selected_columns = ['ID', 'Severity', 'Start_Time', 'End_Time',\n",
        "                     'Start_Lat', 'Start_Lng', 'End_Lat', 'End_Lng', 'Distance(mi)',\n",
        "                    'Description', 'City', 'State', 'Timezone', 'Weather_Timestamp',\n",
        "                    'Temperature(F)', 'Wind_Chill(F)', 'Humidity(%)', 'Pressure(in)',\n",
        "                    'Visibility(mi)', 'Wind_Direction', 'Wind_Speed(mph)',\n",
        "                    'Precipitation(in)', 'Weather_Condition', \n",
        "                    'Sunrise_Sunset', 'Nautical_Twilight']\n",
        "\n",
        "len(selected_columns)"
      ],
      "execution_count": 7,
      "outputs": [
        {
          "output_type": "execute_result",
          "data": {
            "text/plain": [
              "25"
            ]
          },
          "metadata": {},
          "execution_count": 7
        }
      ]
    },
    {
      "cell_type": "code",
      "metadata": {
        "colab": {
          "base_uri": "https://localhost:8080/"
        },
        "id": "klHhlFYagUxZ",
        "outputId": "65d8183b-69e0-4310-ff74-4f9901c434f7"
      },
      "source": [
        "len(raw_df.columns)"
      ],
      "execution_count": 8,
      "outputs": [
        {
          "output_type": "execute_result",
          "data": {
            "text/plain": [
              "47"
            ]
          },
          "metadata": {},
          "execution_count": 8
        }
      ]
    },
    {
      "cell_type": "markdown",
      "metadata": {
        "id": "kiwGx-pXgm82"
      },
      "source": [
        "Note that we've about halved the amount of columns! That's about half of the dataset that we're not interested in. "
      ]
    },
    {
      "cell_type": "markdown",
      "metadata": {
        "id": "CJuXkhtOh8wo"
      },
      "source": [
        "Let's now go ahead and make a new copy of the data, containing only the information we want called <code> weather_df </code>. Using <code> weather_df </code>, we can continue to modify and analyze further without actually affecting the original data and dataframe."
      ]
    },
    {
      "cell_type": "code",
      "metadata": {
        "id": "DkxMya4biVio"
      },
      "source": [
        "weather_df = raw_df[selected_columns].copy()"
      ],
      "execution_count": 9,
      "outputs": []
    },
    {
      "cell_type": "markdown",
      "metadata": {
        "id": "ykO4Cfq2BBig"
      },
      "source": [
        "Let's just get a better idea of whats inside <code>weather_df</code>"
      ]
    },
    {
      "cell_type": "code",
      "metadata": {
        "colab": {
          "base_uri": "https://localhost:8080/"
        },
        "id": "VNGw6smuAIml",
        "outputId": "3eab393c-dbb8-4c52-91f3-a355a53e820c"
      },
      "source": [
        "weather_df.shape"
      ],
      "execution_count": 10,
      "outputs": [
        {
          "output_type": "execute_result",
          "data": {
            "text/plain": [
              "(2906610, 25)"
            ]
          },
          "metadata": {},
          "execution_count": 10
        }
      ]
    },
    {
      "cell_type": "code",
      "metadata": {
        "colab": {
          "base_uri": "https://localhost:8080/"
        },
        "id": "BRMM_gY5ikPT",
        "outputId": "472b74e5-5578-43e4-c471-3e168ce7f2ff"
      },
      "source": [
        "weather_df.info()"
      ],
      "execution_count": 11,
      "outputs": [
        {
          "output_type": "stream",
          "name": "stdout",
          "text": [
            "<class 'pandas.core.frame.DataFrame'>\n",
            "RangeIndex: 2906610 entries, 0 to 2906609\n",
            "Data columns (total 25 columns):\n",
            " #   Column             Dtype  \n",
            "---  ------             -----  \n",
            " 0   ID                 object \n",
            " 1   Severity           int64  \n",
            " 2   Start_Time         object \n",
            " 3   End_Time           object \n",
            " 4   Start_Lat          float64\n",
            " 5   Start_Lng          float64\n",
            " 6   End_Lat            float64\n",
            " 7   End_Lng            float64\n",
            " 8   Distance(mi)       float64\n",
            " 9   Description        object \n",
            " 10  City               object \n",
            " 11  State              object \n",
            " 12  Timezone           object \n",
            " 13  Weather_Timestamp  object \n",
            " 14  Temperature(F)     float64\n",
            " 15  Wind_Chill(F)      float64\n",
            " 16  Humidity(%)        float64\n",
            " 17  Pressure(in)       float64\n",
            " 18  Visibility(mi)     float64\n",
            " 19  Wind_Direction     object \n",
            " 20  Wind_Speed(mph)    float64\n",
            " 21  Precipitation(in)  float64\n",
            " 22  Weather_Condition  object \n",
            " 23  Sunrise_Sunset     object \n",
            " 24  Nautical_Twilight  object \n",
            "dtypes: float64(12), int64(1), object(12)\n",
            "memory usage: 554.4+ MB\n"
          ]
        }
      ]
    },
    {
      "cell_type": "markdown",
      "metadata": {
        "id": "jK7kXA7aBPCq"
      },
      "source": [
        "Before moving forwards, let's also take care of any missing or Null values. We'll first see exactly how many missing values we have. "
      ]
    },
    {
      "cell_type": "code",
      "metadata": {
        "colab": {
          "base_uri": "https://localhost:8080/"
        },
        "id": "Vs3F5RwCcXQF",
        "outputId": "4e081be2-8a8a-49c1-9521-1e06e3e195ee"
      },
      "source": [
        "missing_percentage = weather_df.isna().sum().sort_values(ascending = False) / len(weather_df)\n",
        "missing_percentage"
      ],
      "execution_count": 12,
      "outputs": [
        {
          "output_type": "execute_result",
          "data": {
            "text/plain": [
              "Precipitation(in)    0.447713\n",
              "Wind_Chill(F)        0.407299\n",
              "Wind_Speed(mph)      0.105677\n",
              "End_Lng              0.097303\n",
              "End_Lat              0.097303\n",
              "Visibility(mi)       0.024798\n",
              "Weather_Condition    0.024720\n",
              "Humidity(%)          0.024520\n",
              "Temperature(F)       0.023128\n",
              "Wind_Direction       0.021838\n",
              "Pressure(in)         0.019579\n",
              "Weather_Timestamp    0.016141\n",
              "Timezone             0.001180\n",
              "Nautical_Twilight    0.000038\n",
              "Sunrise_Sunset       0.000038\n",
              "City                 0.000037\n",
              "Description          0.000000\n",
              "Distance(mi)         0.000000\n",
              "State                0.000000\n",
              "Start_Lng            0.000000\n",
              "Start_Lat            0.000000\n",
              "End_Time             0.000000\n",
              "Start_Time           0.000000\n",
              "Severity             0.000000\n",
              "ID                   0.000000\n",
              "dtype: float64"
            ]
          },
          "metadata": {},
          "execution_count": 12
        }
      ]
    },
    {
      "cell_type": "code",
      "metadata": {
        "colab": {
          "base_uri": "https://localhost:8080/",
          "height": 283
        },
        "id": "IaZSCp6qC3CY",
        "outputId": "ba7e366c-04f2-4d28-b501-02b9a80b3951"
      },
      "source": [
        "missing_percentage[missing_percentage != 0].plot(kind = \"barh\")"
      ],
      "execution_count": 13,
      "outputs": [
        {
          "output_type": "execute_result",
          "data": {
            "text/plain": [
              "<matplotlib.axes._subplots.AxesSubplot at 0x7f95ca829890>"
            ]
          },
          "metadata": {},
          "execution_count": 13
        },
        {
          "output_type": "display_data",
          "data": {
            "image/png": "[encoded data removed]",
            "text/plain": [
              "<Figure size 432x288 with 1 Axes>"
            ]
          },
          "metadata": {}
        }
      ]
    },
    {
      "cell_type": "markdown",
      "metadata": {
        "id": "frdMY3QDDLd_"
      },
      "source": [
        "From the graph we can see that *End_Lat* and *End_Lng* have the greatest amount of missing values, followed by *Precipitation* and *Wind_Chill*. \n",
        "\n",
        "We won't worry about the missing *End_Lat* and *End_Lng* values ***just*** yet as these missing values may indicate that that the vehicle simply did not move after the accident. In some states, moving the car after a crash is actually illegal so this may also be a factor in the missing values. \n",
        "\n"
      ]
    },
    {
      "cell_type": "code",
      "metadata": {
        "id": "pV25g0IbC26N"
      },
      "source": [
        "weather_df.dropna(subset = [\"Humidity(%)\", \"Weather_Condition\", \"Visibility(mi)\", \"Wind_Speed(mph)\", \"Precipitation(in)\", \"Wind_Chill(F)\"], inplace=True)"
      ],
      "execution_count": 14,
      "outputs": []
    },
    {
      "cell_type": "markdown",
      "metadata": {
        "id": "xj0lK7H_TF1U"
      },
      "source": [
        "Let's just making sure that the missing values were actually dropped. \n",
        "Note that we are not dropping *all* of the columns. The remaining ones just have such a small amount of missing values that it won't really have an affect on the analysis down the road. "
      ]
    },
    {
      "cell_type": "code",
      "metadata": {
        "colab": {
          "base_uri": "https://localhost:8080/",
          "height": 283
        },
        "id": "9C0rBfj_Txqd",
        "outputId": "3b399f31-0597-43df-cbed-98d4aafe2255"
      },
      "source": [
        "missing_percentage = weather_df.isna().sum().sort_values(ascending = False) / len(weather_df)\n",
        "missing_percentage[missing_percentage != 0].plot(kind = \"barh\")"
      ],
      "execution_count": 15,
      "outputs": [
        {
          "output_type": "execute_result",
          "data": {
            "text/plain": [
              "<matplotlib.axes._subplots.AxesSubplot at 0x7f95ca7c1550>"
            ]
          },
          "metadata": {},
          "execution_count": 15
        },
        {
          "output_type": "display_data",
          "data": {
            "image/png": "[encoded data removed]",
            "text/plain": [
              "<Figure size 432x288 with 1 Axes>"
            ]
          },
          "metadata": {}
        }
      ]
    },
    {
      "cell_type": "markdown",
      "metadata": {
        "id": "RLdMep-LozBQ"
      },
      "source": [
        "I will also go ahead and save this data for easy use in the future. By doing so, I won't have to start with the raw dataset and clean it every single time I work on this project."
      ]
    },
    {
      "cell_type": "code",
      "metadata": {
        "id": "INMxB3QjogiH"
      },
      "source": [
        "weather_df.to_csv(r'/content/us-accidents/clean_data.csv', index = False)"
      ],
      "execution_count": 26,
      "outputs": []
    },
    {
      "cell_type": "markdown",
      "metadata": {
        "id": "7M70e2W7T3L1"
      },
      "source": [
        "Now that all of the missing values have been dealt with, lets actually get into the data and see if there are any incorrect values.\n",
        "\n",
        "Let's start off with some basic statistics. "
      ]
    },
    {
      "cell_type": "code",
      "metadata": {
        "colab": {
          "base_uri": "https://localhost:8080/",
          "height": 319
        },
        "id": "e0Y35VVPQZ6E",
        "outputId": "bc5079ec-8be5-4a53-efde-1c45fa81a32f"
      },
      "source": [
        "weather_df.describe()"
      ],
      "execution_count": 16,
      "outputs": [
        {
          "output_type": "execute_result",
          "data": {
            "text/html": [
              "<div>\n",
              "<style scoped>\n",
              "    .dataframe tbody tr th:only-of-type {\n",
              "        vertical-align: middle;\n",
              "    }\n",
              "\n",
              "    .dataframe tbody tr th {\n",
              "        vertical-align: top;\n",
              "    }\n",
              "\n",
              "    .dataframe thead th {\n",
              "        text-align: right;\n",
              "    }\n",
              "</style>\n",
              "<table border=\"1\" class=\"dataframe\">\n",
              "  <thead>\n",
              "    <tr style=\"text-align: right;\">\n",
              "      <th></th>\n",
              "      <th>Severity</th>\n",
              "      <th>Start_Lat</th>\n",
              "      <th>Start_Lng</th>\n",
              "      <th>End_Lat</th>\n",
              "      <th>End_Lng</th>\n",
              "      <th>Distance(mi)</th>\n",
              "      <th>Temperature(F)</th>\n",
              "      <th>Wind_Chill(F)</th>\n",
              "      <th>Humidity(%)</th>\n",
              "      <th>Pressure(in)</th>\n",
              "      <th>Visibility(mi)</th>\n",
              "      <th>Wind_Speed(mph)</th>\n",
              "      <th>Precipitation(in)</th>\n",
              "    </tr>\n",
              "  </thead>\n",
              "  <tbody>\n",
              "    <tr>\n",
              "      <th>count</th>\n",
              "      <td>1.462742e+06</td>\n",
              "      <td>1.462742e+06</td>\n",
              "      <td>1.462742e+06</td>\n",
              "      <td>1.381003e+06</td>\n",
              "      <td>1.381003e+06</td>\n",
              "      <td>1.462742e+06</td>\n",
              "      <td>1.462742e+06</td>\n",
              "      <td>1.462742e+06</td>\n",
              "      <td>1.462742e+06</td>\n",
              "      <td>1.462034e+06</td>\n",
              "      <td>1.462742e+06</td>\n",
              "      <td>1.462742e+06</td>\n",
              "      <td>1.462742e+06</td>\n",
              "    </tr>\n",
              "    <tr>\n",
              "      <th>mean</th>\n",
              "      <td>2.203830e+00</td>\n",
              "      <td>3.659601e+01</td>\n",
              "      <td>-9.672085e+01</td>\n",
              "      <td>3.654948e+01</td>\n",
              "      <td>-9.646967e+01</td>\n",
              "      <td>4.375578e-01</td>\n",
              "      <td>5.984798e+01</td>\n",
              "      <td>5.850785e+01</td>\n",
              "      <td>6.612227e+01</td>\n",
              "      <td>2.934691e+01</td>\n",
              "      <td>8.953615e+00</td>\n",
              "      <td>7.175253e+00</td>\n",
              "      <td>6.448827e-03</td>\n",
              "    </tr>\n",
              "    <tr>\n",
              "      <th>std</th>\n",
              "      <td>5.144949e-01</td>\n",
              "      <td>5.119588e+00</td>\n",
              "      <td>1.793836e+01</td>\n",
              "      <td>5.140887e+00</td>\n",
              "      <td>1.787470e+01</td>\n",
              "      <td>1.649376e+00</td>\n",
              "      <td>1.829572e+01</td>\n",
              "      <td>2.045406e+01</td>\n",
              "      <td>2.299925e+01</td>\n",
              "      <td>1.107690e+00</td>\n",
              "      <td>2.778253e+00</td>\n",
              "      <td>5.580180e+00</td>\n",
              "      <td>8.207617e-02</td>\n",
              "    </tr>\n",
              "    <tr>\n",
              "      <th>min</th>\n",
              "      <td>1.000000e+00</td>\n",
              "      <td>2.455527e+01</td>\n",
              "      <td>-1.244976e+02</td>\n",
              "      <td>2.455527e+01</td>\n",
              "      <td>-1.244975e+02</td>\n",
              "      <td>0.000000e+00</td>\n",
              "      <td>-2.700000e+01</td>\n",
              "      <td>-5.270000e+01</td>\n",
              "      <td>1.000000e+00</td>\n",
              "      <td>1.937000e+01</td>\n",
              "      <td>0.000000e+00</td>\n",
              "      <td>0.000000e+00</td>\n",
              "      <td>0.000000e+00</td>\n",
              "    </tr>\n",
              "    <tr>\n",
              "      <th>25%</th>\n",
              "      <td>2.000000e+00</td>\n",
              "      <td>3.372973e+01</td>\n",
              "      <td>-1.179175e+02</td>\n",
              "      <td>3.368313e+01</td>\n",
              "      <td>-1.178586e+02</td>\n",
              "      <td>0.000000e+00</td>\n",
              "      <td>4.700000e+01</td>\n",
              "      <td>4.500000e+01</td>\n",
              "      <td>5.000000e+01</td>\n",
              "      <td>2.917000e+01</td>\n",
              "      <td>1.000000e+01</td>\n",
              "      <td>3.000000e+00</td>\n",
              "      <td>0.000000e+00</td>\n",
              "    </tr>\n",
              "    <tr>\n",
              "      <th>50%</th>\n",
              "      <td>2.000000e+00</td>\n",
              "      <td>3.612933e+01</td>\n",
              "      <td>-9.143870e+01</td>\n",
              "      <td>3.607528e+01</td>\n",
              "      <td>-9.112135e+01</td>\n",
              "      <td>0.000000e+00</td>\n",
              "      <td>6.100000e+01</td>\n",
              "      <td>6.100000e+01</td>\n",
              "      <td>7.000000e+01</td>\n",
              "      <td>2.968000e+01</td>\n",
              "      <td>1.000000e+01</td>\n",
              "      <td>7.000000e+00</td>\n",
              "      <td>0.000000e+00</td>\n",
              "    </tr>\n",
              "    <tr>\n",
              "      <th>75%</th>\n",
              "      <td>2.000000e+00</td>\n",
              "      <td>4.057520e+01</td>\n",
              "      <td>-8.080292e+01</td>\n",
              "      <td>4.054426e+01</td>\n",
              "      <td>-8.075835e+01</td>\n",
              "      <td>2.820000e-01</td>\n",
              "      <td>7.400000e+01</td>\n",
              "      <td>7.400000e+01</td>\n",
              "      <td>8.600000e+01</td>\n",
              "      <td>2.995000e+01</td>\n",
              "      <td>1.000000e+01</td>\n",
              "      <td>1.000000e+01</td>\n",
              "      <td>0.000000e+00</td>\n",
              "    </tr>\n",
              "    <tr>\n",
              "      <th>max</th>\n",
              "      <td>4.000000e+00</td>\n",
              "      <td>4.900220e+01</td>\n",
              "      <td>-6.748413e+01</td>\n",
              "      <td>4.907500e+01</td>\n",
              "      <td>-6.748413e+01</td>\n",
              "      <td>2.512200e+02</td>\n",
              "      <td>1.740000e+02</td>\n",
              "      <td>1.740000e+02</td>\n",
              "      <td>1.000000e+02</td>\n",
              "      <td>5.804000e+01</td>\n",
              "      <td>1.000000e+02</td>\n",
              "      <td>9.840000e+02</td>\n",
              "      <td>2.400000e+01</td>\n",
              "    </tr>\n",
              "  </tbody>\n",
              "</table>\n",
              "</div>"
            ],
            "text/plain": [
              "           Severity     Start_Lat  ...  Wind_Speed(mph)  Precipitation(in)\n",
              "count  1.462742e+06  1.462742e+06  ...     1.462742e+06       1.462742e+06\n",
              "mean   2.203830e+00  3.659601e+01  ...     7.175253e+00       6.448827e-03\n",
              "std    5.144949e-01  5.119588e+00  ...     5.580180e+00       8.207617e-02\n",
              "min    1.000000e+00  2.455527e+01  ...     0.000000e+00       0.000000e+00\n",
              "25%    2.000000e+00  3.372973e+01  ...     3.000000e+00       0.000000e+00\n",
              "50%    2.000000e+00  3.612933e+01  ...     7.000000e+00       0.000000e+00\n",
              "75%    2.000000e+00  4.057520e+01  ...     1.000000e+01       0.000000e+00\n",
              "max    4.000000e+00  4.900220e+01  ...     9.840000e+02       2.400000e+01\n",
              "\n",
              "[8 rows x 13 columns]"
            ]
          },
          "metadata": {},
          "execution_count": 16
        }
      ]
    },
    {
      "cell_type": "markdown",
      "metadata": {
        "id": "4GTe-pZvc043"
      },
      "source": [
        "There seems to be a problem with the Distance(mi) column. The maximum distance is a car moved during the accident is about 251 miles. This value seems a bit too high, and as such, seems unreliable and unrealistic.  "
      ]
    },
    {
      "cell_type": "markdown",
      "metadata": {
        "id": "I_4tBVWuV5IZ"
      },
      "source": [
        "There are similiar problems with Temperature(F), Wind_Chill(F) and Wind_Speed(mph) columns. The maximum value in each of these columns seems too high to be realistic. For example, it does not make sense that the temperature during the accident was 174 degrees Farenheit when the highest recorded temperature ever on Earth is 134 degrees Farenheit (set on July 10, 1913). "
      ]
    },
    {
      "cell_type": "markdown",
      "metadata": {
        "id": "MEwRLkNqE2XV"
      },
      "source": [
        "A simple fix for these unrealistic and unreliable values are to simply exclude them from our analysis. "
      ]
    },
    {
      "cell_type": "code",
      "metadata": {
        "id": "0CnRXUlBE86z"
      },
      "source": [
        "weather_df.drop(weather_df[weather_df[\"Distance(mi)\"] > 100].index, inplace=True)\n",
        "weather_df.drop(weather_df[weather_df[\"Temperature(F)\"] > 134].index, inplace=True)\n",
        "weather_df.drop(weather_df[weather_df[\"Wind_Chill(F)\"] > 60].index, inplace=True)\n",
        "weather_df.drop(weather_df[weather_df[\"Wind_Speed(mph)\"] > 231].index, inplace=True)"
      ],
      "execution_count": 17,
      "outputs": []
    },
    {
      "cell_type": "code",
      "metadata": {
        "colab": {
          "base_uri": "https://localhost:8080/",
          "height": 319
        },
        "id": "fBP-8_NNGaKL",
        "outputId": "1657c7a9-5479-43d9-c32d-2fbf9b17b03b"
      },
      "source": [
        "weather_df.describe()"
      ],
      "execution_count": 18,
      "outputs": [
        {
          "output_type": "execute_result",
          "data": {
            "text/html": [
              "<div>\n",
              "<style scoped>\n",
              "    .dataframe tbody tr th:only-of-type {\n",
              "        vertical-align: middle;\n",
              "    }\n",
              "\n",
              "    .dataframe tbody tr th {\n",
              "        vertical-align: top;\n",
              "    }\n",
              "\n",
              "    .dataframe thead th {\n",
              "        text-align: right;\n",
              "    }\n",
              "</style>\n",
              "<table border=\"1\" class=\"dataframe\">\n",
              "  <thead>\n",
              "    <tr style=\"text-align: right;\">\n",
              "      <th></th>\n",
              "      <th>Severity</th>\n",
              "      <th>Start_Lat</th>\n",
              "      <th>Start_Lng</th>\n",
              "      <th>End_Lat</th>\n",
              "      <th>End_Lng</th>\n",
              "      <th>Distance(mi)</th>\n",
              "      <th>Temperature(F)</th>\n",
              "      <th>Wind_Chill(F)</th>\n",
              "      <th>Humidity(%)</th>\n",
              "      <th>Pressure(in)</th>\n",
              "      <th>Visibility(mi)</th>\n",
              "      <th>Wind_Speed(mph)</th>\n",
              "      <th>Precipitation(in)</th>\n",
              "    </tr>\n",
              "  </thead>\n",
              "  <tbody>\n",
              "    <tr>\n",
              "      <th>count</th>\n",
              "      <td>712816.000000</td>\n",
              "      <td>712816.000000</td>\n",
              "      <td>712816.000000</td>\n",
              "      <td>670875.000000</td>\n",
              "      <td>670875.000000</td>\n",
              "      <td>712816.000000</td>\n",
              "      <td>712816.000000</td>\n",
              "      <td>712816.000000</td>\n",
              "      <td>712816.000000</td>\n",
              "      <td>712425.000000</td>\n",
              "      <td>712816.000000</td>\n",
              "      <td>712816.000000</td>\n",
              "      <td>712816.000000</td>\n",
              "    </tr>\n",
              "    <tr>\n",
              "      <th>mean</th>\n",
              "      <td>2.192585</td>\n",
              "      <td>38.604513</td>\n",
              "      <td>-97.390789</td>\n",
              "      <td>38.573880</td>\n",
              "      <td>-97.192285</td>\n",
              "      <td>0.480983</td>\n",
              "      <td>44.520303</td>\n",
              "      <td>41.770337</td>\n",
              "      <td>73.424398</td>\n",
              "      <td>29.283090</td>\n",
              "      <td>8.408848</td>\n",
              "      <td>6.763847</td>\n",
              "      <td>0.007721</td>\n",
              "    </tr>\n",
              "    <tr>\n",
              "      <th>std</th>\n",
              "      <td>0.495585</td>\n",
              "      <td>4.494895</td>\n",
              "      <td>18.540248</td>\n",
              "      <td>4.516422</td>\n",
              "      <td>18.505757</td>\n",
              "      <td>1.624178</td>\n",
              "      <td>11.848420</td>\n",
              "      <td>14.960839</td>\n",
              "      <td>19.355494</td>\n",
              "      <td>1.242086</td>\n",
              "      <td>3.154094</td>\n",
              "      <td>5.762795</td>\n",
              "      <td>0.107808</td>\n",
              "    </tr>\n",
              "    <tr>\n",
              "      <th>min</th>\n",
              "      <td>1.000000</td>\n",
              "      <td>24.574326</td>\n",
              "      <td>-124.497567</td>\n",
              "      <td>24.574546</td>\n",
              "      <td>-124.497478</td>\n",
              "      <td>0.000000</td>\n",
              "      <td>-27.000000</td>\n",
              "      <td>-52.700000</td>\n",
              "      <td>4.000000</td>\n",
              "      <td>19.480000</td>\n",
              "      <td>0.000000</td>\n",
              "      <td>0.000000</td>\n",
              "      <td>0.000000</td>\n",
              "    </tr>\n",
              "    <tr>\n",
              "      <th>25%</th>\n",
              "      <td>2.000000</td>\n",
              "      <td>34.789993</td>\n",
              "      <td>-118.226471</td>\n",
              "      <td>34.766392</td>\n",
              "      <td>-118.199341</td>\n",
              "      <td>0.000000</td>\n",
              "      <td>37.000000</td>\n",
              "      <td>33.000000</td>\n",
              "      <td>61.000000</td>\n",
              "      <td>29.130000</td>\n",
              "      <td>8.000000</td>\n",
              "      <td>3.000000</td>\n",
              "      <td>0.000000</td>\n",
              "    </tr>\n",
              "    <tr>\n",
              "      <th>50%</th>\n",
              "      <td>2.000000</td>\n",
              "      <td>38.891848</td>\n",
              "      <td>-93.217866</td>\n",
              "      <td>38.882228</td>\n",
              "      <td>-93.164062</td>\n",
              "      <td>0.010000</td>\n",
              "      <td>47.000000</td>\n",
              "      <td>44.000000</td>\n",
              "      <td>78.000000</td>\n",
              "      <td>29.640000</td>\n",
              "      <td>10.000000</td>\n",
              "      <td>6.000000</td>\n",
              "      <td>0.000000</td>\n",
              "    </tr>\n",
              "    <tr>\n",
              "      <th>75%</th>\n",
              "      <td>2.000000</td>\n",
              "      <td>41.909622</td>\n",
              "      <td>-80.481331</td>\n",
              "      <td>41.904583</td>\n",
              "      <td>-80.276722</td>\n",
              "      <td>0.367000</td>\n",
              "      <td>54.000000</td>\n",
              "      <td>54.000000</td>\n",
              "      <td>89.000000</td>\n",
              "      <td>29.970000</td>\n",
              "      <td>10.000000</td>\n",
              "      <td>10.000000</td>\n",
              "      <td>0.000000</td>\n",
              "    </tr>\n",
              "    <tr>\n",
              "      <th>max</th>\n",
              "      <td>4.000000</td>\n",
              "      <td>49.002201</td>\n",
              "      <td>-67.484130</td>\n",
              "      <td>49.075000</td>\n",
              "      <td>-67.484130</td>\n",
              "      <td>99.791000</td>\n",
              "      <td>60.000000</td>\n",
              "      <td>60.000000</td>\n",
              "      <td>100.000000</td>\n",
              "      <td>58.040000</td>\n",
              "      <td>100.000000</td>\n",
              "      <td>230.000000</td>\n",
              "      <td>24.000000</td>\n",
              "    </tr>\n",
              "  </tbody>\n",
              "</table>\n",
              "</div>"
            ],
            "text/plain": [
              "            Severity      Start_Lat  ...  Wind_Speed(mph)  Precipitation(in)\n",
              "count  712816.000000  712816.000000  ...    712816.000000      712816.000000\n",
              "mean        2.192585      38.604513  ...         6.763847           0.007721\n",
              "std         0.495585       4.494895  ...         5.762795           0.107808\n",
              "min         1.000000      24.574326  ...         0.000000           0.000000\n",
              "25%         2.000000      34.789993  ...         3.000000           0.000000\n",
              "50%         2.000000      38.891848  ...         6.000000           0.000000\n",
              "75%         2.000000      41.909622  ...        10.000000           0.000000\n",
              "max         4.000000      49.002201  ...       230.000000          24.000000\n",
              "\n",
              "[8 rows x 13 columns]"
            ]
          },
          "metadata": {},
          "execution_count": 18
        }
      ]
    },
    {
      "cell_type": "code",
      "metadata": {
        "colab": {
          "base_uri": "https://localhost:8080/"
        },
        "id": "v3LNwDrmlqi1",
        "outputId": "6896283f-f28a-4328-e2b6-88252e507379"
      },
      "source": [
        "weather_df['ID'].count()"
      ],
      "execution_count": 19,
      "outputs": [
        {
          "output_type": "execute_result",
          "data": {
            "text/plain": [
              "712816"
            ]
          },
          "metadata": {},
          "execution_count": 19
        }
      ]
    },
    {
      "cell_type": "markdown",
      "metadata": {
        "id": "0xlH-yVHG2l9"
      },
      "source": [
        "#### Note that we only have about 712 000 entries left in our dataset after cleaning and preparing it! We originally had over 4.2 million entries. That's about 3 million entries which were unusable for either containing null/missing values or have unrealistic information inside. "
      ]
    },
    {
      "cell_type": "markdown",
      "metadata": {
        "id": "AiozSb1OywnH"
      },
      "source": [
        "#### We've now cleaned up and prepared the dataset for analysis. Let's take a look at a sample of rows from the data frame. "
      ]
    },
    {
      "cell_type": "code",
      "metadata": {
        "id": "ZfZzoym_G1xP",
        "colab": {
          "base_uri": "https://localhost:8080/",
          "height": 883
        },
        "outputId": "354cec2c-cc38-4c18-8a83-b1051110a153"
      },
      "source": [
        "weather_df.sample(10)"
      ],
      "execution_count": 20,
      "outputs": [
        {
          "output_type": "execute_result",
          "data": {
            "text/html": [
              "<div>\n",
              "<style scoped>\n",
              "    .dataframe tbody tr th:only-of-type {\n",
              "        vertical-align: middle;\n",
              "    }\n",
              "\n",
              "    .dataframe tbody tr th {\n",
              "        vertical-align: top;\n",
              "    }\n",
              "\n",
              "    .dataframe thead th {\n",
              "        text-align: right;\n",
              "    }\n",
              "</style>\n",
              "<table border=\"1\" class=\"dataframe\">\n",
              "  <thead>\n",
              "    <tr style=\"text-align: right;\">\n",
              "      <th></th>\n",
              "      <th>ID</th>\n",
              "      <th>Severity</th>\n",
              "      <th>Start_Time</th>\n",
              "      <th>End_Time</th>\n",
              "      <th>Start_Lat</th>\n",
              "      <th>Start_Lng</th>\n",
              "      <th>End_Lat</th>\n",
              "      <th>End_Lng</th>\n",
              "      <th>Distance(mi)</th>\n",
              "      <th>Description</th>\n",
              "      <th>City</th>\n",
              "      <th>State</th>\n",
              "      <th>Timezone</th>\n",
              "      <th>Weather_Timestamp</th>\n",
              "      <th>Temperature(F)</th>\n",
              "      <th>Wind_Chill(F)</th>\n",
              "      <th>Humidity(%)</th>\n",
              "      <th>Pressure(in)</th>\n",
              "      <th>Visibility(mi)</th>\n",
              "      <th>Wind_Direction</th>\n",
              "      <th>Wind_Speed(mph)</th>\n",
              "      <th>Precipitation(in)</th>\n",
              "      <th>Weather_Condition</th>\n",
              "      <th>Sunrise_Sunset</th>\n",
              "      <th>Nautical_Twilight</th>\n",
              "    </tr>\n",
              "  </thead>\n",
              "  <tbody>\n",
              "    <tr>\n",
              "      <th>327342</th>\n",
              "      <td>A-327343</td>\n",
              "      <td>3</td>\n",
              "      <td>2019-12-11 10:59:40</td>\n",
              "      <td>2019-12-11 12:30:18</td>\n",
              "      <td>32.681732</td>\n",
              "      <td>-96.744240</td>\n",
              "      <td>32.681732</td>\n",
              "      <td>-96.744240</td>\n",
              "      <td>0.000</td>\n",
              "      <td>One lane blocked due to accident on I-45 North...</td>\n",
              "      <td>Dallas</td>\n",
              "      <td>TX</td>\n",
              "      <td>US/Central</td>\n",
              "      <td>2019-12-11 10:53:00</td>\n",
              "      <td>45.0</td>\n",
              "      <td>42.0</td>\n",
              "      <td>58.0</td>\n",
              "      <td>29.80</td>\n",
              "      <td>10.0</td>\n",
              "      <td>SSE</td>\n",
              "      <td>6.0</td>\n",
              "      <td>0.00</td>\n",
              "      <td>Fair</td>\n",
              "      <td>Day</td>\n",
              "      <td>Day</td>\n",
              "    </tr>\n",
              "    <tr>\n",
              "      <th>1642242</th>\n",
              "      <td>A-1642243</td>\n",
              "      <td>3</td>\n",
              "      <td>2020-03-15 23:50:02</td>\n",
              "      <td>2020-03-16 00:19:54</td>\n",
              "      <td>33.854110</td>\n",
              "      <td>-117.886390</td>\n",
              "      <td>33.854230</td>\n",
              "      <td>-117.893490</td>\n",
              "      <td>0.407</td>\n",
              "      <td>At State College Blvd - Accident.</td>\n",
              "      <td>Anaheim</td>\n",
              "      <td>CA</td>\n",
              "      <td>US/Pacific</td>\n",
              "      <td>2020-03-15 23:53:00</td>\n",
              "      <td>59.0</td>\n",
              "      <td>59.0</td>\n",
              "      <td>55.0</td>\n",
              "      <td>29.99</td>\n",
              "      <td>10.0</td>\n",
              "      <td>CALM</td>\n",
              "      <td>0.0</td>\n",
              "      <td>0.00</td>\n",
              "      <td>Cloudy</td>\n",
              "      <td>Night</td>\n",
              "      <td>Night</td>\n",
              "    </tr>\n",
              "    <tr>\n",
              "      <th>582816</th>\n",
              "      <td>A-582817</td>\n",
              "      <td>2</td>\n",
              "      <td>2020-12-31 01:12:04</td>\n",
              "      <td>2020-12-31 09:12:04</td>\n",
              "      <td>45.597959</td>\n",
              "      <td>-121.137937</td>\n",
              "      <td>45.598387</td>\n",
              "      <td>-121.138912</td>\n",
              "      <td>0.056</td>\n",
              "      <td>Rock fall has occurred causing no to minimum d...</td>\n",
              "      <td>The Dalles</td>\n",
              "      <td>OR</td>\n",
              "      <td>US/Pacific</td>\n",
              "      <td>2020-12-31 00:53:00</td>\n",
              "      <td>35.0</td>\n",
              "      <td>35.0</td>\n",
              "      <td>100.0</td>\n",
              "      <td>29.71</td>\n",
              "      <td>4.0</td>\n",
              "      <td>CALM</td>\n",
              "      <td>0.0</td>\n",
              "      <td>0.00</td>\n",
              "      <td>Cloudy</td>\n",
              "      <td>Night</td>\n",
              "      <td>Night</td>\n",
              "    </tr>\n",
              "    <tr>\n",
              "      <th>467188</th>\n",
              "      <td>A-467189</td>\n",
              "      <td>2</td>\n",
              "      <td>2020-10-31 22:27:57</td>\n",
              "      <td>2020-11-01 00:09:01</td>\n",
              "      <td>40.732928</td>\n",
              "      <td>-74.220825</td>\n",
              "      <td>40.736956</td>\n",
              "      <td>-74.218065</td>\n",
              "      <td>0.314</td>\n",
              "      <td>Incident on GARDEN STATE PKWY NB near COUNTY H...</td>\n",
              "      <td>Irvington</td>\n",
              "      <td>NJ</td>\n",
              "      <td>US/Eastern</td>\n",
              "      <td>2020-10-31 22:51:00</td>\n",
              "      <td>43.0</td>\n",
              "      <td>39.0</td>\n",
              "      <td>65.0</td>\n",
              "      <td>30.39</td>\n",
              "      <td>10.0</td>\n",
              "      <td>S</td>\n",
              "      <td>6.0</td>\n",
              "      <td>0.00</td>\n",
              "      <td>Fair</td>\n",
              "      <td>Night</td>\n",
              "      <td>Night</td>\n",
              "    </tr>\n",
              "    <tr>\n",
              "      <th>2134780</th>\n",
              "      <td>A-2134781</td>\n",
              "      <td>2</td>\n",
              "      <td>2020-03-03 06:22:27</td>\n",
              "      <td>2020-03-03 07:13:18</td>\n",
              "      <td>35.348660</td>\n",
              "      <td>-97.405922</td>\n",
              "      <td>35.348660</td>\n",
              "      <td>-97.405922</td>\n",
              "      <td>0.000</td>\n",
              "      <td>Accident on Air Depot Blvd at 119th St.</td>\n",
              "      <td>Oklahoma City</td>\n",
              "      <td>OK</td>\n",
              "      <td>US/Central</td>\n",
              "      <td>2020-03-03 05:56:00</td>\n",
              "      <td>45.0</td>\n",
              "      <td>39.0</td>\n",
              "      <td>76.0</td>\n",
              "      <td>28.46</td>\n",
              "      <td>10.0</td>\n",
              "      <td>ENE</td>\n",
              "      <td>12.0</td>\n",
              "      <td>0.00</td>\n",
              "      <td>Fair</td>\n",
              "      <td>Night</td>\n",
              "      <td>Day</td>\n",
              "    </tr>\n",
              "    <tr>\n",
              "      <th>1296795</th>\n",
              "      <td>A-1296796</td>\n",
              "      <td>2</td>\n",
              "      <td>2020-12-19 10:56:26</td>\n",
              "      <td>2020-12-19 14:01:30</td>\n",
              "      <td>35.008611</td>\n",
              "      <td>-82.013803</td>\n",
              "      <td>35.007952</td>\n",
              "      <td>-82.013109</td>\n",
              "      <td>0.060</td>\n",
              "      <td>Incident on ASHEVILLE HWY near DICK WILSON RD ...</td>\n",
              "      <td>Spartanburg</td>\n",
              "      <td>SC</td>\n",
              "      <td>US/Eastern</td>\n",
              "      <td>2020-12-19 10:55:00</td>\n",
              "      <td>39.0</td>\n",
              "      <td>39.0</td>\n",
              "      <td>65.0</td>\n",
              "      <td>29.55</td>\n",
              "      <td>10.0</td>\n",
              "      <td>CALM</td>\n",
              "      <td>0.0</td>\n",
              "      <td>0.00</td>\n",
              "      <td>Fair</td>\n",
              "      <td>Day</td>\n",
              "      <td>Day</td>\n",
              "    </tr>\n",
              "    <tr>\n",
              "      <th>1476654</th>\n",
              "      <td>A-1476655</td>\n",
              "      <td>2</td>\n",
              "      <td>2020-10-16 15:12:51</td>\n",
              "      <td>2020-10-16 15:42:30</td>\n",
              "      <td>40.698521</td>\n",
              "      <td>-74.214462</td>\n",
              "      <td>40.698521</td>\n",
              "      <td>-74.214462</td>\n",
              "      <td>0.000</td>\n",
              "      <td>Lane blocked due to accident on US-22 Eastboun...</td>\n",
              "      <td>Hillside</td>\n",
              "      <td>NJ</td>\n",
              "      <td>US/Eastern</td>\n",
              "      <td>2020-10-16 14:51:00</td>\n",
              "      <td>52.0</td>\n",
              "      <td>52.0</td>\n",
              "      <td>89.0</td>\n",
              "      <td>30.09</td>\n",
              "      <td>5.0</td>\n",
              "      <td>NNW</td>\n",
              "      <td>10.0</td>\n",
              "      <td>0.10</td>\n",
              "      <td>Light Rain</td>\n",
              "      <td>Day</td>\n",
              "      <td>Day</td>\n",
              "    </tr>\n",
              "    <tr>\n",
              "      <th>1838823</th>\n",
              "      <td>A-1838824</td>\n",
              "      <td>2</td>\n",
              "      <td>2020-10-18 22:12:10</td>\n",
              "      <td>2020-10-19 01:55:59</td>\n",
              "      <td>34.617839</td>\n",
              "      <td>-82.122276</td>\n",
              "      <td>34.618309</td>\n",
              "      <td>-82.122733</td>\n",
              "      <td>0.042</td>\n",
              "      <td>Incident on SC-14 near HEARTHSTONE DR Expect d...</td>\n",
              "      <td>Gray Court</td>\n",
              "      <td>SC</td>\n",
              "      <td>US/Eastern</td>\n",
              "      <td>2020-10-18 22:15:00</td>\n",
              "      <td>50.0</td>\n",
              "      <td>50.0</td>\n",
              "      <td>100.0</td>\n",
              "      <td>29.55</td>\n",
              "      <td>10.0</td>\n",
              "      <td>ENE</td>\n",
              "      <td>3.0</td>\n",
              "      <td>0.00</td>\n",
              "      <td>Fair</td>\n",
              "      <td>Night</td>\n",
              "      <td>Night</td>\n",
              "    </tr>\n",
              "    <tr>\n",
              "      <th>1617864</th>\n",
              "      <td>A-1617865</td>\n",
              "      <td>4</td>\n",
              "      <td>2020-10-31 04:46:13</td>\n",
              "      <td>2020-10-31 06:23:16</td>\n",
              "      <td>39.686247</td>\n",
              "      <td>-77.720805</td>\n",
              "      <td>39.686984</td>\n",
              "      <td>-77.720958</td>\n",
              "      <td>0.052</td>\n",
              "      <td>Incident on US-11 NB near MAUGANS AVE Road clo...</td>\n",
              "      <td>Hagerstown</td>\n",
              "      <td>MD</td>\n",
              "      <td>US/Eastern</td>\n",
              "      <td>2020-10-31 04:53:00</td>\n",
              "      <td>36.0</td>\n",
              "      <td>36.0</td>\n",
              "      <td>89.0</td>\n",
              "      <td>29.64</td>\n",
              "      <td>10.0</td>\n",
              "      <td>CALM</td>\n",
              "      <td>0.0</td>\n",
              "      <td>0.00</td>\n",
              "      <td>Cloudy</td>\n",
              "      <td>Night</td>\n",
              "      <td>Night</td>\n",
              "    </tr>\n",
              "    <tr>\n",
              "      <th>2546534</th>\n",
              "      <td>A-2546535</td>\n",
              "      <td>4</td>\n",
              "      <td>2017-04-01 01:19:31</td>\n",
              "      <td>2017-04-01 07:19:31</td>\n",
              "      <td>41.889701</td>\n",
              "      <td>-72.267811</td>\n",
              "      <td>41.903350</td>\n",
              "      <td>-72.266865</td>\n",
              "      <td>0.944</td>\n",
              "      <td>Closed at Hancock Rd - Road closed due to acci...</td>\n",
              "      <td>Willington</td>\n",
              "      <td>CT</td>\n",
              "      <td>US/Eastern</td>\n",
              "      <td>2017-04-01 00:52:00</td>\n",
              "      <td>37.0</td>\n",
              "      <td>28.9</td>\n",
              "      <td>86.0</td>\n",
              "      <td>29.83</td>\n",
              "      <td>5.0</td>\n",
              "      <td>ENE</td>\n",
              "      <td>12.7</td>\n",
              "      <td>0.02</td>\n",
              "      <td>Light Rain</td>\n",
              "      <td>Night</td>\n",
              "      <td>Night</td>\n",
              "    </tr>\n",
              "  </tbody>\n",
              "</table>\n",
              "</div>"
            ],
            "text/plain": [
              "                ID  Severity  ... Sunrise_Sunset Nautical_Twilight\n",
              "327342    A-327343         3  ...            Day               Day\n",
              "1642242  A-1642243         3  ...          Night             Night\n",
              "582816    A-582817         2  ...          Night             Night\n",
              "467188    A-467189         2  ...          Night             Night\n",
              "2134780  A-2134781         2  ...          Night               Day\n",
              "1296795  A-1296796         2  ...            Day               Day\n",
              "1476654  A-1476655         2  ...            Day               Day\n",
              "1838823  A-1838824         2  ...          Night             Night\n",
              "1617864  A-1617865         4  ...          Night             Night\n",
              "2546534  A-2546535         4  ...          Night             Night\n",
              "\n",
              "[10 rows x 25 columns]"
            ]
          },
          "metadata": {},
          "execution_count": 20
        }
      ]
    },
    {
      "cell_type": "markdown",
      "metadata": {
        "id": "jD2Yp_XKzdtV"
      },
      "source": [
        "## Exploratory Analysis and Visualization\n",
        "#### Let's begin by seeing where exactly the accidents are occuring. We'll do this by taking a 10% sample of the data and using the \"Start Longitude\" and \"Start Latitude\" columns."
      ]
    },
    {
      "cell_type": "code",
      "metadata": {
        "id": "bKJ6HR03zwvL"
      },
      "source": [
        "location_df = weather_df.sample(int(0.1 * len(weather_df)))"
      ],
      "execution_count": 21,
      "outputs": []
    },
    {
      "cell_type": "code",
      "metadata": {
        "colab": {
          "base_uri": "https://localhost:8080/",
          "height": 301
        },
        "id": "8V2wIy3DzwiT",
        "outputId": "d05a142c-bb29-4516-ee9f-db2a0f19e3f5"
      },
      "source": [
        "sns.scatterplot(x = location_df.Start_Lng, y = location_df.Start_Lat, size = 0.002)"
      ],
      "execution_count": 22,
      "outputs": [
        {
          "output_type": "execute_result",
          "data": {
            "text/plain": [
              "<matplotlib.axes._subplots.AxesSubplot at 0x7f95ca2eb910>"
            ]
          },
          "metadata": {},
          "execution_count": 22
        },
        {
          "output_type": "display_data",
          "data": {
            "image/png": "[encoded data removed]",
            "text/plain": [
              "<Figure size 432x288 with 1 Axes>"
            ]
          },
          "metadata": {}
        }
      ]
    },
    {
      "cell_type": "code",
      "metadata": {
        "id": "HAMjeaU_1BMg"
      },
      "source": [
        "latitude_longitude_pairs = list(zip(list(location_df.Start_Lat), list(location_df.Start_Lng)))"
      ],
      "execution_count": 23,
      "outputs": []
    },
    {
      "cell_type": "code",
      "metadata": {
        "id": "GqDN8hwj1i5-"
      },
      "source": [
        "map = folium.Map()\n",
        "HeatMap(latitude_longitude_pairs, radius=20).add_to(map)\n",
        "map"
      ],
      "execution_count": null,
      "outputs": []
    },
    {
      "cell_type": "markdown",
      "metadata": {
        "id": "3L3AnJ7SJSwR"
      },
      "source": [
        "Let's get a more granular look into each of the states."
      ]
    },
    {
      "cell_type": "code",
      "metadata": {
        "id": "NlYVrW9mJSVz"
      },
      "source": [
        "col_list = []\n",
        "col_list.append(weather_df.groupby(by='State')['ID'].count())\n",
        "for col in ['Temperature(F)', 'Wind_Chill(F)', 'Humidity(%)', 'Visibility(mi)', 'Wind_Speed(mph)', 'Precipitation(in)', 'Distance(mi)']:\n",
        "  avg_df = pd.DataFrame({f'avg_{col}': weather_df.groupby(by='State')[f'{col}'].mean()})\n",
        "  median_df = pd.DataFrame({f'median_{col}': weather_df.groupby(by='State')[f'{col}'].median()})\n",
        "  col_list.append(avg_df)\n",
        "  col_list.append(median_df)\n",
        "per_state = pd.concat(col_list, axis=1).rename(columns={'ID':'num_accidents'}).sort_values(by='num_accidents', ascending=False)"
      ],
      "execution_count": 88,
      "outputs": []
    },
    {
      "cell_type": "code",
      "metadata": {
        "id": "UAGCvwGCJRlp",
        "colab": {
          "base_uri": "https://localhost:8080/",
          "height": 1000
        },
        "outputId": "1aba128c-0e71-48e2-ff1a-8c3c25bd4cd9"
      },
      "source": [
        "per_state"
      ],
      "execution_count": 146,
      "outputs": [
        {
          "output_type": "execute_result",
          "data": {
            "text/html": [
              "<div>\n",
              "<style scoped>\n",
              "    .dataframe tbody tr th:only-of-type {\n",
              "        vertical-align: middle;\n",
              "    }\n",
              "\n",
              "    .dataframe tbody tr th {\n",
              "        vertical-align: top;\n",
              "    }\n",
              "\n",
              "    .dataframe thead th {\n",
              "        text-align: right;\n",
              "    }\n",
              "</style>\n",
              "<table border=\"1\" class=\"dataframe\">\n",
              "  <thead>\n",
              "    <tr style=\"text-align: right;\">\n",
              "      <th></th>\n",
              "      <th>num_accidents</th>\n",
              "      <th>avg_Temperature(F)</th>\n",
              "      <th>median_Temperature(F)</th>\n",
              "      <th>avg_Wind_Chill(F)</th>\n",
              "      <th>median_Wind_Chill(F)</th>\n",
              "      <th>avg_Humidity(%)</th>\n",
              "      <th>median_Humidity(%)</th>\n",
              "      <th>avg_Visibility(mi)</th>\n",
              "      <th>median_Visibility(mi)</th>\n",
              "      <th>avg_Wind_Speed(mph)</th>\n",
              "      <th>median_Wind_Speed(mph)</th>\n",
              "      <th>avg_Precipitation(in)</th>\n",
              "      <th>median_Precipitation(in)</th>\n",
              "      <th>avg_Distance(mi)</th>\n",
              "      <th>median_Distance(mi)</th>\n",
              "    </tr>\n",
              "    <tr>\n",
              "      <th>State</th>\n",
              "      <th></th>\n",
              "      <th></th>\n",
              "      <th></th>\n",
              "      <th></th>\n",
              "      <th></th>\n",
              "      <th></th>\n",
              "      <th></th>\n",
              "      <th></th>\n",
              "      <th></th>\n",
              "      <th></th>\n",
              "      <th></th>\n",
              "      <th></th>\n",
              "      <th></th>\n",
              "      <th></th>\n",
              "      <th></th>\n",
              "    </tr>\n",
              "  </thead>\n",
              "  <tbody>\n",
              "    <tr>\n",
              "      <th>CA</th>\n",
              "      <td>175919</td>\n",
              "      <td>51.329514</td>\n",
              "      <td>53.0</td>\n",
              "      <td>50.809705</td>\n",
              "      <td>53.0</td>\n",
              "      <td>71.713033</td>\n",
              "      <td>76.0</td>\n",
              "      <td>8.499376</td>\n",
              "      <td>10.0</td>\n",
              "      <td>4.341192</td>\n",
              "      <td>3.0</td>\n",
              "      <td>0.006979</td>\n",
              "      <td>0.0</td>\n",
              "      <td>0.233695</td>\n",
              "      <td>0.0000</td>\n",
              "    </tr>\n",
              "    <tr>\n",
              "      <th>OR</th>\n",
              "      <td>47389</td>\n",
              "      <td>44.763164</td>\n",
              "      <td>45.0</td>\n",
              "      <td>42.400745</td>\n",
              "      <td>42.5</td>\n",
              "      <td>78.475406</td>\n",
              "      <td>83.0</td>\n",
              "      <td>8.405169</td>\n",
              "      <td>10.0</td>\n",
              "      <td>6.672044</td>\n",
              "      <td>6.0</td>\n",
              "      <td>0.008257</td>\n",
              "      <td>0.0</td>\n",
              "      <td>0.728888</td>\n",
              "      <td>0.0730</td>\n",
              "    </tr>\n",
              "    <tr>\n",
              "      <th>MN</th>\n",
              "      <td>45901</td>\n",
              "      <td>27.467450</td>\n",
              "      <td>28.0</td>\n",
              "      <td>19.800619</td>\n",
              "      <td>21.0</td>\n",
              "      <td>76.643428</td>\n",
              "      <td>79.0</td>\n",
              "      <td>7.799774</td>\n",
              "      <td>10.0</td>\n",
              "      <td>9.345382</td>\n",
              "      <td>8.0</td>\n",
              "      <td>0.002562</td>\n",
              "      <td>0.0</td>\n",
              "      <td>0.572693</td>\n",
              "      <td>0.0050</td>\n",
              "    </tr>\n",
              "    <tr>\n",
              "      <th>NY</th>\n",
              "      <td>43219</td>\n",
              "      <td>41.371556</td>\n",
              "      <td>42.0</td>\n",
              "      <td>36.904244</td>\n",
              "      <td>37.7</td>\n",
              "      <td>72.063907</td>\n",
              "      <td>76.0</td>\n",
              "      <td>8.141543</td>\n",
              "      <td>10.0</td>\n",
              "      <td>9.391883</td>\n",
              "      <td>8.1</td>\n",
              "      <td>0.018399</td>\n",
              "      <td>0.0</td>\n",
              "      <td>0.590826</td>\n",
              "      <td>0.0100</td>\n",
              "    </tr>\n",
              "    <tr>\n",
              "      <th>PA</th>\n",
              "      <td>33345</td>\n",
              "      <td>41.945446</td>\n",
              "      <td>43.0</td>\n",
              "      <td>38.672689</td>\n",
              "      <td>39.0</td>\n",
              "      <td>73.398111</td>\n",
              "      <td>76.0</td>\n",
              "      <td>8.186396</td>\n",
              "      <td>10.0</td>\n",
              "      <td>7.041658</td>\n",
              "      <td>6.0</td>\n",
              "      <td>0.006806</td>\n",
              "      <td>0.0</td>\n",
              "      <td>0.895427</td>\n",
              "      <td>0.0920</td>\n",
              "    </tr>\n",
              "    <tr>\n",
              "      <th>TX</th>\n",
              "      <td>26937</td>\n",
              "      <td>48.364617</td>\n",
              "      <td>49.0</td>\n",
              "      <td>46.173089</td>\n",
              "      <td>47.0</td>\n",
              "      <td>72.238928</td>\n",
              "      <td>76.0</td>\n",
              "      <td>8.791128</td>\n",
              "      <td>10.0</td>\n",
              "      <td>7.916156</td>\n",
              "      <td>7.0</td>\n",
              "      <td>0.007083</td>\n",
              "      <td>0.0</td>\n",
              "      <td>0.296502</td>\n",
              "      <td>0.0130</td>\n",
              "    </tr>\n",
              "    <tr>\n",
              "      <th>VA</th>\n",
              "      <td>26821</td>\n",
              "      <td>45.676832</td>\n",
              "      <td>47.0</td>\n",
              "      <td>43.745871</td>\n",
              "      <td>44.0</td>\n",
              "      <td>74.561016</td>\n",
              "      <td>80.0</td>\n",
              "      <td>8.847909</td>\n",
              "      <td>10.0</td>\n",
              "      <td>5.999579</td>\n",
              "      <td>6.0</td>\n",
              "      <td>0.006628</td>\n",
              "      <td>0.0</td>\n",
              "      <td>0.824292</td>\n",
              "      <td>0.1940</td>\n",
              "    </tr>\n",
              "    <tr>\n",
              "      <th>SC</th>\n",
              "      <td>26153</td>\n",
              "      <td>47.214201</td>\n",
              "      <td>48.0</td>\n",
              "      <td>45.845253</td>\n",
              "      <td>46.0</td>\n",
              "      <td>74.809391</td>\n",
              "      <td>81.0</td>\n",
              "      <td>8.842672</td>\n",
              "      <td>10.0</td>\n",
              "      <td>4.843704</td>\n",
              "      <td>5.0</td>\n",
              "      <td>0.006004</td>\n",
              "      <td>0.0</td>\n",
              "      <td>0.194951</td>\n",
              "      <td>0.0000</td>\n",
              "    </tr>\n",
              "    <tr>\n",
              "      <th>NC</th>\n",
              "      <td>26010</td>\n",
              "      <td>46.961915</td>\n",
              "      <td>48.0</td>\n",
              "      <td>45.396959</td>\n",
              "      <td>46.0</td>\n",
              "      <td>74.733948</td>\n",
              "      <td>80.0</td>\n",
              "      <td>8.465482</td>\n",
              "      <td>10.0</td>\n",
              "      <td>5.427551</td>\n",
              "      <td>5.0</td>\n",
              "      <td>0.009046</td>\n",
              "      <td>0.0</td>\n",
              "      <td>0.317745</td>\n",
              "      <td>0.0000</td>\n",
              "    </tr>\n",
              "    <tr>\n",
              "      <th>MI</th>\n",
              "      <td>20800</td>\n",
              "      <td>36.624212</td>\n",
              "      <td>36.0</td>\n",
              "      <td>30.433106</td>\n",
              "      <td>30.0</td>\n",
              "      <td>76.820337</td>\n",
              "      <td>80.0</td>\n",
              "      <td>7.342885</td>\n",
              "      <td>10.0</td>\n",
              "      <td>9.943731</td>\n",
              "      <td>9.0</td>\n",
              "      <td>0.007434</td>\n",
              "      <td>0.0</td>\n",
              "      <td>0.398319</td>\n",
              "      <td>0.0100</td>\n",
              "    </tr>\n",
              "    <tr>\n",
              "      <th>IL</th>\n",
              "      <td>20172</td>\n",
              "      <td>38.384989</td>\n",
              "      <td>38.7</td>\n",
              "      <td>32.850654</td>\n",
              "      <td>33.0</td>\n",
              "      <td>74.687537</td>\n",
              "      <td>78.0</td>\n",
              "      <td>7.639591</td>\n",
              "      <td>10.0</td>\n",
              "      <td>9.842405</td>\n",
              "      <td>9.0</td>\n",
              "      <td>0.007653</td>\n",
              "      <td>0.0</td>\n",
              "      <td>0.306582</td>\n",
              "      <td>0.0000</td>\n",
              "    </tr>\n",
              "    <tr>\n",
              "      <th>FL</th>\n",
              "      <td>17649</td>\n",
              "      <td>51.734869</td>\n",
              "      <td>53.0</td>\n",
              "      <td>50.880237</td>\n",
              "      <td>53.0</td>\n",
              "      <td>76.643889</td>\n",
              "      <td>80.0</td>\n",
              "      <td>9.492185</td>\n",
              "      <td>10.0</td>\n",
              "      <td>6.118035</td>\n",
              "      <td>6.0</td>\n",
              "      <td>0.001166</td>\n",
              "      <td>0.0</td>\n",
              "      <td>0.541322</td>\n",
              "      <td>0.0610</td>\n",
              "    </tr>\n",
              "    <tr>\n",
              "      <th>UT</th>\n",
              "      <td>17634</td>\n",
              "      <td>39.702529</td>\n",
              "      <td>39.0</td>\n",
              "      <td>35.924538</td>\n",
              "      <td>35.0</td>\n",
              "      <td>65.682715</td>\n",
              "      <td>67.0</td>\n",
              "      <td>8.677860</td>\n",
              "      <td>10.0</td>\n",
              "      <td>7.409487</td>\n",
              "      <td>6.9</td>\n",
              "      <td>0.005709</td>\n",
              "      <td>0.0</td>\n",
              "      <td>0.439608</td>\n",
              "      <td>0.0000</td>\n",
              "    </tr>\n",
              "    <tr>\n",
              "      <th>NJ</th>\n",
              "      <td>14697</td>\n",
              "      <td>43.903586</td>\n",
              "      <td>44.0</td>\n",
              "      <td>40.588093</td>\n",
              "      <td>41.0</td>\n",
              "      <td>71.857794</td>\n",
              "      <td>76.0</td>\n",
              "      <td>7.998755</td>\n",
              "      <td>10.0</td>\n",
              "      <td>7.944172</td>\n",
              "      <td>7.0</td>\n",
              "      <td>0.018760</td>\n",
              "      <td>0.0</td>\n",
              "      <td>0.507104</td>\n",
              "      <td>0.0390</td>\n",
              "    </tr>\n",
              "    <tr>\n",
              "      <th>MD</th>\n",
              "      <td>14133</td>\n",
              "      <td>44.975759</td>\n",
              "      <td>46.0</td>\n",
              "      <td>42.972922</td>\n",
              "      <td>44.0</td>\n",
              "      <td>72.883747</td>\n",
              "      <td>77.0</td>\n",
              "      <td>8.798535</td>\n",
              "      <td>10.0</td>\n",
              "      <td>5.723024</td>\n",
              "      <td>5.0</td>\n",
              "      <td>0.004800</td>\n",
              "      <td>0.0</td>\n",
              "      <td>0.613565</td>\n",
              "      <td>0.2130</td>\n",
              "    </tr>\n",
              "    <tr>\n",
              "      <th>WA</th>\n",
              "      <td>14029</td>\n",
              "      <td>46.831948</td>\n",
              "      <td>47.0</td>\n",
              "      <td>44.727807</td>\n",
              "      <td>44.0</td>\n",
              "      <td>82.239932</td>\n",
              "      <td>86.0</td>\n",
              "      <td>8.435498</td>\n",
              "      <td>10.0</td>\n",
              "      <td>6.558857</td>\n",
              "      <td>6.0</td>\n",
              "      <td>0.008688</td>\n",
              "      <td>0.0</td>\n",
              "      <td>0.408043</td>\n",
              "      <td>0.0000</td>\n",
              "    </tr>\n",
              "    <tr>\n",
              "      <th>TN</th>\n",
              "      <td>13953</td>\n",
              "      <td>45.877109</td>\n",
              "      <td>47.0</td>\n",
              "      <td>43.803132</td>\n",
              "      <td>45.0</td>\n",
              "      <td>72.166989</td>\n",
              "      <td>76.0</td>\n",
              "      <td>8.621431</td>\n",
              "      <td>10.0</td>\n",
              "      <td>6.114900</td>\n",
              "      <td>6.0</td>\n",
              "      <td>0.007950</td>\n",
              "      <td>0.0</td>\n",
              "      <td>0.399030</td>\n",
              "      <td>0.0110</td>\n",
              "    </tr>\n",
              "    <tr>\n",
              "      <th>OH</th>\n",
              "      <td>12198</td>\n",
              "      <td>41.221553</td>\n",
              "      <td>42.0</td>\n",
              "      <td>36.575299</td>\n",
              "      <td>37.0</td>\n",
              "      <td>75.789392</td>\n",
              "      <td>80.0</td>\n",
              "      <td>7.906527</td>\n",
              "      <td>10.0</td>\n",
              "      <td>9.586588</td>\n",
              "      <td>9.0</td>\n",
              "      <td>0.007974</td>\n",
              "      <td>0.0</td>\n",
              "      <td>0.398375</td>\n",
              "      <td>0.0000</td>\n",
              "    </tr>\n",
              "    <tr>\n",
              "      <th>CO</th>\n",
              "      <td>11635</td>\n",
              "      <td>37.001693</td>\n",
              "      <td>37.0</td>\n",
              "      <td>32.344315</td>\n",
              "      <td>32.0</td>\n",
              "      <td>63.894542</td>\n",
              "      <td>67.0</td>\n",
              "      <td>9.400178</td>\n",
              "      <td>10.0</td>\n",
              "      <td>8.011440</td>\n",
              "      <td>7.0</td>\n",
              "      <td>0.002066</td>\n",
              "      <td>0.0</td>\n",
              "      <td>0.673857</td>\n",
              "      <td>0.0000</td>\n",
              "    </tr>\n",
              "    <tr>\n",
              "      <th>GA</th>\n",
              "      <td>9905</td>\n",
              "      <td>47.757708</td>\n",
              "      <td>49.0</td>\n",
              "      <td>45.852337</td>\n",
              "      <td>47.0</td>\n",
              "      <td>75.459162</td>\n",
              "      <td>81.0</td>\n",
              "      <td>8.509554</td>\n",
              "      <td>10.0</td>\n",
              "      <td>6.210722</td>\n",
              "      <td>6.0</td>\n",
              "      <td>0.011433</td>\n",
              "      <td>0.0</td>\n",
              "      <td>0.640557</td>\n",
              "      <td>0.1510</td>\n",
              "    </tr>\n",
              "    <tr>\n",
              "      <th>LA</th>\n",
              "      <td>8701</td>\n",
              "      <td>49.675026</td>\n",
              "      <td>51.0</td>\n",
              "      <td>48.485301</td>\n",
              "      <td>51.0</td>\n",
              "      <td>77.941271</td>\n",
              "      <td>83.0</td>\n",
              "      <td>9.106299</td>\n",
              "      <td>10.0</td>\n",
              "      <td>6.113746</td>\n",
              "      <td>6.0</td>\n",
              "      <td>0.005055</td>\n",
              "      <td>0.0</td>\n",
              "      <td>0.334577</td>\n",
              "      <td>0.0620</td>\n",
              "    </tr>\n",
              "    <tr>\n",
              "      <th>CT</th>\n",
              "      <td>8317</td>\n",
              "      <td>42.706757</td>\n",
              "      <td>43.0</td>\n",
              "      <td>39.431141</td>\n",
              "      <td>40.0</td>\n",
              "      <td>71.961525</td>\n",
              "      <td>76.0</td>\n",
              "      <td>8.231083</td>\n",
              "      <td>10.0</td>\n",
              "      <td>7.503751</td>\n",
              "      <td>7.0</td>\n",
              "      <td>0.008804</td>\n",
              "      <td>0.0</td>\n",
              "      <td>0.933762</td>\n",
              "      <td>0.5340</td>\n",
              "    </tr>\n",
              "    <tr>\n",
              "      <th>MA</th>\n",
              "      <td>7626</td>\n",
              "      <td>42.008891</td>\n",
              "      <td>42.0</td>\n",
              "      <td>37.864949</td>\n",
              "      <td>37.0</td>\n",
              "      <td>71.305140</td>\n",
              "      <td>77.0</td>\n",
              "      <td>7.641676</td>\n",
              "      <td>10.0</td>\n",
              "      <td>9.350157</td>\n",
              "      <td>9.0</td>\n",
              "      <td>0.010764</td>\n",
              "      <td>0.0</td>\n",
              "      <td>0.265601</td>\n",
              "      <td>0.0000</td>\n",
              "    </tr>\n",
              "    <tr>\n",
              "      <th>AZ</th>\n",
              "      <td>7591</td>\n",
              "      <td>49.904057</td>\n",
              "      <td>51.0</td>\n",
              "      <td>48.679265</td>\n",
              "      <td>51.0</td>\n",
              "      <td>48.395995</td>\n",
              "      <td>44.0</td>\n",
              "      <td>9.781774</td>\n",
              "      <td>10.0</td>\n",
              "      <td>5.744079</td>\n",
              "      <td>6.0</td>\n",
              "      <td>0.002272</td>\n",
              "      <td>0.0</td>\n",
              "      <td>0.464321</td>\n",
              "      <td>0.0230</td>\n",
              "    </tr>\n",
              "    <tr>\n",
              "      <th>MO</th>\n",
              "      <td>7574</td>\n",
              "      <td>41.517164</td>\n",
              "      <td>42.0</td>\n",
              "      <td>37.435133</td>\n",
              "      <td>38.0</td>\n",
              "      <td>74.568920</td>\n",
              "      <td>79.0</td>\n",
              "      <td>8.253185</td>\n",
              "      <td>10.0</td>\n",
              "      <td>8.526551</td>\n",
              "      <td>8.0</td>\n",
              "      <td>0.009002</td>\n",
              "      <td>0.0</td>\n",
              "      <td>0.416083</td>\n",
              "      <td>0.0515</td>\n",
              "    </tr>\n",
              "    <tr>\n",
              "      <th>AL</th>\n",
              "      <td>7046</td>\n",
              "      <td>47.833338</td>\n",
              "      <td>49.0</td>\n",
              "      <td>46.480329</td>\n",
              "      <td>49.0</td>\n",
              "      <td>75.040023</td>\n",
              "      <td>80.0</td>\n",
              "      <td>8.901246</td>\n",
              "      <td>10.0</td>\n",
              "      <td>5.358884</td>\n",
              "      <td>5.0</td>\n",
              "      <td>0.016557</td>\n",
              "      <td>0.0</td>\n",
              "      <td>0.486158</td>\n",
              "      <td>0.0000</td>\n",
              "    </tr>\n",
              "    <tr>\n",
              "      <th>IN</th>\n",
              "      <td>5355</td>\n",
              "      <td>40.025658</td>\n",
              "      <td>40.0</td>\n",
              "      <td>35.343081</td>\n",
              "      <td>35.0</td>\n",
              "      <td>77.044631</td>\n",
              "      <td>81.0</td>\n",
              "      <td>8.210155</td>\n",
              "      <td>10.0</td>\n",
              "      <td>8.789057</td>\n",
              "      <td>8.0</td>\n",
              "      <td>0.005514</td>\n",
              "      <td>0.0</td>\n",
              "      <td>0.988659</td>\n",
              "      <td>0.2150</td>\n",
              "    </tr>\n",
              "    <tr>\n",
              "      <th>OK</th>\n",
              "      <td>5280</td>\n",
              "      <td>44.973428</td>\n",
              "      <td>46.0</td>\n",
              "      <td>41.113258</td>\n",
              "      <td>41.0</td>\n",
              "      <td>72.011364</td>\n",
              "      <td>76.0</td>\n",
              "      <td>8.441388</td>\n",
              "      <td>10.0</td>\n",
              "      <td>10.572860</td>\n",
              "      <td>9.2</td>\n",
              "      <td>0.009652</td>\n",
              "      <td>0.0</td>\n",
              "      <td>0.064101</td>\n",
              "      <td>0.0000</td>\n",
              "    </tr>\n",
              "    <tr>\n",
              "      <th>WI</th>\n",
              "      <td>3899</td>\n",
              "      <td>36.552757</td>\n",
              "      <td>36.0</td>\n",
              "      <td>30.762529</td>\n",
              "      <td>30.0</td>\n",
              "      <td>76.392152</td>\n",
              "      <td>80.0</td>\n",
              "      <td>7.402655</td>\n",
              "      <td>10.0</td>\n",
              "      <td>9.534240</td>\n",
              "      <td>9.0</td>\n",
              "      <td>0.009769</td>\n",
              "      <td>0.0</td>\n",
              "      <td>0.529608</td>\n",
              "      <td>0.0000</td>\n",
              "    </tr>\n",
              "    <tr>\n",
              "      <th>IA</th>\n",
              "      <td>3565</td>\n",
              "      <td>33.172202</td>\n",
              "      <td>32.0</td>\n",
              "      <td>26.016353</td>\n",
              "      <td>25.0</td>\n",
              "      <td>79.450491</td>\n",
              "      <td>83.0</td>\n",
              "      <td>7.829515</td>\n",
              "      <td>10.0</td>\n",
              "      <td>10.790182</td>\n",
              "      <td>9.2</td>\n",
              "      <td>0.003980</td>\n",
              "      <td>0.0</td>\n",
              "      <td>2.085764</td>\n",
              "      <td>0.8970</td>\n",
              "    </tr>\n",
              "    <tr>\n",
              "      <th>KY</th>\n",
              "      <td>3524</td>\n",
              "      <td>43.407094</td>\n",
              "      <td>44.1</td>\n",
              "      <td>39.952157</td>\n",
              "      <td>41.0</td>\n",
              "      <td>74.454313</td>\n",
              "      <td>79.0</td>\n",
              "      <td>8.032804</td>\n",
              "      <td>10.0</td>\n",
              "      <td>7.922588</td>\n",
              "      <td>7.0</td>\n",
              "      <td>0.009606</td>\n",
              "      <td>0.0</td>\n",
              "      <td>0.479416</td>\n",
              "      <td>0.0000</td>\n",
              "    </tr>\n",
              "    <tr>\n",
              "      <th>MT</th>\n",
              "      <td>2803</td>\n",
              "      <td>27.924759</td>\n",
              "      <td>27.0</td>\n",
              "      <td>22.633892</td>\n",
              "      <td>23.0</td>\n",
              "      <td>74.361399</td>\n",
              "      <td>79.0</td>\n",
              "      <td>8.303336</td>\n",
              "      <td>10.0</td>\n",
              "      <td>7.167785</td>\n",
              "      <td>6.0</td>\n",
              "      <td>0.001727</td>\n",
              "      <td>0.0</td>\n",
              "      <td>1.314102</td>\n",
              "      <td>0.2770</td>\n",
              "    </tr>\n",
              "    <tr>\n",
              "      <th>NE</th>\n",
              "      <td>2446</td>\n",
              "      <td>36.066844</td>\n",
              "      <td>35.1</td>\n",
              "      <td>30.296239</td>\n",
              "      <td>31.0</td>\n",
              "      <td>73.826656</td>\n",
              "      <td>77.0</td>\n",
              "      <td>8.233336</td>\n",
              "      <td>10.0</td>\n",
              "      <td>9.520196</td>\n",
              "      <td>8.1</td>\n",
              "      <td>0.004918</td>\n",
              "      <td>0.0</td>\n",
              "      <td>0.576403</td>\n",
              "      <td>0.0000</td>\n",
              "    </tr>\n",
              "    <tr>\n",
              "      <th>AR</th>\n",
              "      <td>2302</td>\n",
              "      <td>46.152997</td>\n",
              "      <td>47.0</td>\n",
              "      <td>44.177237</td>\n",
              "      <td>44.0</td>\n",
              "      <td>79.956125</td>\n",
              "      <td>85.0</td>\n",
              "      <td>8.761599</td>\n",
              "      <td>10.0</td>\n",
              "      <td>6.076629</td>\n",
              "      <td>6.0</td>\n",
              "      <td>0.009049</td>\n",
              "      <td>0.0</td>\n",
              "      <td>1.314417</td>\n",
              "      <td>0.3855</td>\n",
              "    </tr>\n",
              "    <tr>\n",
              "      <th>ID</th>\n",
              "      <td>2187</td>\n",
              "      <td>36.968313</td>\n",
              "      <td>37.0</td>\n",
              "      <td>32.672840</td>\n",
              "      <td>32.0</td>\n",
              "      <td>72.286694</td>\n",
              "      <td>75.0</td>\n",
              "      <td>8.779995</td>\n",
              "      <td>10.0</td>\n",
              "      <td>7.171148</td>\n",
              "      <td>6.0</td>\n",
              "      <td>0.003457</td>\n",
              "      <td>0.0</td>\n",
              "      <td>1.663192</td>\n",
              "      <td>0.5230</td>\n",
              "    </tr>\n",
              "    <tr>\n",
              "      <th>NH</th>\n",
              "      <td>2034</td>\n",
              "      <td>35.321141</td>\n",
              "      <td>33.1</td>\n",
              "      <td>30.313078</td>\n",
              "      <td>28.0</td>\n",
              "      <td>77.508850</td>\n",
              "      <td>85.0</td>\n",
              "      <td>6.295118</td>\n",
              "      <td>9.0</td>\n",
              "      <td>7.228958</td>\n",
              "      <td>6.9</td>\n",
              "      <td>0.014140</td>\n",
              "      <td>0.0</td>\n",
              "      <td>0.501390</td>\n",
              "      <td>0.0000</td>\n",
              "    </tr>\n",
              "    <tr>\n",
              "      <th>RI</th>\n",
              "      <td>2005</td>\n",
              "      <td>42.271521</td>\n",
              "      <td>43.0</td>\n",
              "      <td>37.825436</td>\n",
              "      <td>38.0</td>\n",
              "      <td>76.434414</td>\n",
              "      <td>85.0</td>\n",
              "      <td>7.655561</td>\n",
              "      <td>10.0</td>\n",
              "      <td>10.068180</td>\n",
              "      <td>9.0</td>\n",
              "      <td>0.018414</td>\n",
              "      <td>0.0</td>\n",
              "      <td>0.333371</td>\n",
              "      <td>0.0000</td>\n",
              "    </tr>\n",
              "    <tr>\n",
              "      <th>KS</th>\n",
              "      <td>2000</td>\n",
              "      <td>40.132150</td>\n",
              "      <td>40.0</td>\n",
              "      <td>35.731750</td>\n",
              "      <td>36.0</td>\n",
              "      <td>74.000000</td>\n",
              "      <td>77.0</td>\n",
              "      <td>8.148755</td>\n",
              "      <td>10.0</td>\n",
              "      <td>8.733100</td>\n",
              "      <td>8.0</td>\n",
              "      <td>0.006865</td>\n",
              "      <td>0.0</td>\n",
              "      <td>0.776829</td>\n",
              "      <td>0.3175</td>\n",
              "    </tr>\n",
              "    <tr>\n",
              "      <th>DC</th>\n",
              "      <td>1935</td>\n",
              "      <td>48.078501</td>\n",
              "      <td>50.0</td>\n",
              "      <td>45.760775</td>\n",
              "      <td>50.0</td>\n",
              "      <td>68.170543</td>\n",
              "      <td>71.0</td>\n",
              "      <td>9.384408</td>\n",
              "      <td>10.0</td>\n",
              "      <td>8.087700</td>\n",
              "      <td>8.0</td>\n",
              "      <td>0.003494</td>\n",
              "      <td>0.0</td>\n",
              "      <td>0.273573</td>\n",
              "      <td>0.0920</td>\n",
              "    </tr>\n",
              "    <tr>\n",
              "      <th>NV</th>\n",
              "      <td>1778</td>\n",
              "      <td>40.843532</td>\n",
              "      <td>41.0</td>\n",
              "      <td>38.167042</td>\n",
              "      <td>38.0</td>\n",
              "      <td>57.423510</td>\n",
              "      <td>57.0</td>\n",
              "      <td>9.225112</td>\n",
              "      <td>10.0</td>\n",
              "      <td>5.957143</td>\n",
              "      <td>5.0</td>\n",
              "      <td>0.003363</td>\n",
              "      <td>0.0</td>\n",
              "      <td>0.717825</td>\n",
              "      <td>0.0000</td>\n",
              "    </tr>\n",
              "    <tr>\n",
              "      <th>DE</th>\n",
              "      <td>1489</td>\n",
              "      <td>46.101813</td>\n",
              "      <td>48.0</td>\n",
              "      <td>43.272196</td>\n",
              "      <td>44.0</td>\n",
              "      <td>70.007388</td>\n",
              "      <td>73.0</td>\n",
              "      <td>8.683412</td>\n",
              "      <td>10.0</td>\n",
              "      <td>9.244997</td>\n",
              "      <td>8.0</td>\n",
              "      <td>0.005668</td>\n",
              "      <td>0.0</td>\n",
              "      <td>0.475559</td>\n",
              "      <td>0.0000</td>\n",
              "    </tr>\n",
              "    <tr>\n",
              "      <th>WV</th>\n",
              "      <td>1360</td>\n",
              "      <td>39.781471</td>\n",
              "      <td>40.0</td>\n",
              "      <td>36.650882</td>\n",
              "      <td>38.0</td>\n",
              "      <td>77.751471</td>\n",
              "      <td>82.0</td>\n",
              "      <td>8.072647</td>\n",
              "      <td>10.0</td>\n",
              "      <td>5.571324</td>\n",
              "      <td>5.0</td>\n",
              "      <td>0.006493</td>\n",
              "      <td>0.0</td>\n",
              "      <td>1.082970</td>\n",
              "      <td>0.4505</td>\n",
              "    </tr>\n",
              "    <tr>\n",
              "      <th>NM</th>\n",
              "      <td>982</td>\n",
              "      <td>39.403462</td>\n",
              "      <td>40.0</td>\n",
              "      <td>35.796945</td>\n",
              "      <td>36.0</td>\n",
              "      <td>54.315682</td>\n",
              "      <td>53.0</td>\n",
              "      <td>9.369613</td>\n",
              "      <td>10.0</td>\n",
              "      <td>7.714358</td>\n",
              "      <td>6.9</td>\n",
              "      <td>0.002383</td>\n",
              "      <td>0.0</td>\n",
              "      <td>1.664563</td>\n",
              "      <td>0.0450</td>\n",
              "    </tr>\n",
              "    <tr>\n",
              "      <th>MS</th>\n",
              "      <td>960</td>\n",
              "      <td>47.330208</td>\n",
              "      <td>48.0</td>\n",
              "      <td>45.950417</td>\n",
              "      <td>48.0</td>\n",
              "      <td>78.427083</td>\n",
              "      <td>83.0</td>\n",
              "      <td>8.709427</td>\n",
              "      <td>10.0</td>\n",
              "      <td>5.236667</td>\n",
              "      <td>5.0</td>\n",
              "      <td>0.006969</td>\n",
              "      <td>0.0</td>\n",
              "      <td>0.678784</td>\n",
              "      <td>0.2440</td>\n",
              "    </tr>\n",
              "    <tr>\n",
              "      <th>ME</th>\n",
              "      <td>710</td>\n",
              "      <td>36.093380</td>\n",
              "      <td>34.0</td>\n",
              "      <td>30.920423</td>\n",
              "      <td>29.0</td>\n",
              "      <td>76.511268</td>\n",
              "      <td>83.0</td>\n",
              "      <td>6.987183</td>\n",
              "      <td>10.0</td>\n",
              "      <td>7.953521</td>\n",
              "      <td>7.0</td>\n",
              "      <td>0.012577</td>\n",
              "      <td>0.0</td>\n",
              "      <td>0.708618</td>\n",
              "      <td>0.1615</td>\n",
              "    </tr>\n",
              "    <tr>\n",
              "      <th>ND</th>\n",
              "      <td>381</td>\n",
              "      <td>25.582152</td>\n",
              "      <td>25.0</td>\n",
              "      <td>16.095013</td>\n",
              "      <td>16.0</td>\n",
              "      <td>80.937008</td>\n",
              "      <td>84.0</td>\n",
              "      <td>8.235696</td>\n",
              "      <td>10.0</td>\n",
              "      <td>11.323885</td>\n",
              "      <td>10.0</td>\n",
              "      <td>0.000551</td>\n",
              "      <td>0.0</td>\n",
              "      <td>2.094528</td>\n",
              "      <td>1.0080</td>\n",
              "    </tr>\n",
              "    <tr>\n",
              "      <th>VT</th>\n",
              "      <td>225</td>\n",
              "      <td>33.345333</td>\n",
              "      <td>32.0</td>\n",
              "      <td>28.332444</td>\n",
              "      <td>27.5</td>\n",
              "      <td>75.853333</td>\n",
              "      <td>82.0</td>\n",
              "      <td>6.816667</td>\n",
              "      <td>10.0</td>\n",
              "      <td>6.752444</td>\n",
              "      <td>6.0</td>\n",
              "      <td>0.006889</td>\n",
              "      <td>0.0</td>\n",
              "      <td>1.498676</td>\n",
              "      <td>0.1600</td>\n",
              "    </tr>\n",
              "    <tr>\n",
              "      <th>WY</th>\n",
              "      <td>142</td>\n",
              "      <td>30.241549</td>\n",
              "      <td>28.0</td>\n",
              "      <td>21.491549</td>\n",
              "      <td>19.0</td>\n",
              "      <td>73.528169</td>\n",
              "      <td>80.0</td>\n",
              "      <td>7.726761</td>\n",
              "      <td>10.0</td>\n",
              "      <td>13.378873</td>\n",
              "      <td>13.0</td>\n",
              "      <td>0.002465</td>\n",
              "      <td>0.0</td>\n",
              "      <td>7.961803</td>\n",
              "      <td>1.3755</td>\n",
              "    </tr>\n",
              "    <tr>\n",
              "      <th>SD</th>\n",
              "      <td>100</td>\n",
              "      <td>45.675000</td>\n",
              "      <td>52.0</td>\n",
              "      <td>42.295000</td>\n",
              "      <td>52.0</td>\n",
              "      <td>69.900000</td>\n",
              "      <td>70.5</td>\n",
              "      <td>9.186000</td>\n",
              "      <td>10.0</td>\n",
              "      <td>9.013000</td>\n",
              "      <td>7.5</td>\n",
              "      <td>0.001000</td>\n",
              "      <td>0.0</td>\n",
              "      <td>1.579350</td>\n",
              "      <td>0.0820</td>\n",
              "    </tr>\n",
              "  </tbody>\n",
              "</table>\n",
              "</div>"
            ],
            "text/plain": [
              "       num_accidents  avg_Temperature(F)  ...  avg_Distance(mi)  median_Distance(mi)\n",
              "State                                     ...                                       \n",
              "CA            175919           51.329514  ...          0.233695               0.0000\n",
              "OR             47389           44.763164  ...          0.728888               0.0730\n",
              "MN             45901           27.467450  ...          0.572693               0.0050\n",
              "NY             43219           41.371556  ...          0.590826               0.0100\n",
              "PA             33345           41.945446  ...          0.895427               0.0920\n",
              "TX             26937           48.364617  ...          0.296502               0.0130\n",
              "VA             26821           45.676832  ...          0.824292               0.1940\n",
              "SC             26153           47.214201  ...          0.194951               0.0000\n",
              "NC             26010           46.961915  ...          0.317745               0.0000\n",
              "MI             20800           36.624212  ...          0.398319               0.0100\n",
              "IL             20172           38.384989  ...          0.306582               0.0000\n",
              "FL             17649           51.734869  ...          0.541322               0.0610\n",
              "UT             17634           39.702529  ...          0.439608               0.0000\n",
              "NJ             14697           43.903586  ...          0.507104               0.0390\n",
              "MD             14133           44.975759  ...          0.613565               0.2130\n",
              "WA             14029           46.831948  ...          0.408043               0.0000\n",
              "TN             13953           45.877109  ...          0.399030               0.0110\n",
              "OH             12198           41.221553  ...          0.398375               0.0000\n",
              "CO             11635           37.001693  ...          0.673857               0.0000\n",
              "GA              9905           47.757708  ...          0.640557               0.1510\n",
              "LA              8701           49.675026  ...          0.334577               0.0620\n",
              "CT              8317           42.706757  ...          0.933762               0.5340\n",
              "MA              7626           42.008891  ...          0.265601               0.0000\n",
              "AZ              7591           49.904057  ...          0.464321               0.0230\n",
              "MO              7574           41.517164  ...          0.416083               0.0515\n",
              "AL              7046           47.833338  ...          0.486158               0.0000\n",
              "IN              5355           40.025658  ...          0.988659               0.2150\n",
              "OK              5280           44.973428  ...          0.064101               0.0000\n",
              "WI              3899           36.552757  ...          0.529608               0.0000\n",
              "IA              3565           33.172202  ...          2.085764               0.8970\n",
              "KY              3524           43.407094  ...          0.479416               0.0000\n",
              "MT              2803           27.924759  ...          1.314102               0.2770\n",
              "NE              2446           36.066844  ...          0.576403               0.0000\n",
              "AR              2302           46.152997  ...          1.314417               0.3855\n",
              "ID              2187           36.968313  ...          1.663192               0.5230\n",
              "NH              2034           35.321141  ...          0.501390               0.0000\n",
              "RI              2005           42.271521  ...          0.333371               0.0000\n",
              "KS              2000           40.132150  ...          0.776829               0.3175\n",
              "DC              1935           48.078501  ...          0.273573               0.0920\n",
              "NV              1778           40.843532  ...          0.717825               0.0000\n",
              "DE              1489           46.101813  ...          0.475559               0.0000\n",
              "WV              1360           39.781471  ...          1.082970               0.4505\n",
              "NM               982           39.403462  ...          1.664563               0.0450\n",
              "MS               960           47.330208  ...          0.678784               0.2440\n",
              "ME               710           36.093380  ...          0.708618               0.1615\n",
              "ND               381           25.582152  ...          2.094528               1.0080\n",
              "VT               225           33.345333  ...          1.498676               0.1600\n",
              "WY               142           30.241549  ...          7.961803               1.3755\n",
              "SD               100           45.675000  ...          1.579350               0.0820\n",
              "\n",
              "[49 rows x 15 columns]"
            ]
          },
          "metadata": {},
          "execution_count": 146
        }
      ]
    },
    {
      "cell_type": "markdown",
      "metadata": {
        "id": "jASptSyv_ii-"
      },
      "source": [
        "Let's also look at the most popular times of the day when accidents happen in each state and for how long an accident typically lasted. "
      ]
    },
    {
      "cell_type": "code",
      "metadata": {
        "id": "nYYxOrgyJRtm"
      },
      "source": [
        "time_df = pd.DataFrame(\n",
        "    {   'ID': weather_df.ID,\n",
        "        'start_hour': weather_df.Start_Time.astype(str).str[11:13],\n",
        "        'end_hour': weather_df.End_Time.astype(str).str[11:13],\n",
        "        'duration': weather_df.End_Time.astype(str).str[11:13].astype(float) - weather_df.Start_Time.astype(str).str[11:13].astype(float)\n",
        "     })\n",
        "time_df['duration'] = time_df['duration'].mask(time_df['duration'] < 0, 24 + time_df['duration'])"
      ],
      "execution_count": 145,
      "outputs": []
    },
    {
      "cell_type": "code",
      "metadata": {
        "colab": {
          "base_uri": "https://localhost:8080/",
          "height": 422
        },
        "id": "MehiT9QUJBD-",
        "outputId": "a6430d34-9cc1-4cd3-dafb-4116744ef4c1"
      },
      "source": [
        "time_df"
      ],
      "execution_count": 135,
      "outputs": [
        {
          "output_type": "execute_result",
          "data": {
            "text/html": [
              "<div>\n",
              "<style scoped>\n",
              "    .dataframe tbody tr th:only-of-type {\n",
              "        vertical-align: middle;\n",
              "    }\n",
              "\n",
              "    .dataframe tbody tr th {\n",
              "        vertical-align: top;\n",
              "    }\n",
              "\n",
              "    .dataframe thead th {\n",
              "        text-align: right;\n",
              "    }\n",
              "</style>\n",
              "<table border=\"1\" class=\"dataframe\">\n",
              "  <thead>\n",
              "    <tr style=\"text-align: right;\">\n",
              "      <th></th>\n",
              "      <th>ID</th>\n",
              "      <th>start_hour</th>\n",
              "      <th>end_hour</th>\n",
              "      <th>duration</th>\n",
              "    </tr>\n",
              "  </thead>\n",
              "  <tbody>\n",
              "    <tr>\n",
              "      <th>2</th>\n",
              "      <td>A-3</td>\n",
              "      <td>21</td>\n",
              "      <td>22</td>\n",
              "      <td>1.0</td>\n",
              "    </tr>\n",
              "    <tr>\n",
              "      <th>6</th>\n",
              "      <td>A-7</td>\n",
              "      <td>09</td>\n",
              "      <td>10</td>\n",
              "      <td>1.0</td>\n",
              "    </tr>\n",
              "    <tr>\n",
              "      <th>7</th>\n",
              "      <td>A-8</td>\n",
              "      <td>23</td>\n",
              "      <td>00</td>\n",
              "      <td>1.0</td>\n",
              "    </tr>\n",
              "    <tr>\n",
              "      <th>9</th>\n",
              "      <td>A-10</td>\n",
              "      <td>08</td>\n",
              "      <td>09</td>\n",
              "      <td>1.0</td>\n",
              "    </tr>\n",
              "    <tr>\n",
              "      <th>10</th>\n",
              "      <td>A-11</td>\n",
              "      <td>08</td>\n",
              "      <td>10</td>\n",
              "      <td>2.0</td>\n",
              "    </tr>\n",
              "    <tr>\n",
              "      <th>...</th>\n",
              "      <td>...</td>\n",
              "      <td>...</td>\n",
              "      <td>...</td>\n",
              "      <td>...</td>\n",
              "    </tr>\n",
              "    <tr>\n",
              "      <th>2906576</th>\n",
              "      <td>A-2906577</td>\n",
              "      <td>22</td>\n",
              "      <td>23</td>\n",
              "      <td>1.0</td>\n",
              "    </tr>\n",
              "    <tr>\n",
              "      <th>2906579</th>\n",
              "      <td>A-2906580</td>\n",
              "      <td>22</td>\n",
              "      <td>00</td>\n",
              "      <td>2.0</td>\n",
              "    </tr>\n",
              "    <tr>\n",
              "      <th>2906591</th>\n",
              "      <td>A-2906592</td>\n",
              "      <td>08</td>\n",
              "      <td>11</td>\n",
              "      <td>3.0</td>\n",
              "    </tr>\n",
              "    <tr>\n",
              "      <th>2906602</th>\n",
              "      <td>A-2906603</td>\n",
              "      <td>03</td>\n",
              "      <td>05</td>\n",
              "      <td>2.0</td>\n",
              "    </tr>\n",
              "    <tr>\n",
              "      <th>2906608</th>\n",
              "      <td>A-2906609</td>\n",
              "      <td>22</td>\n",
              "      <td>23</td>\n",
              "      <td>1.0</td>\n",
              "    </tr>\n",
              "  </tbody>\n",
              "</table>\n",
              "<p>712816 rows × 4 columns</p>\n",
              "</div>"
            ],
            "text/plain": [
              "                ID start_hour end_hour  duration\n",
              "2              A-3         21       22       1.0\n",
              "6              A-7         09       10       1.0\n",
              "7              A-8         23       00       1.0\n",
              "9             A-10         08       09       1.0\n",
              "10            A-11         08       10       2.0\n",
              "...            ...        ...      ...       ...\n",
              "2906576  A-2906577         22       23       1.0\n",
              "2906579  A-2906580         22       00       2.0\n",
              "2906591  A-2906592         08       11       3.0\n",
              "2906602  A-2906603         03       05       2.0\n",
              "2906608  A-2906609         22       23       1.0\n",
              "\n",
              "[712816 rows x 4 columns]"
            ]
          },
          "metadata": {},
          "execution_count": 135
        }
      ]
    },
    {
      "cell_type": "code",
      "metadata": {
        "colab": {
          "base_uri": "https://localhost:8080/"
        },
        "id": "8z3dbGH7JSOb",
        "outputId": "03a8e067-ce28-4882-8d14-1ea478c1ac44"
      },
      "source": [
        "time_df['duration'].mode()"
      ],
      "execution_count": 140,
      "outputs": [
        {
          "output_type": "execute_result",
          "data": {
            "text/plain": [
              "0    1.0\n",
              "dtype: float64"
            ]
          },
          "metadata": {},
          "execution_count": 140
        }
      ]
    },
    {
      "cell_type": "code",
      "metadata": {
        "colab": {
          "base_uri": "https://localhost:8080/"
        },
        "id": "D-Ol9NjHJmKw",
        "outputId": "2e6a6d65-f56b-443e-ecbf-e3f0e2677022"
      },
      "source": [
        "time_df['duration'].mean()"
      ],
      "execution_count": 141,
      "outputs": [
        {
          "output_type": "execute_result",
          "data": {
            "text/plain": [
              "1.9969613476689636"
            ]
          },
          "metadata": {},
          "execution_count": 141
        }
      ]
    },
    {
      "cell_type": "code",
      "metadata": {
        "colab": {
          "base_uri": "https://localhost:8080/"
        },
        "id": "4VBRYnxuJips",
        "outputId": "eb7509ec-73ec-4e41-cd6e-971b7de78dfc"
      },
      "source": [
        "time_df['start_hour'].mode()"
      ],
      "execution_count": 139,
      "outputs": [
        {
          "output_type": "execute_result",
          "data": {
            "text/plain": [
              "0    07\n",
              "dtype: object"
            ]
          },
          "metadata": {},
          "execution_count": 139
        }
      ]
    },
    {
      "cell_type": "code",
      "metadata": {
        "colab": {
          "base_uri": "https://localhost:8080/"
        },
        "id": "wTBfySVNJSEd",
        "outputId": "7c681713-caec-4665-973e-c6bef1a410ff"
      },
      "source": [
        "time_df['end_hour'].mode()"
      ],
      "execution_count": 138,
      "outputs": [
        {
          "output_type": "execute_result",
          "data": {
            "text/plain": [
              "0    08\n",
              "dtype: object"
            ]
          },
          "metadata": {},
          "execution_count": 138
        }
      ]
    },
    {
      "cell_type": "markdown",
      "metadata": {
        "id": "LTHmCkPcJ1AG"
      },
      "source": [
        "We can see now that majority of accidents last for one hour. The most frequest time an accident occurs is at 7AM, and the most frequest time it ends is at 8AM.\n",
        "\n",
        "Let's now break those values up per state."
      ]
    },
    {
      "cell_type": "code",
      "metadata": {
        "id": "jnRI6YQrKY_3"
      },
      "source": [
        ""
      ],
      "execution_count": null,
      "outputs": []
    },
    {
      "cell_type": "code",
      "metadata": {
        "id": "-TbEMVnkKZIi"
      },
      "source": [
        ""
      ],
      "execution_count": null,
      "outputs": []
    },
    {
      "cell_type": "markdown",
      "metadata": {
        "id": "S2xES8zNcImq"
      },
      "source": [
        "- [ ] initial analysis \n",
        "  - [x] how many accidents per state\n",
        "  - when do the most accidents happen? (around holidays? in summer/winter? day/night?)\n",
        "  - [x] average distance of accident\n",
        "- more in depth \n",
        "  - [ ] select a subset of columns to look at \n",
        "  - [ ] make question list of what going to be answering and specifically looking at in the notebook"
      ]
    },
    {
      "cell_type": "code",
      "metadata": {
        "id": "MpXEziFfO0pc"
      },
      "source": [
        ""
      ],
      "execution_count": 25,
      "outputs": []
    },
    {
      "cell_type": "markdown",
      "metadata": {
        "id": "x77tfpXZEvZ4"
      },
      "source": [
        "# Questions to consider\n",
        "- Does weather condition make an impact in the severity of the accident? \n",
        "  - i.e if there was rain/hail/snow is the accident more severe? \n",
        "  - What type of weather correlates to the most severity? (does driving in snow/hail/rain have a greater effect on severity)\n",
        "\n",
        "- Digging deeper into weather:\n",
        "    - what about weather at night vs in the day? \n",
        "       - does raining during the night make it worse to drive in, causing more accidents than raining during the day? \n",
        "    - Does faster rain/snow/rain relate to more accidents? \n",
        "\n",
        "- Connection between severity and weather condition? \n",
        "  - include wind speed as well \n",
        "  - increased wind speed could lead to decreased visibility when paired with precipitation"
      ]
    },
    {
      "cell_type": "markdown",
      "metadata": {
        "id": "HNPWIP3nT_DR"
      },
      "source": [
        "#References\n",
        "\n",
        "*   Moosavi, Sobhan, Mohammad Hossein Samavatian, Srinivasan Parthasarathy, and Rajiv Ramnath. “A Countrywide Traffic Accident Dataset.”, 2019.\n",
        "\n",
        "* Moosavi, Sobhan, Mohammad Hossein Samavatian, Srinivasan Parthasarathy, Radu Teodorescu, and Rajiv Ramnath. \"Accident Risk Prediction based on Heterogeneous Sparse Data: New Dataset and Insights.\" In proceedings of the 27th ACM SIGSPATIAL International Conference on Advances in Geographic Information Systems, ACM, 2019.\n",
        "\n",
        "*   https://www.ibm.com/cloud/learn/exploratory-data-analysis \n",
        "*   https://www.stat.cmu.edu/~hseltman/309/Book/chapter4.pdf \n",
        "* https://pandas.pydata.org/pandas-docs/stable/reference/general_functions.html\n",
        "* https://www.timeanddate.com/astronomy/different-types-twilight.html \n",
        "* https://www.washingtonpost.com/weather/2020/08/16/death-valley-heat-record/\n",
        "* https://www.mountwashington.org/about-us/history/world-record-wind.aspx#:~:text=For%20nearly%20sixty%2Dtwo%20years,by%20Mount%20Washington%20Observatory%20staff. "
      ]
    },
    {
      "cell_type": "code",
      "metadata": {
        "id": "OKb4u5BjUMnx"
      },
      "source": [
        ""
      ],
      "execution_count": 25,
      "outputs": []
    }
  ]
}
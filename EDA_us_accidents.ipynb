{
  "nbformat": 4,
  "nbformat_minor": 0,
  "metadata": {
    "colab": {
      "name": "EDA-us-accidents.ipynb",
      "provenance": [],
      "collapsed_sections": [],
      "authorship_tag": "ABX9TyMLHtDlc2X4xcvIpYHXaYhB",
      "include_colab_link": true
    },
    "kernelspec": {
      "name": "python3",
      "display_name": "Python 3"
    }
  },
  "cells": [
    {
      "cell_type": "markdown",
      "metadata": {
        "id": "view-in-github",
        "colab_type": "text"
      },
      "source": [
        "<a href=\"https://colab.research.google.com/github/lodi-m/US-Traffic-Accidents-Analysis/blob/main/EDA_us_accidents.ipynb\" target=\"_parent\"><img src=\"https://colab.research.google.com/assets/colab-badge.svg\" alt=\"Open In Colab\"/></a>"
      ]
    },
    {
      "cell_type": "markdown",
      "metadata": {
        "id": "cXb033XDNibv"
      },
      "source": [
        "# US Traffic Accidents Exploratory Data Analysis\n",
        "\n",
        "## Introduction\n",
        "\n",
        "### What is Exploratory Data Analysis (EDA)? \n",
        "Exploratory data analysis is used to investigate datasets to summarize their main characteristics and draw conclusions *before* any formal statistical modeling or inference is made. It is a crucial first step in the data analysis procedure as it help save time and resources in the future. EDA is especially useful in discovering patterns, locating any abnormalities and finding any interesting relations in the data.\n",
        "\n",
        "In this notebook we'll analyze a car accident dataset from the USA. This current version of the dataset contains information from 4.2 million traffic accidents during *February 2016* - *December 2020* that took place all over the Contiguous United States. The data was collected using multiple Traffic APIs, such as MapQuest and Bing, and several other data providers. \n",
        "\n",
        "Although this dataset can be used for a variety of applications, we will be focusing on how **precipitation** and other **environmental factors** impacted the accidents. \n",
        "\n",
        "If you would like to learn more about the raw data itself please visit: https://smoosavi.org/datasets/us_accidents \n"
      ]
    },
    {
      "cell_type": "markdown",
      "metadata": {
        "id": "s6AZYLNWOTcW"
      },
      "source": [
        "#### Downloading the data\n"
      ]
    },
    {
      "cell_type": "code",
      "metadata": {
        "id": "pDjibJkkOweG"
      },
      "source": [
        "pip install opendatasets --upgrade --quiet"
      ],
      "execution_count": null,
      "outputs": []
    },
    {
      "cell_type": "code",
      "metadata": {
        "colab": {
          "base_uri": "https://localhost:8080/"
        },
        "id": "sNZ9YITROUCk",
        "outputId": "05a0e36c-91e8-42fd-85ea-13b660241a70"
      },
      "source": [
        "import opendatasets as od\n",
        "dataset_url = \"https://www.kaggle.com/sobhanmoosavi/us-accidents\" \n",
        "od.download(dataset_url)"
      ],
      "execution_count": null,
      "outputs": [
        {
          "output_type": "stream",
          "name": "stdout",
          "text": [
            "Please provide your Kaggle credentials to download this dataset. Learn more: http://bit.ly/kaggle-creds\n",
            "Your Kaggle username: malihalodi\n",
            "Your Kaggle Key: ··········\n",
            "Downloading us-accidents.zip to ./us-accidents\n"
          ]
        },
        {
          "output_type": "stream",
          "name": "stderr",
          "text": [
            "100%|██████████| 290M/290M [00:02<00:00, 103MB/s] \n"
          ]
        },
        {
          "output_type": "stream",
          "name": "stdout",
          "text": [
            "\n"
          ]
        }
      ]
    },
    {
      "cell_type": "markdown",
      "metadata": {
        "id": "EmvCogaba0Ev"
      },
      "source": [
        "### Data Preparation and Cleaning \n",
        "\n"
      ]
    },
    {
      "cell_type": "code",
      "metadata": {
        "id": "CZhlmTPpaz3j"
      },
      "source": [
        "import pandas as pd\n",
        "import numpy as np\n",
        "import matplotlib.pyplot as plt\n",
        "import seaborn as sns \n",
        "import folium\n",
        "from folium.plugins import HeatMap\n",
        "sns.set_style(\"darkgrid\")"
      ],
      "execution_count": 5,
      "outputs": []
    },
    {
      "cell_type": "code",
      "metadata": {
        "id": "N6ZpP5nacXce"
      },
      "source": [
        "raw_df = pd.read_csv(\"/content/us-accidents/US_Accidents_Dec20_Updated.csv\")"
      ],
      "execution_count": null,
      "outputs": []
    },
    {
      "cell_type": "code",
      "metadata": {
        "colab": {
          "base_uri": "https://localhost:8080/"
        },
        "id": "M5jYQ-YlcXX1",
        "outputId": "ea31c60a-4d19-4418-8b15-affc0e7e0476"
      },
      "source": [
        "raw_df.columns"
      ],
      "execution_count": null,
      "outputs": [
        {
          "output_type": "execute_result",
          "data": {
            "text/plain": [
              "Index(['ID', 'Severity', 'Start_Time', 'End_Time', 'Start_Lat', 'Start_Lng',\n",
              "       'End_Lat', 'End_Lng', 'Distance(mi)', 'Description', 'Number', 'Street',\n",
              "       'Side', 'City', 'County', 'State', 'Zipcode', 'Country', 'Timezone',\n",
              "       'Airport_Code', 'Weather_Timestamp', 'Temperature(F)', 'Wind_Chill(F)',\n",
              "       'Humidity(%)', 'Pressure(in)', 'Visibility(mi)', 'Wind_Direction',\n",
              "       'Wind_Speed(mph)', 'Precipitation(in)', 'Weather_Condition', 'Amenity',\n",
              "       'Bump', 'Crossing', 'Give_Way', 'Junction', 'No_Exit', 'Railway',\n",
              "       'Roundabout', 'Station', 'Stop', 'Traffic_Calming', 'Traffic_Signal',\n",
              "       'Turning_Loop', 'Sunrise_Sunset', 'Civil_Twilight', 'Nautical_Twilight',\n",
              "       'Astronomical_Twilight'],\n",
              "      dtype='object')"
            ]
          },
          "metadata": {},
          "execution_count": 6
        }
      ]
    },
    {
      "cell_type": "markdown",
      "metadata": {
        "id": "SkeDbLiUdPDp"
      },
      "source": [
        "As you can see, there is a lot more information than we want currently in the dataset. For example, we won't really need to worry about what amenities there were or if there was a roundabout near the accident. We are only focused on the *environmental factors* in this notebook. \n",
        "\n",
        "Please also note that we will only be looking at the time of day in relation to Nautical Twilight. This is because Nautical Twilight takes place right in between Civil and Astronomical Twilight. I felt that if we used the other twilights, there would be a bit of bias in regards to what is considered \"Day\" or \"Night\". As such, I chose to just use the middle value. \n",
        "\n",
        "<img src=\"https://c.tadst.com/gfx/1200x630/twiligh-phases.png?1\" alt=\"Different Types of Twilights and their degrees\" width=\"500\"/>\n",
        "\n",
        "If you would like to read more about the differences between Civil, Nautical, and Astronomical Twilight please visit: https://www.weather.gov/lmk/twilight-types\n",
        "\n"
      ]
    },
    {
      "cell_type": "markdown",
      "metadata": {
        "id": "0u2TnobOIuv-"
      },
      "source": [
        "Now let's go ahead and only select the columns we are interested in. "
      ]
    },
    {
      "cell_type": "code",
      "metadata": {
        "colab": {
          "base_uri": "https://localhost:8080/"
        },
        "id": "ITy2YPFAen6Z",
        "outputId": "f6aecd86-f7cc-4b17-e3a8-efe2e5ba5c47"
      },
      "source": [
        "selected_columns = ['ID', 'Severity', 'Start_Time', 'End_Time',\n",
        "                     'Start_Lat', 'Start_Lng', 'End_Lat', 'End_Lng', 'Distance(mi)',\n",
        "                    'Description', 'City', 'State', 'Timezone', 'Weather_Timestamp',\n",
        "                    'Temperature(F)', 'Wind_Chill(F)', 'Humidity(%)', 'Pressure(in)',\n",
        "                    'Visibility(mi)', 'Wind_Direction', 'Wind_Speed(mph)',\n",
        "                    'Precipitation(in)', 'Weather_Condition', \n",
        "                    'Sunrise_Sunset', 'Nautical_Twilight']\n",
        "\n",
        "len(selected_columns)"
      ],
      "execution_count": null,
      "outputs": [
        {
          "output_type": "execute_result",
          "data": {
            "text/plain": [
              "25"
            ]
          },
          "metadata": {},
          "execution_count": 7
        }
      ]
    },
    {
      "cell_type": "code",
      "metadata": {
        "colab": {
          "base_uri": "https://localhost:8080/"
        },
        "id": "klHhlFYagUxZ",
        "outputId": "65d8183b-69e0-4310-ff74-4f9901c434f7"
      },
      "source": [
        "len(raw_df.columns)"
      ],
      "execution_count": null,
      "outputs": [
        {
          "output_type": "execute_result",
          "data": {
            "text/plain": [
              "47"
            ]
          },
          "metadata": {},
          "execution_count": 8
        }
      ]
    },
    {
      "cell_type": "markdown",
      "metadata": {
        "id": "kiwGx-pXgm82"
      },
      "source": [
        "Note that we've about halved the amount of columns! That's about half of the dataset that we're not interested in. "
      ]
    },
    {
      "cell_type": "markdown",
      "metadata": {
        "id": "CJuXkhtOh8wo"
      },
      "source": [
        "Let's now go ahead and make a new copy of the data, containing only the information we want called <code> weather_df </code>. Using <code> weather_df </code>, we can continue to modify and analyze further without actually affecting the original data and dataframe."
      ]
    },
    {
      "cell_type": "code",
      "metadata": {
        "id": "DkxMya4biVio"
      },
      "source": [
        "weather_df = raw_df[selected_columns].copy()"
      ],
      "execution_count": null,
      "outputs": []
    },
    {
      "cell_type": "markdown",
      "metadata": {
        "id": "ykO4Cfq2BBig"
      },
      "source": [
        "Let's just get a better idea of whats inside <code>weather_df</code>"
      ]
    },
    {
      "cell_type": "code",
      "metadata": {
        "colab": {
          "base_uri": "https://localhost:8080/"
        },
        "id": "VNGw6smuAIml",
        "outputId": "3eab393c-dbb8-4c52-91f3-a355a53e820c"
      },
      "source": [
        "weather_df.shape"
      ],
      "execution_count": null,
      "outputs": [
        {
          "output_type": "execute_result",
          "data": {
            "text/plain": [
              "(2906610, 25)"
            ]
          },
          "metadata": {},
          "execution_count": 10
        }
      ]
    },
    {
      "cell_type": "code",
      "metadata": {
        "colab": {
          "base_uri": "https://localhost:8080/"
        },
        "id": "BRMM_gY5ikPT",
        "outputId": "472b74e5-5578-43e4-c471-3e168ce7f2ff"
      },
      "source": [
        "weather_df.info()"
      ],
      "execution_count": null,
      "outputs": [
        {
          "output_type": "stream",
          "name": "stdout",
          "text": [
            "<class 'pandas.core.frame.DataFrame'>\n",
            "RangeIndex: 2906610 entries, 0 to 2906609\n",
            "Data columns (total 25 columns):\n",
            " #   Column             Dtype  \n",
            "---  ------             -----  \n",
            " 0   ID                 object \n",
            " 1   Severity           int64  \n",
            " 2   Start_Time         object \n",
            " 3   End_Time           object \n",
            " 4   Start_Lat          float64\n",
            " 5   Start_Lng          float64\n",
            " 6   End_Lat            float64\n",
            " 7   End_Lng            float64\n",
            " 8   Distance(mi)       float64\n",
            " 9   Description        object \n",
            " 10  City               object \n",
            " 11  State              object \n",
            " 12  Timezone           object \n",
            " 13  Weather_Timestamp  object \n",
            " 14  Temperature(F)     float64\n",
            " 15  Wind_Chill(F)      float64\n",
            " 16  Humidity(%)        float64\n",
            " 17  Pressure(in)       float64\n",
            " 18  Visibility(mi)     float64\n",
            " 19  Wind_Direction     object \n",
            " 20  Wind_Speed(mph)    float64\n",
            " 21  Precipitation(in)  float64\n",
            " 22  Weather_Condition  object \n",
            " 23  Sunrise_Sunset     object \n",
            " 24  Nautical_Twilight  object \n",
            "dtypes: float64(12), int64(1), object(12)\n",
            "memory usage: 554.4+ MB\n"
          ]
        }
      ]
    },
    {
      "cell_type": "markdown",
      "metadata": {
        "id": "jK7kXA7aBPCq"
      },
      "source": [
        "Before moving forwards, let's also take care of any missing or Null values. We'll first see exactly how many missing values we have. "
      ]
    },
    {
      "cell_type": "code",
      "metadata": {
        "colab": {
          "base_uri": "https://localhost:8080/"
        },
        "id": "Vs3F5RwCcXQF",
        "outputId": "4e081be2-8a8a-49c1-9521-1e06e3e195ee"
      },
      "source": [
        "missing_percentage = weather_df.isna().sum().sort_values(ascending = False) / len(weather_df)\n",
        "missing_percentage"
      ],
      "execution_count": null,
      "outputs": [
        {
          "output_type": "execute_result",
          "data": {
            "text/plain": [
              "Precipitation(in)    0.447713\n",
              "Wind_Chill(F)        0.407299\n",
              "Wind_Speed(mph)      0.105677\n",
              "End_Lng              0.097303\n",
              "End_Lat              0.097303\n",
              "Visibility(mi)       0.024798\n",
              "Weather_Condition    0.024720\n",
              "Humidity(%)          0.024520\n",
              "Temperature(F)       0.023128\n",
              "Wind_Direction       0.021838\n",
              "Pressure(in)         0.019579\n",
              "Weather_Timestamp    0.016141\n",
              "Timezone             0.001180\n",
              "Nautical_Twilight    0.000038\n",
              "Sunrise_Sunset       0.000038\n",
              "City                 0.000037\n",
              "Description          0.000000\n",
              "Distance(mi)         0.000000\n",
              "State                0.000000\n",
              "Start_Lng            0.000000\n",
              "Start_Lat            0.000000\n",
              "End_Time             0.000000\n",
              "Start_Time           0.000000\n",
              "Severity             0.000000\n",
              "ID                   0.000000\n",
              "dtype: float64"
            ]
          },
          "metadata": {},
          "execution_count": 12
        }
      ]
    },
    {
      "cell_type": "code",
      "metadata": {
        "colab": {
          "base_uri": "https://localhost:8080/",
          "height": 283
        },
        "id": "IaZSCp6qC3CY",
        "outputId": "ba7e366c-04f2-4d28-b501-02b9a80b3951"
      },
      "source": [
        "missing_percentage[missing_percentage != 0].plot(kind = \"barh\")"
      ],
      "execution_count": null,
      "outputs": [
        {
          "output_type": "execute_result",
          "data": {
            "text/plain": [
              "<matplotlib.axes._subplots.AxesSubplot at 0x7f95ca829890>"
            ]
          },
          "metadata": {},
          "execution_count": 13
        },
        {
          "output_type": "display_data",
          "data": {
            "image/png": "[encoded data removed]",
            "text/plain": [
              "<Figure size 432x288 with 1 Axes>"
            ]
          },
          "metadata": {}
        }
      ]
    },
    {
      "cell_type": "markdown",
      "metadata": {
        "id": "frdMY3QDDLd_"
      },
      "source": [
        "From the graph we can see that *End_Lat* and *End_Lng* have the greatest amount of missing values, followed by *Precipitation* and *Wind_Chill*. \n",
        "\n",
        "We won't worry about the missing *End_Lat* and *End_Lng* values ***just*** yet as these missing values may indicate that that the vehicle simply did not move after the accident. In some states, moving the car after a crash is actually illegal so this may also be a factor in the missing values. \n",
        "\n"
      ]
    },
    {
      "cell_type": "code",
      "metadata": {
        "id": "pV25g0IbC26N"
      },
      "source": [
        "weather_df.dropna(subset = [\"Humidity(%)\", \"Weather_Condition\", \"Visibility(mi)\", \"Wind_Speed(mph)\", \"Precipitation(in)\", \"Wind_Chill(F)\"], inplace=True)"
      ],
      "execution_count": null,
      "outputs": []
    },
    {
      "cell_type": "markdown",
      "metadata": {
        "id": "xj0lK7H_TF1U"
      },
      "source": [
        "Let's just making sure that the missing values were actually dropped. \n",
        "Note that we are not dropping *all* of the columns. The remaining ones just have such a small amount of missing values that it won't really have an affect on the analysis down the road. "
      ]
    },
    {
      "cell_type": "code",
      "metadata": {
        "colab": {
          "base_uri": "https://localhost:8080/",
          "height": 283
        },
        "id": "9C0rBfj_Txqd",
        "outputId": "3b399f31-0597-43df-cbed-98d4aafe2255"
      },
      "source": [
        "missing_percentage = weather_df.isna().sum().sort_values(ascending = False) / len(weather_df)\n",
        "missing_percentage[missing_percentage != 0].plot(kind = \"barh\")"
      ],
      "execution_count": null,
      "outputs": [
        {
          "output_type": "execute_result",
          "data": {
            "text/plain": [
              "<matplotlib.axes._subplots.AxesSubplot at 0x7f95ca7c1550>"
            ]
          },
          "metadata": {},
          "execution_count": 15
        },
        {
          "output_type": "display_data",
          "data": {
            "image/png": "[encoded data removed]",
            "text/plain": [
              "<Figure size 432x288 with 1 Axes>"
            ]
          },
          "metadata": {}
        }
      ]
    },
    {
      "cell_type": "markdown",
      "metadata": {
        "id": "7M70e2W7T3L1"
      },
      "source": [
        "Now that all of the missing values have been dealt with, lets actually get into the data and see if there are any incorrect values.\n",
        "\n",
        "Let's start off with some basic statistics. "
      ]
    },
    {
      "cell_type": "code",
      "metadata": {
        "colab": {
          "base_uri": "https://localhost:8080/",
          "height": 319
        },
        "id": "e0Y35VVPQZ6E",
        "outputId": "1458a092-7acb-4754-e1c4-1e75ba77fca9"
      },
      "source": [
        "weather_df.describe()"
      ],
      "execution_count": null,
      "outputs": [
        {
          "output_type": "execute_result",
          "data": {
            "text/html": [
              "<div>\n",
              "<style scoped>\n",
              "    .dataframe tbody tr th:only-of-type {\n",
              "        vertical-align: middle;\n",
              "    }\n",
              "\n",
              "    .dataframe tbody tr th {\n",
              "        vertical-align: top;\n",
              "    }\n",
              "\n",
              "    .dataframe thead th {\n",
              "        text-align: right;\n",
              "    }\n",
              "</style>\n",
              "<table border=\"1\" class=\"dataframe\">\n",
              "  <thead>\n",
              "    <tr style=\"text-align: right;\">\n",
              "      <th></th>\n",
              "      <th>Severity</th>\n",
              "      <th>Start_Lat</th>\n",
              "      <th>Start_Lng</th>\n",
              "      <th>End_Lat</th>\n",
              "      <th>End_Lng</th>\n",
              "      <th>Distance(mi)</th>\n",
              "      <th>Temperature(F)</th>\n",
              "      <th>Wind_Chill(F)</th>\n",
              "      <th>Humidity(%)</th>\n",
              "      <th>Pressure(in)</th>\n",
              "      <th>Visibility(mi)</th>\n",
              "      <th>Wind_Speed(mph)</th>\n",
              "      <th>Precipitation(in)</th>\n",
              "    </tr>\n",
              "  </thead>\n",
              "  <tbody>\n",
              "    <tr>\n",
              "      <th>count</th>\n",
              "      <td>382385.000000</td>\n",
              "      <td>382385.000000</td>\n",
              "      <td>382385.000000</td>\n",
              "      <td>360003.000000</td>\n",
              "      <td>360003.000000</td>\n",
              "      <td>382385.000000</td>\n",
              "      <td>382384.000000</td>\n",
              "      <td>382384.000000</td>\n",
              "      <td>382384.000000</td>\n",
              "      <td>382180.000000</td>\n",
              "      <td>382384.000000</td>\n",
              "      <td>382384.000000</td>\n",
              "      <td>382384.000000</td>\n",
              "    </tr>\n",
              "    <tr>\n",
              "      <th>mean</th>\n",
              "      <td>2.192965</td>\n",
              "      <td>38.601937</td>\n",
              "      <td>-97.391227</td>\n",
              "      <td>38.572770</td>\n",
              "      <td>-97.186562</td>\n",
              "      <td>0.479554</td>\n",
              "      <td>44.530707</td>\n",
              "      <td>41.783505</td>\n",
              "      <td>73.451695</td>\n",
              "      <td>29.283510</td>\n",
              "      <td>8.406143</td>\n",
              "      <td>6.763010</td>\n",
              "      <td>0.007621</td>\n",
              "    </tr>\n",
              "    <tr>\n",
              "      <th>std</th>\n",
              "      <td>0.495673</td>\n",
              "      <td>4.494781</td>\n",
              "      <td>18.536145</td>\n",
              "      <td>4.516102</td>\n",
              "      <td>18.499879</td>\n",
              "      <td>1.615718</td>\n",
              "      <td>11.859929</td>\n",
              "      <td>14.973614</td>\n",
              "      <td>19.341633</td>\n",
              "      <td>1.242079</td>\n",
              "      <td>3.159336</td>\n",
              "      <td>5.776939</td>\n",
              "      <td>0.097486</td>\n",
              "    </tr>\n",
              "    <tr>\n",
              "      <th>min</th>\n",
              "      <td>1.000000</td>\n",
              "      <td>24.736436</td>\n",
              "      <td>-124.497470</td>\n",
              "      <td>24.746446</td>\n",
              "      <td>-124.497470</td>\n",
              "      <td>0.000000</td>\n",
              "      <td>-24.000000</td>\n",
              "      <td>-52.700000</td>\n",
              "      <td>4.000000</td>\n",
              "      <td>20.150000</td>\n",
              "      <td>0.000000</td>\n",
              "      <td>0.000000</td>\n",
              "      <td>0.000000</td>\n",
              "    </tr>\n",
              "    <tr>\n",
              "      <th>25%</th>\n",
              "      <td>2.000000</td>\n",
              "      <td>34.791134</td>\n",
              "      <td>-118.228180</td>\n",
              "      <td>34.770473</td>\n",
              "      <td>-118.202987</td>\n",
              "      <td>0.000000</td>\n",
              "      <td>37.000000</td>\n",
              "      <td>33.000000</td>\n",
              "      <td>61.000000</td>\n",
              "      <td>29.130000</td>\n",
              "      <td>8.000000</td>\n",
              "      <td>3.000000</td>\n",
              "      <td>0.000000</td>\n",
              "    </tr>\n",
              "    <tr>\n",
              "      <th>50%</th>\n",
              "      <td>2.000000</td>\n",
              "      <td>38.890239</td>\n",
              "      <td>-93.217410</td>\n",
              "      <td>38.882434</td>\n",
              "      <td>-93.155644</td>\n",
              "      <td>0.010000</td>\n",
              "      <td>47.000000</td>\n",
              "      <td>44.000000</td>\n",
              "      <td>78.000000</td>\n",
              "      <td>29.640000</td>\n",
              "      <td>10.000000</td>\n",
              "      <td>6.000000</td>\n",
              "      <td>0.000000</td>\n",
              "    </tr>\n",
              "    <tr>\n",
              "      <th>75%</th>\n",
              "      <td>2.000000</td>\n",
              "      <td>41.907379</td>\n",
              "      <td>-80.519667</td>\n",
              "      <td>41.904350</td>\n",
              "      <td>-80.302240</td>\n",
              "      <td>0.367000</td>\n",
              "      <td>54.000000</td>\n",
              "      <td>54.000000</td>\n",
              "      <td>89.000000</td>\n",
              "      <td>29.970000</td>\n",
              "      <td>10.000000</td>\n",
              "      <td>10.000000</td>\n",
              "      <td>0.000000</td>\n",
              "    </tr>\n",
              "    <tr>\n",
              "      <th>max</th>\n",
              "      <td>4.000000</td>\n",
              "      <td>49.002201</td>\n",
              "      <td>-67.703370</td>\n",
              "      <td>49.002201</td>\n",
              "      <td>-67.706448</td>\n",
              "      <td>99.791000</td>\n",
              "      <td>60.000000</td>\n",
              "      <td>60.000000</td>\n",
              "      <td>100.000000</td>\n",
              "      <td>58.040000</td>\n",
              "      <td>100.000000</td>\n",
              "      <td>230.000000</td>\n",
              "      <td>10.010000</td>\n",
              "    </tr>\n",
              "  </tbody>\n",
              "</table>\n",
              "</div>"
            ],
            "text/plain": [
              "            Severity      Start_Lat  ...  Wind_Speed(mph)  Precipitation(in)\n",
              "count  382385.000000  382385.000000  ...    382384.000000      382384.000000\n",
              "mean        2.192965      38.601937  ...         6.763010           0.007621\n",
              "std         0.495673       4.494781  ...         5.776939           0.097486\n",
              "min         1.000000      24.736436  ...         0.000000           0.000000\n",
              "25%         2.000000      34.791134  ...         3.000000           0.000000\n",
              "50%         2.000000      38.890239  ...         6.000000           0.000000\n",
              "75%         2.000000      41.907379  ...        10.000000           0.000000\n",
              "max         4.000000      49.002201  ...       230.000000          10.010000\n",
              "\n",
              "[8 rows x 13 columns]"
            ]
          },
          "metadata": {},
          "execution_count": 3
        }
      ]
    },
    {
      "cell_type": "markdown",
      "metadata": {
        "id": "4GTe-pZvc043"
      },
      "source": [
        "There seems to be a problem with the Distance(mi) column. The maximum distance is a car moved during the accident is about 251 miles. This value seems a bit too high, and as such, seems unreliable and unrealistic.  "
      ]
    },
    {
      "cell_type": "markdown",
      "metadata": {
        "id": "I_4tBVWuV5IZ"
      },
      "source": [
        "There are similiar problems with Temperature(F), Wind_Chill(F) and Wind_Speed(mph) columns. The maximum value in each of these columns seems too high to be realistic. For example, it does not make sense that the temperature during the accident was 174 degrees Farenheit when the highest recorded temperature ever on Earth is 134 degrees Farenheit (set on July 10, 1913). "
      ]
    },
    {
      "cell_type": "markdown",
      "metadata": {
        "id": "MEwRLkNqE2XV"
      },
      "source": [
        "A simple fix for these unrealistic and unreliable values are to simply exclude them from our analysis. "
      ]
    },
    {
      "cell_type": "code",
      "metadata": {
        "id": "0CnRXUlBE86z"
      },
      "source": [
        "weather_df.drop(weather_df[weather_df[\"Distance(mi)\"] > 100].index, inplace=True)\n",
        "weather_df.drop(weather_df[weather_df[\"Temperature(F)\"] > 134].index, inplace=True)\n",
        "weather_df.drop(weather_df[weather_df[\"Wind_Chill(F)\"] > 60].index, inplace=True)\n",
        "weather_df.drop(weather_df[weather_df[\"Wind_Speed(mph)\"] > 231].index, inplace=True)"
      ],
      "execution_count": null,
      "outputs": []
    },
    {
      "cell_type": "code",
      "metadata": {
        "colab": {
          "base_uri": "https://localhost:8080/",
          "height": 319
        },
        "id": "fBP-8_NNGaKL",
        "outputId": "1657c7a9-5479-43d9-c32d-2fbf9b17b03b"
      },
      "source": [
        "weather_df.describe()"
      ],
      "execution_count": null,
      "outputs": [
        {
          "output_type": "execute_result",
          "data": {
            "text/html": [
              "<div>\n",
              "<style scoped>\n",
              "    .dataframe tbody tr th:only-of-type {\n",
              "        vertical-align: middle;\n",
              "    }\n",
              "\n",
              "    .dataframe tbody tr th {\n",
              "        vertical-align: top;\n",
              "    }\n",
              "\n",
              "    .dataframe thead th {\n",
              "        text-align: right;\n",
              "    }\n",
              "</style>\n",
              "<table border=\"1\" class=\"dataframe\">\n",
              "  <thead>\n",
              "    <tr style=\"text-align: right;\">\n",
              "      <th></th>\n",
              "      <th>Severity</th>\n",
              "      <th>Start_Lat</th>\n",
              "      <th>Start_Lng</th>\n",
              "      <th>End_Lat</th>\n",
              "      <th>End_Lng</th>\n",
              "      <th>Distance(mi)</th>\n",
              "      <th>Temperature(F)</th>\n",
              "      <th>Wind_Chill(F)</th>\n",
              "      <th>Humidity(%)</th>\n",
              "      <th>Pressure(in)</th>\n",
              "      <th>Visibility(mi)</th>\n",
              "      <th>Wind_Speed(mph)</th>\n",
              "      <th>Precipitation(in)</th>\n",
              "    </tr>\n",
              "  </thead>\n",
              "  <tbody>\n",
              "    <tr>\n",
              "      <th>count</th>\n",
              "      <td>712816.000000</td>\n",
              "      <td>712816.000000</td>\n",
              "      <td>712816.000000</td>\n",
              "      <td>670875.000000</td>\n",
              "      <td>670875.000000</td>\n",
              "      <td>712816.000000</td>\n",
              "      <td>712816.000000</td>\n",
              "      <td>712816.000000</td>\n",
              "      <td>712816.000000</td>\n",
              "      <td>712425.000000</td>\n",
              "      <td>712816.000000</td>\n",
              "      <td>712816.000000</td>\n",
              "      <td>712816.000000</td>\n",
              "    </tr>\n",
              "    <tr>\n",
              "      <th>mean</th>\n",
              "      <td>2.192585</td>\n",
              "      <td>38.604513</td>\n",
              "      <td>-97.390789</td>\n",
              "      <td>38.573880</td>\n",
              "      <td>-97.192285</td>\n",
              "      <td>0.480983</td>\n",
              "      <td>44.520303</td>\n",
              "      <td>41.770337</td>\n",
              "      <td>73.424398</td>\n",
              "      <td>29.283090</td>\n",
              "      <td>8.408848</td>\n",
              "      <td>6.763847</td>\n",
              "      <td>0.007721</td>\n",
              "    </tr>\n",
              "    <tr>\n",
              "      <th>std</th>\n",
              "      <td>0.495585</td>\n",
              "      <td>4.494895</td>\n",
              "      <td>18.540248</td>\n",
              "      <td>4.516422</td>\n",
              "      <td>18.505757</td>\n",
              "      <td>1.624178</td>\n",
              "      <td>11.848420</td>\n",
              "      <td>14.960839</td>\n",
              "      <td>19.355494</td>\n",
              "      <td>1.242086</td>\n",
              "      <td>3.154094</td>\n",
              "      <td>5.762795</td>\n",
              "      <td>0.107808</td>\n",
              "    </tr>\n",
              "    <tr>\n",
              "      <th>min</th>\n",
              "      <td>1.000000</td>\n",
              "      <td>24.574326</td>\n",
              "      <td>-124.497567</td>\n",
              "      <td>24.574546</td>\n",
              "      <td>-124.497478</td>\n",
              "      <td>0.000000</td>\n",
              "      <td>-27.000000</td>\n",
              "      <td>-52.700000</td>\n",
              "      <td>4.000000</td>\n",
              "      <td>19.480000</td>\n",
              "      <td>0.000000</td>\n",
              "      <td>0.000000</td>\n",
              "      <td>0.000000</td>\n",
              "    </tr>\n",
              "    <tr>\n",
              "      <th>25%</th>\n",
              "      <td>2.000000</td>\n",
              "      <td>34.789993</td>\n",
              "      <td>-118.226471</td>\n",
              "      <td>34.766392</td>\n",
              "      <td>-118.199341</td>\n",
              "      <td>0.000000</td>\n",
              "      <td>37.000000</td>\n",
              "      <td>33.000000</td>\n",
              "      <td>61.000000</td>\n",
              "      <td>29.130000</td>\n",
              "      <td>8.000000</td>\n",
              "      <td>3.000000</td>\n",
              "      <td>0.000000</td>\n",
              "    </tr>\n",
              "    <tr>\n",
              "      <th>50%</th>\n",
              "      <td>2.000000</td>\n",
              "      <td>38.891848</td>\n",
              "      <td>-93.217866</td>\n",
              "      <td>38.882228</td>\n",
              "      <td>-93.164062</td>\n",
              "      <td>0.010000</td>\n",
              "      <td>47.000000</td>\n",
              "      <td>44.000000</td>\n",
              "      <td>78.000000</td>\n",
              "      <td>29.640000</td>\n",
              "      <td>10.000000</td>\n",
              "      <td>6.000000</td>\n",
              "      <td>0.000000</td>\n",
              "    </tr>\n",
              "    <tr>\n",
              "      <th>75%</th>\n",
              "      <td>2.000000</td>\n",
              "      <td>41.909622</td>\n",
              "      <td>-80.481331</td>\n",
              "      <td>41.904583</td>\n",
              "      <td>-80.276722</td>\n",
              "      <td>0.367000</td>\n",
              "      <td>54.000000</td>\n",
              "      <td>54.000000</td>\n",
              "      <td>89.000000</td>\n",
              "      <td>29.970000</td>\n",
              "      <td>10.000000</td>\n",
              "      <td>10.000000</td>\n",
              "      <td>0.000000</td>\n",
              "    </tr>\n",
              "    <tr>\n",
              "      <th>max</th>\n",
              "      <td>4.000000</td>\n",
              "      <td>49.002201</td>\n",
              "      <td>-67.484130</td>\n",
              "      <td>49.075000</td>\n",
              "      <td>-67.484130</td>\n",
              "      <td>99.791000</td>\n",
              "      <td>60.000000</td>\n",
              "      <td>60.000000</td>\n",
              "      <td>100.000000</td>\n",
              "      <td>58.040000</td>\n",
              "      <td>100.000000</td>\n",
              "      <td>230.000000</td>\n",
              "      <td>24.000000</td>\n",
              "    </tr>\n",
              "  </tbody>\n",
              "</table>\n",
              "</div>"
            ],
            "text/plain": [
              "            Severity      Start_Lat  ...  Wind_Speed(mph)  Precipitation(in)\n",
              "count  712816.000000  712816.000000  ...    712816.000000      712816.000000\n",
              "mean        2.192585      38.604513  ...         6.763847           0.007721\n",
              "std         0.495585       4.494895  ...         5.762795           0.107808\n",
              "min         1.000000      24.574326  ...         0.000000           0.000000\n",
              "25%         2.000000      34.789993  ...         3.000000           0.000000\n",
              "50%         2.000000      38.891848  ...         6.000000           0.000000\n",
              "75%         2.000000      41.909622  ...        10.000000           0.000000\n",
              "max         4.000000      49.002201  ...       230.000000          24.000000\n",
              "\n",
              "[8 rows x 13 columns]"
            ]
          },
          "metadata": {},
          "execution_count": 18
        }
      ]
    },
    {
      "cell_type": "markdown",
      "metadata": {
        "id": "RLdMep-LozBQ"
      },
      "source": [
        "I will also go ahead and save this data for easy use in the future. By doing so, I won't have to start with the raw dataset and clean it every single time I work on this project."
      ]
    },
    {
      "cell_type": "code",
      "metadata": {
        "id": "INMxB3QjogiH"
      },
      "source": [
        "weather_df.to_csv(r'/content/us-accidents/clean_data.csv', index = False)"
      ],
      "execution_count": null,
      "outputs": []
    },
    {
      "cell_type": "code",
      "metadata": {
        "id": "Ov0UssHn45dH"
      },
      "source": [
        "weather_df = pd.read_csv(\"/content/clean_data.csv\")"
      ],
      "execution_count": 6,
      "outputs": []
    },
    {
      "cell_type": "code",
      "metadata": {
        "colab": {
          "base_uri": "https://localhost:8080/"
        },
        "id": "v3LNwDrmlqi1",
        "outputId": "6896283f-f28a-4328-e2b6-88252e507379"
      },
      "source": [
        "weather_df['ID'].count()"
      ],
      "execution_count": null,
      "outputs": [
        {
          "output_type": "execute_result",
          "data": {
            "text/plain": [
              "712816"
            ]
          },
          "metadata": {},
          "execution_count": 19
        }
      ]
    },
    {
      "cell_type": "markdown",
      "metadata": {
        "id": "0xlH-yVHG2l9"
      },
      "source": [
        "#### Note that we only have about 712 000 entries left in our dataset after cleaning and preparing it! We originally had over 4.2 million entries. That's about 3 million entries which were unusable for either containing null/missing values or have unrealistic information inside. "
      ]
    },
    {
      "cell_type": "markdown",
      "metadata": {
        "id": "AiozSb1OywnH"
      },
      "source": [
        "#### We've now cleaned up and prepared the dataset for analysis. Let's take a look at a sample of rows from the data frame. "
      ]
    },
    {
      "cell_type": "code",
      "metadata": {
        "id": "ZfZzoym_G1xP",
        "colab": {
          "base_uri": "https://localhost:8080/",
          "height": 883
        },
        "outputId": "354cec2c-cc38-4c18-8a83-b1051110a153"
      },
      "source": [
        "weather_df.sample(10)"
      ],
      "execution_count": null,
      "outputs": [
        {
          "output_type": "execute_result",
          "data": {
            "text/html": [
              "<div>\n",
              "<style scoped>\n",
              "    .dataframe tbody tr th:only-of-type {\n",
              "        vertical-align: middle;\n",
              "    }\n",
              "\n",
              "    .dataframe tbody tr th {\n",
              "        vertical-align: top;\n",
              "    }\n",
              "\n",
              "    .dataframe thead th {\n",
              "        text-align: right;\n",
              "    }\n",
              "</style>\n",
              "<table border=\"1\" class=\"dataframe\">\n",
              "  <thead>\n",
              "    <tr style=\"text-align: right;\">\n",
              "      <th></th>\n",
              "      <th>ID</th>\n",
              "      <th>Severity</th>\n",
              "      <th>Start_Time</th>\n",
              "      <th>End_Time</th>\n",
              "      <th>Start_Lat</th>\n",
              "      <th>Start_Lng</th>\n",
              "      <th>End_Lat</th>\n",
              "      <th>End_Lng</th>\n",
              "      <th>Distance(mi)</th>\n",
              "      <th>Description</th>\n",
              "      <th>City</th>\n",
              "      <th>State</th>\n",
              "      <th>Timezone</th>\n",
              "      <th>Weather_Timestamp</th>\n",
              "      <th>Temperature(F)</th>\n",
              "      <th>Wind_Chill(F)</th>\n",
              "      <th>Humidity(%)</th>\n",
              "      <th>Pressure(in)</th>\n",
              "      <th>Visibility(mi)</th>\n",
              "      <th>Wind_Direction</th>\n",
              "      <th>Wind_Speed(mph)</th>\n",
              "      <th>Precipitation(in)</th>\n",
              "      <th>Weather_Condition</th>\n",
              "      <th>Sunrise_Sunset</th>\n",
              "      <th>Nautical_Twilight</th>\n",
              "    </tr>\n",
              "  </thead>\n",
              "  <tbody>\n",
              "    <tr>\n",
              "      <th>327342</th>\n",
              "      <td>A-327343</td>\n",
              "      <td>3</td>\n",
              "      <td>2019-12-11 10:59:40</td>\n",
              "      <td>2019-12-11 12:30:18</td>\n",
              "      <td>32.681732</td>\n",
              "      <td>-96.744240</td>\n",
              "      <td>32.681732</td>\n",
              "      <td>-96.744240</td>\n",
              "      <td>0.000</td>\n",
              "      <td>One lane blocked due to accident on I-45 North...</td>\n",
              "      <td>Dallas</td>\n",
              "      <td>TX</td>\n",
              "      <td>US/Central</td>\n",
              "      <td>2019-12-11 10:53:00</td>\n",
              "      <td>45.0</td>\n",
              "      <td>42.0</td>\n",
              "      <td>58.0</td>\n",
              "      <td>29.80</td>\n",
              "      <td>10.0</td>\n",
              "      <td>SSE</td>\n",
              "      <td>6.0</td>\n",
              "      <td>0.00</td>\n",
              "      <td>Fair</td>\n",
              "      <td>Day</td>\n",
              "      <td>Day</td>\n",
              "    </tr>\n",
              "    <tr>\n",
              "      <th>1642242</th>\n",
              "      <td>A-1642243</td>\n",
              "      <td>3</td>\n",
              "      <td>2020-03-15 23:50:02</td>\n",
              "      <td>2020-03-16 00:19:54</td>\n",
              "      <td>33.854110</td>\n",
              "      <td>-117.886390</td>\n",
              "      <td>33.854230</td>\n",
              "      <td>-117.893490</td>\n",
              "      <td>0.407</td>\n",
              "      <td>At State College Blvd - Accident.</td>\n",
              "      <td>Anaheim</td>\n",
              "      <td>CA</td>\n",
              "      <td>US/Pacific</td>\n",
              "      <td>2020-03-15 23:53:00</td>\n",
              "      <td>59.0</td>\n",
              "      <td>59.0</td>\n",
              "      <td>55.0</td>\n",
              "      <td>29.99</td>\n",
              "      <td>10.0</td>\n",
              "      <td>CALM</td>\n",
              "      <td>0.0</td>\n",
              "      <td>0.00</td>\n",
              "      <td>Cloudy</td>\n",
              "      <td>Night</td>\n",
              "      <td>Night</td>\n",
              "    </tr>\n",
              "    <tr>\n",
              "      <th>582816</th>\n",
              "      <td>A-582817</td>\n",
              "      <td>2</td>\n",
              "      <td>2020-12-31 01:12:04</td>\n",
              "      <td>2020-12-31 09:12:04</td>\n",
              "      <td>45.597959</td>\n",
              "      <td>-121.137937</td>\n",
              "      <td>45.598387</td>\n",
              "      <td>-121.138912</td>\n",
              "      <td>0.056</td>\n",
              "      <td>Rock fall has occurred causing no to minimum d...</td>\n",
              "      <td>The Dalles</td>\n",
              "      <td>OR</td>\n",
              "      <td>US/Pacific</td>\n",
              "      <td>2020-12-31 00:53:00</td>\n",
              "      <td>35.0</td>\n",
              "      <td>35.0</td>\n",
              "      <td>100.0</td>\n",
              "      <td>29.71</td>\n",
              "      <td>4.0</td>\n",
              "      <td>CALM</td>\n",
              "      <td>0.0</td>\n",
              "      <td>0.00</td>\n",
              "      <td>Cloudy</td>\n",
              "      <td>Night</td>\n",
              "      <td>Night</td>\n",
              "    </tr>\n",
              "    <tr>\n",
              "      <th>467188</th>\n",
              "      <td>A-467189</td>\n",
              "      <td>2</td>\n",
              "      <td>2020-10-31 22:27:57</td>\n",
              "      <td>2020-11-01 00:09:01</td>\n",
              "      <td>40.732928</td>\n",
              "      <td>-74.220825</td>\n",
              "      <td>40.736956</td>\n",
              "      <td>-74.218065</td>\n",
              "      <td>0.314</td>\n",
              "      <td>Incident on GARDEN STATE PKWY NB near COUNTY H...</td>\n",
              "      <td>Irvington</td>\n",
              "      <td>NJ</td>\n",
              "      <td>US/Eastern</td>\n",
              "      <td>2020-10-31 22:51:00</td>\n",
              "      <td>43.0</td>\n",
              "      <td>39.0</td>\n",
              "      <td>65.0</td>\n",
              "      <td>30.39</td>\n",
              "      <td>10.0</td>\n",
              "      <td>S</td>\n",
              "      <td>6.0</td>\n",
              "      <td>0.00</td>\n",
              "      <td>Fair</td>\n",
              "      <td>Night</td>\n",
              "      <td>Night</td>\n",
              "    </tr>\n",
              "    <tr>\n",
              "      <th>2134780</th>\n",
              "      <td>A-2134781</td>\n",
              "      <td>2</td>\n",
              "      <td>2020-03-03 06:22:27</td>\n",
              "      <td>2020-03-03 07:13:18</td>\n",
              "      <td>35.348660</td>\n",
              "      <td>-97.405922</td>\n",
              "      <td>35.348660</td>\n",
              "      <td>-97.405922</td>\n",
              "      <td>0.000</td>\n",
              "      <td>Accident on Air Depot Blvd at 119th St.</td>\n",
              "      <td>Oklahoma City</td>\n",
              "      <td>OK</td>\n",
              "      <td>US/Central</td>\n",
              "      <td>2020-03-03 05:56:00</td>\n",
              "      <td>45.0</td>\n",
              "      <td>39.0</td>\n",
              "      <td>76.0</td>\n",
              "      <td>28.46</td>\n",
              "      <td>10.0</td>\n",
              "      <td>ENE</td>\n",
              "      <td>12.0</td>\n",
              "      <td>0.00</td>\n",
              "      <td>Fair</td>\n",
              "      <td>Night</td>\n",
              "      <td>Day</td>\n",
              "    </tr>\n",
              "    <tr>\n",
              "      <th>1296795</th>\n",
              "      <td>A-1296796</td>\n",
              "      <td>2</td>\n",
              "      <td>2020-12-19 10:56:26</td>\n",
              "      <td>2020-12-19 14:01:30</td>\n",
              "      <td>35.008611</td>\n",
              "      <td>-82.013803</td>\n",
              "      <td>35.007952</td>\n",
              "      <td>-82.013109</td>\n",
              "      <td>0.060</td>\n",
              "      <td>Incident on ASHEVILLE HWY near DICK WILSON RD ...</td>\n",
              "      <td>Spartanburg</td>\n",
              "      <td>SC</td>\n",
              "      <td>US/Eastern</td>\n",
              "      <td>2020-12-19 10:55:00</td>\n",
              "      <td>39.0</td>\n",
              "      <td>39.0</td>\n",
              "      <td>65.0</td>\n",
              "      <td>29.55</td>\n",
              "      <td>10.0</td>\n",
              "      <td>CALM</td>\n",
              "      <td>0.0</td>\n",
              "      <td>0.00</td>\n",
              "      <td>Fair</td>\n",
              "      <td>Day</td>\n",
              "      <td>Day</td>\n",
              "    </tr>\n",
              "    <tr>\n",
              "      <th>1476654</th>\n",
              "      <td>A-1476655</td>\n",
              "      <td>2</td>\n",
              "      <td>2020-10-16 15:12:51</td>\n",
              "      <td>2020-10-16 15:42:30</td>\n",
              "      <td>40.698521</td>\n",
              "      <td>-74.214462</td>\n",
              "      <td>40.698521</td>\n",
              "      <td>-74.214462</td>\n",
              "      <td>0.000</td>\n",
              "      <td>Lane blocked due to accident on US-22 Eastboun...</td>\n",
              "      <td>Hillside</td>\n",
              "      <td>NJ</td>\n",
              "      <td>US/Eastern</td>\n",
              "      <td>2020-10-16 14:51:00</td>\n",
              "      <td>52.0</td>\n",
              "      <td>52.0</td>\n",
              "      <td>89.0</td>\n",
              "      <td>30.09</td>\n",
              "      <td>5.0</td>\n",
              "      <td>NNW</td>\n",
              "      <td>10.0</td>\n",
              "      <td>0.10</td>\n",
              "      <td>Light Rain</td>\n",
              "      <td>Day</td>\n",
              "      <td>Day</td>\n",
              "    </tr>\n",
              "    <tr>\n",
              "      <th>1838823</th>\n",
              "      <td>A-1838824</td>\n",
              "      <td>2</td>\n",
              "      <td>2020-10-18 22:12:10</td>\n",
              "      <td>2020-10-19 01:55:59</td>\n",
              "      <td>34.617839</td>\n",
              "      <td>-82.122276</td>\n",
              "      <td>34.618309</td>\n",
              "      <td>-82.122733</td>\n",
              "      <td>0.042</td>\n",
              "      <td>Incident on SC-14 near HEARTHSTONE DR Expect d...</td>\n",
              "      <td>Gray Court</td>\n",
              "      <td>SC</td>\n",
              "      <td>US/Eastern</td>\n",
              "      <td>2020-10-18 22:15:00</td>\n",
              "      <td>50.0</td>\n",
              "      <td>50.0</td>\n",
              "      <td>100.0</td>\n",
              "      <td>29.55</td>\n",
              "      <td>10.0</td>\n",
              "      <td>ENE</td>\n",
              "      <td>3.0</td>\n",
              "      <td>0.00</td>\n",
              "      <td>Fair</td>\n",
              "      <td>Night</td>\n",
              "      <td>Night</td>\n",
              "    </tr>\n",
              "    <tr>\n",
              "      <th>1617864</th>\n",
              "      <td>A-1617865</td>\n",
              "      <td>4</td>\n",
              "      <td>2020-10-31 04:46:13</td>\n",
              "      <td>2020-10-31 06:23:16</td>\n",
              "      <td>39.686247</td>\n",
              "      <td>-77.720805</td>\n",
              "      <td>39.686984</td>\n",
              "      <td>-77.720958</td>\n",
              "      <td>0.052</td>\n",
              "      <td>Incident on US-11 NB near MAUGANS AVE Road clo...</td>\n",
              "      <td>Hagerstown</td>\n",
              "      <td>MD</td>\n",
              "      <td>US/Eastern</td>\n",
              "      <td>2020-10-31 04:53:00</td>\n",
              "      <td>36.0</td>\n",
              "      <td>36.0</td>\n",
              "      <td>89.0</td>\n",
              "      <td>29.64</td>\n",
              "      <td>10.0</td>\n",
              "      <td>CALM</td>\n",
              "      <td>0.0</td>\n",
              "      <td>0.00</td>\n",
              "      <td>Cloudy</td>\n",
              "      <td>Night</td>\n",
              "      <td>Night</td>\n",
              "    </tr>\n",
              "    <tr>\n",
              "      <th>2546534</th>\n",
              "      <td>A-2546535</td>\n",
              "      <td>4</td>\n",
              "      <td>2017-04-01 01:19:31</td>\n",
              "      <td>2017-04-01 07:19:31</td>\n",
              "      <td>41.889701</td>\n",
              "      <td>-72.267811</td>\n",
              "      <td>41.903350</td>\n",
              "      <td>-72.266865</td>\n",
              "      <td>0.944</td>\n",
              "      <td>Closed at Hancock Rd - Road closed due to acci...</td>\n",
              "      <td>Willington</td>\n",
              "      <td>CT</td>\n",
              "      <td>US/Eastern</td>\n",
              "      <td>2017-04-01 00:52:00</td>\n",
              "      <td>37.0</td>\n",
              "      <td>28.9</td>\n",
              "      <td>86.0</td>\n",
              "      <td>29.83</td>\n",
              "      <td>5.0</td>\n",
              "      <td>ENE</td>\n",
              "      <td>12.7</td>\n",
              "      <td>0.02</td>\n",
              "      <td>Light Rain</td>\n",
              "      <td>Night</td>\n",
              "      <td>Night</td>\n",
              "    </tr>\n",
              "  </tbody>\n",
              "</table>\n",
              "</div>"
            ],
            "text/plain": [
              "                ID  Severity  ... Sunrise_Sunset Nautical_Twilight\n",
              "327342    A-327343         3  ...            Day               Day\n",
              "1642242  A-1642243         3  ...          Night             Night\n",
              "582816    A-582817         2  ...          Night             Night\n",
              "467188    A-467189         2  ...          Night             Night\n",
              "2134780  A-2134781         2  ...          Night               Day\n",
              "1296795  A-1296796         2  ...            Day               Day\n",
              "1476654  A-1476655         2  ...            Day               Day\n",
              "1838823  A-1838824         2  ...          Night             Night\n",
              "1617864  A-1617865         4  ...          Night             Night\n",
              "2546534  A-2546535         4  ...          Night             Night\n",
              "\n",
              "[10 rows x 25 columns]"
            ]
          },
          "metadata": {},
          "execution_count": 20
        }
      ]
    },
    {
      "cell_type": "markdown",
      "metadata": {
        "id": "jD2Yp_XKzdtV"
      },
      "source": [
        "## Exploratory Analysis and Visualization\n",
        "#### Let's begin by seeing where exactly the accidents are occuring. We'll do this by taking a 10% sample of the data and using the \"Start Longitude\" and \"Start Latitude\" columns."
      ]
    },
    {
      "cell_type": "code",
      "metadata": {
        "id": "bKJ6HR03zwvL"
      },
      "source": [
        "location_df = weather_df.sample(int(0.1 * len(weather_df)))"
      ],
      "execution_count": null,
      "outputs": []
    },
    {
      "cell_type": "code",
      "metadata": {
        "colab": {
          "base_uri": "https://localhost:8080/",
          "height": 301
        },
        "id": "8V2wIy3DzwiT",
        "outputId": "d05a142c-bb29-4516-ee9f-db2a0f19e3f5"
      },
      "source": [
        "sns.scatterplot(x = location_df.Start_Lng, y = location_df.Start_Lat, size = 0.002)"
      ],
      "execution_count": null,
      "outputs": [
        {
          "output_type": "execute_result",
          "data": {
            "text/plain": [
              "<matplotlib.axes._subplots.AxesSubplot at 0x7f95ca2eb910>"
            ]
          },
          "metadata": {},
          "execution_count": 22
        },
        {
          "output_type": "display_data",
          "data": {
            "image/png": "[encoded data removed]",
            "text/plain": [
              "<Figure size 432x288 with 1 Axes>"
            ]
          },
          "metadata": {}
        }
      ]
    },
    {
      "cell_type": "code",
      "metadata": {
        "id": "HAMjeaU_1BMg"
      },
      "source": [
        "latitude_longitude_pairs = list(zip(list(location_df.Start_Lat), list(location_df.Start_Lng)))"
      ],
      "execution_count": null,
      "outputs": []
    },
    {
      "cell_type": "code",
      "metadata": {
        "id": "GqDN8hwj1i5-"
      },
      "source": [
        "map = folium.Map()\n",
        "HeatMap(latitude_longitude_pairs, radius=20).add_to(map)\n",
        "map"
      ],
      "execution_count": null,
      "outputs": []
    },
    {
      "cell_type": "markdown",
      "metadata": {
        "id": "3L3AnJ7SJSwR"
      },
      "source": [
        "Let's get a more granular look into each of the states."
      ]
    },
    {
      "cell_type": "code",
      "metadata": {
        "id": "NlYVrW9mJSVz"
      },
      "source": [
        "col_list = []\n",
        "col_list.append(weather_df.groupby(by='State')['ID'].count())\n",
        "for col in ['Temperature(F)', 'Wind_Chill(F)', 'Humidity(%)', 'Visibility(mi)', 'Wind_Speed(mph)', 'Precipitation(in)', 'Distance(mi)']:\n",
        "  avg_df = pd.DataFrame({f'avg_{col}': weather_df.groupby(by='State')[f'{col}'].mean()})\n",
        "  median_df = pd.DataFrame({f'median_{col}': weather_df.groupby(by='State')[f'{col}'].median()})\n",
        "  col_list.append(avg_df)\n",
        "  col_list.append(median_df)\n",
        "per_state = pd.concat(col_list, axis=1).rename(columns={'ID':'num_accidents'}).sort_values(by='num_accidents', ascending=False)"
      ],
      "execution_count": null,
      "outputs": []
    },
    {
      "cell_type": "code",
      "metadata": {
        "id": "UAGCvwGCJRlp",
        "colab": {
          "base_uri": "https://localhost:8080/",
          "height": 1000
        },
        "outputId": "cbd4f725-2295-4939-dc99-c72d5b9fde94"
      },
      "source": [
        "per_state"
      ],
      "execution_count": null,
      "outputs": [
        {
          "output_type": "execute_result",
          "data": {
            "text/html": [
              "<div>\n",
              "<style scoped>\n",
              "    .dataframe tbody tr th:only-of-type {\n",
              "        vertical-align: middle;\n",
              "    }\n",
              "\n",
              "    .dataframe tbody tr th {\n",
              "        vertical-align: top;\n",
              "    }\n",
              "\n",
              "    .dataframe thead th {\n",
              "        text-align: right;\n",
              "    }\n",
              "</style>\n",
              "<table border=\"1\" class=\"dataframe\">\n",
              "  <thead>\n",
              "    <tr style=\"text-align: right;\">\n",
              "      <th></th>\n",
              "      <th>num_accidents</th>\n",
              "      <th>avg_Temperature(F)</th>\n",
              "      <th>median_Temperature(F)</th>\n",
              "      <th>avg_Wind_Chill(F)</th>\n",
              "      <th>median_Wind_Chill(F)</th>\n",
              "      <th>avg_Humidity(%)</th>\n",
              "      <th>median_Humidity(%)</th>\n",
              "      <th>avg_Visibility(mi)</th>\n",
              "      <th>median_Visibility(mi)</th>\n",
              "      <th>avg_Wind_Speed(mph)</th>\n",
              "      <th>median_Wind_Speed(mph)</th>\n",
              "      <th>avg_Precipitation(in)</th>\n",
              "      <th>median_Precipitation(in)</th>\n",
              "      <th>avg_Distance(mi)</th>\n",
              "      <th>median_Distance(mi)</th>\n",
              "    </tr>\n",
              "    <tr>\n",
              "      <th>State</th>\n",
              "      <th></th>\n",
              "      <th></th>\n",
              "      <th></th>\n",
              "      <th></th>\n",
              "      <th></th>\n",
              "      <th></th>\n",
              "      <th></th>\n",
              "      <th></th>\n",
              "      <th></th>\n",
              "      <th></th>\n",
              "      <th></th>\n",
              "      <th></th>\n",
              "      <th></th>\n",
              "      <th></th>\n",
              "      <th></th>\n",
              "    </tr>\n",
              "  </thead>\n",
              "  <tbody>\n",
              "    <tr>\n",
              "      <th>CA</th>\n",
              "      <td>94248</td>\n",
              "      <td>51.333631</td>\n",
              "      <td>53.00</td>\n",
              "      <td>50.816380</td>\n",
              "      <td>53.0</td>\n",
              "      <td>71.780590</td>\n",
              "      <td>76.0</td>\n",
              "      <td>8.492251</td>\n",
              "      <td>10.0</td>\n",
              "      <td>4.333429</td>\n",
              "      <td>3.0</td>\n",
              "      <td>0.006934</td>\n",
              "      <td>0.0</td>\n",
              "      <td>0.233457</td>\n",
              "      <td>0.0000</td>\n",
              "    </tr>\n",
              "    <tr>\n",
              "      <th>OR</th>\n",
              "      <td>25549</td>\n",
              "      <td>44.715042</td>\n",
              "      <td>45.00</td>\n",
              "      <td>42.340522</td>\n",
              "      <td>42.0</td>\n",
              "      <td>78.517007</td>\n",
              "      <td>83.0</td>\n",
              "      <td>8.400742</td>\n",
              "      <td>10.0</td>\n",
              "      <td>6.683009</td>\n",
              "      <td>6.0</td>\n",
              "      <td>0.008386</td>\n",
              "      <td>0.0</td>\n",
              "      <td>0.725200</td>\n",
              "      <td>0.0730</td>\n",
              "    </tr>\n",
              "    <tr>\n",
              "      <th>MN</th>\n",
              "      <td>24595</td>\n",
              "      <td>27.396930</td>\n",
              "      <td>28.00</td>\n",
              "      <td>19.702252</td>\n",
              "      <td>20.2</td>\n",
              "      <td>76.542590</td>\n",
              "      <td>79.0</td>\n",
              "      <td>7.814648</td>\n",
              "      <td>10.0</td>\n",
              "      <td>9.361167</td>\n",
              "      <td>8.0</td>\n",
              "      <td>0.002523</td>\n",
              "      <td>0.0</td>\n",
              "      <td>0.566670</td>\n",
              "      <td>0.0000</td>\n",
              "    </tr>\n",
              "    <tr>\n",
              "      <th>NY</th>\n",
              "      <td>23072</td>\n",
              "      <td>41.452115</td>\n",
              "      <td>42.10</td>\n",
              "      <td>37.023786</td>\n",
              "      <td>38.0</td>\n",
              "      <td>71.948986</td>\n",
              "      <td>76.0</td>\n",
              "      <td>8.144346</td>\n",
              "      <td>10.0</td>\n",
              "      <td>9.377657</td>\n",
              "      <td>8.1</td>\n",
              "      <td>0.019775</td>\n",
              "      <td>0.0</td>\n",
              "      <td>0.593192</td>\n",
              "      <td>0.0100</td>\n",
              "    </tr>\n",
              "    <tr>\n",
              "      <th>PA</th>\n",
              "      <td>18032</td>\n",
              "      <td>42.046279</td>\n",
              "      <td>43.00</td>\n",
              "      <td>38.786064</td>\n",
              "      <td>39.0</td>\n",
              "      <td>73.534217</td>\n",
              "      <td>76.0</td>\n",
              "      <td>8.179068</td>\n",
              "      <td>10.0</td>\n",
              "      <td>7.062323</td>\n",
              "      <td>6.9</td>\n",
              "      <td>0.006846</td>\n",
              "      <td>0.0</td>\n",
              "      <td>0.898560</td>\n",
              "      <td>0.0940</td>\n",
              "    </tr>\n",
              "    <tr>\n",
              "      <th>TX</th>\n",
              "      <td>14517</td>\n",
              "      <td>48.345223</td>\n",
              "      <td>49.00</td>\n",
              "      <td>46.132410</td>\n",
              "      <td>47.0</td>\n",
              "      <td>72.373562</td>\n",
              "      <td>76.0</td>\n",
              "      <td>8.794047</td>\n",
              "      <td>10.0</td>\n",
              "      <td>7.908328</td>\n",
              "      <td>7.0</td>\n",
              "      <td>0.007114</td>\n",
              "      <td>0.0</td>\n",
              "      <td>0.301032</td>\n",
              "      <td>0.0140</td>\n",
              "    </tr>\n",
              "    <tr>\n",
              "      <th>VA</th>\n",
              "      <td>14475</td>\n",
              "      <td>45.743143</td>\n",
              "      <td>47.00</td>\n",
              "      <td>43.811737</td>\n",
              "      <td>44.0</td>\n",
              "      <td>74.512124</td>\n",
              "      <td>80.0</td>\n",
              "      <td>8.848341</td>\n",
              "      <td>10.0</td>\n",
              "      <td>6.011551</td>\n",
              "      <td>6.0</td>\n",
              "      <td>0.006849</td>\n",
              "      <td>0.0</td>\n",
              "      <td>0.821904</td>\n",
              "      <td>0.1950</td>\n",
              "    </tr>\n",
              "    <tr>\n",
              "      <th>SC</th>\n",
              "      <td>14039</td>\n",
              "      <td>47.269022</td>\n",
              "      <td>48.00</td>\n",
              "      <td>45.889636</td>\n",
              "      <td>46.0</td>\n",
              "      <td>75.074720</td>\n",
              "      <td>81.0</td>\n",
              "      <td>8.816560</td>\n",
              "      <td>10.0</td>\n",
              "      <td>4.839875</td>\n",
              "      <td>5.0</td>\n",
              "      <td>0.005745</td>\n",
              "      <td>0.0</td>\n",
              "      <td>0.202231</td>\n",
              "      <td>0.0000</td>\n",
              "    </tr>\n",
              "    <tr>\n",
              "      <th>NC</th>\n",
              "      <td>13846</td>\n",
              "      <td>46.992409</td>\n",
              "      <td>48.00</td>\n",
              "      <td>45.430702</td>\n",
              "      <td>46.0</td>\n",
              "      <td>74.526506</td>\n",
              "      <td>80.0</td>\n",
              "      <td>8.460566</td>\n",
              "      <td>10.0</td>\n",
              "      <td>5.431273</td>\n",
              "      <td>5.0</td>\n",
              "      <td>0.008556</td>\n",
              "      <td>0.0</td>\n",
              "      <td>0.312496</td>\n",
              "      <td>0.0000</td>\n",
              "    </tr>\n",
              "    <tr>\n",
              "      <th>MI</th>\n",
              "      <td>11196</td>\n",
              "      <td>36.743650</td>\n",
              "      <td>36.00</td>\n",
              "      <td>30.589398</td>\n",
              "      <td>30.0</td>\n",
              "      <td>76.886924</td>\n",
              "      <td>80.0</td>\n",
              "      <td>7.356103</td>\n",
              "      <td>10.0</td>\n",
              "      <td>9.944998</td>\n",
              "      <td>9.0</td>\n",
              "      <td>0.007562</td>\n",
              "      <td>0.0</td>\n",
              "      <td>0.395381</td>\n",
              "      <td>0.0100</td>\n",
              "    </tr>\n",
              "    <tr>\n",
              "      <th>IL</th>\n",
              "      <td>10830</td>\n",
              "      <td>38.342355</td>\n",
              "      <td>38.00</td>\n",
              "      <td>32.813638</td>\n",
              "      <td>32.8</td>\n",
              "      <td>74.728809</td>\n",
              "      <td>78.0</td>\n",
              "      <td>7.611828</td>\n",
              "      <td>10.0</td>\n",
              "      <td>9.805143</td>\n",
              "      <td>9.0</td>\n",
              "      <td>0.007803</td>\n",
              "      <td>0.0</td>\n",
              "      <td>0.296799</td>\n",
              "      <td>0.0000</td>\n",
              "    </tr>\n",
              "    <tr>\n",
              "      <th>FL</th>\n",
              "      <td>9437</td>\n",
              "      <td>51.660888</td>\n",
              "      <td>53.00</td>\n",
              "      <td>50.789446</td>\n",
              "      <td>53.0</td>\n",
              "      <td>76.650207</td>\n",
              "      <td>80.0</td>\n",
              "      <td>9.470602</td>\n",
              "      <td>10.0</td>\n",
              "      <td>6.108636</td>\n",
              "      <td>6.0</td>\n",
              "      <td>0.001124</td>\n",
              "      <td>0.0</td>\n",
              "      <td>0.545678</td>\n",
              "      <td>0.0600</td>\n",
              "    </tr>\n",
              "    <tr>\n",
              "      <th>UT</th>\n",
              "      <td>9403</td>\n",
              "      <td>39.685664</td>\n",
              "      <td>39.00</td>\n",
              "      <td>35.927396</td>\n",
              "      <td>35.0</td>\n",
              "      <td>65.715091</td>\n",
              "      <td>68.0</td>\n",
              "      <td>8.701433</td>\n",
              "      <td>10.0</td>\n",
              "      <td>7.426694</td>\n",
              "      <td>7.0</td>\n",
              "      <td>0.005657</td>\n",
              "      <td>0.0</td>\n",
              "      <td>0.427846</td>\n",
              "      <td>0.0000</td>\n",
              "    </tr>\n",
              "    <tr>\n",
              "      <th>NJ</th>\n",
              "      <td>7876</td>\n",
              "      <td>43.975241</td>\n",
              "      <td>44.10</td>\n",
              "      <td>40.676041</td>\n",
              "      <td>41.0</td>\n",
              "      <td>71.907567</td>\n",
              "      <td>76.0</td>\n",
              "      <td>7.988248</td>\n",
              "      <td>10.0</td>\n",
              "      <td>7.928479</td>\n",
              "      <td>7.0</td>\n",
              "      <td>0.017067</td>\n",
              "      <td>0.0</td>\n",
              "      <td>0.519619</td>\n",
              "      <td>0.0370</td>\n",
              "    </tr>\n",
              "    <tr>\n",
              "      <th>MD</th>\n",
              "      <td>7570</td>\n",
              "      <td>44.955680</td>\n",
              "      <td>46.00</td>\n",
              "      <td>42.947213</td>\n",
              "      <td>44.0</td>\n",
              "      <td>72.771598</td>\n",
              "      <td>77.0</td>\n",
              "      <td>8.786823</td>\n",
              "      <td>10.0</td>\n",
              "      <td>5.779392</td>\n",
              "      <td>5.0</td>\n",
              "      <td>0.004822</td>\n",
              "      <td>0.0</td>\n",
              "      <td>0.614876</td>\n",
              "      <td>0.2180</td>\n",
              "    </tr>\n",
              "    <tr>\n",
              "      <th>WA</th>\n",
              "      <td>7472</td>\n",
              "      <td>46.934422</td>\n",
              "      <td>47.00</td>\n",
              "      <td>44.832963</td>\n",
              "      <td>44.0</td>\n",
              "      <td>82.023555</td>\n",
              "      <td>86.0</td>\n",
              "      <td>8.460254</td>\n",
              "      <td>10.0</td>\n",
              "      <td>6.593630</td>\n",
              "      <td>6.0</td>\n",
              "      <td>0.008893</td>\n",
              "      <td>0.0</td>\n",
              "      <td>0.423409</td>\n",
              "      <td>0.0000</td>\n",
              "    </tr>\n",
              "    <tr>\n",
              "      <th>TN</th>\n",
              "      <td>7462</td>\n",
              "      <td>45.935647</td>\n",
              "      <td>47.00</td>\n",
              "      <td>43.902117</td>\n",
              "      <td>45.0</td>\n",
              "      <td>72.194318</td>\n",
              "      <td>76.0</td>\n",
              "      <td>8.619948</td>\n",
              "      <td>10.0</td>\n",
              "      <td>6.151126</td>\n",
              "      <td>6.0</td>\n",
              "      <td>0.007582</td>\n",
              "      <td>0.0</td>\n",
              "      <td>0.378235</td>\n",
              "      <td>0.0080</td>\n",
              "    </tr>\n",
              "    <tr>\n",
              "      <th>OH</th>\n",
              "      <td>6599</td>\n",
              "      <td>41.195833</td>\n",
              "      <td>42.00</td>\n",
              "      <td>36.561403</td>\n",
              "      <td>37.0</td>\n",
              "      <td>75.825731</td>\n",
              "      <td>80.0</td>\n",
              "      <td>7.923382</td>\n",
              "      <td>10.0</td>\n",
              "      <td>9.541431</td>\n",
              "      <td>9.0</td>\n",
              "      <td>0.007878</td>\n",
              "      <td>0.0</td>\n",
              "      <td>0.405487</td>\n",
              "      <td>0.0000</td>\n",
              "    </tr>\n",
              "    <tr>\n",
              "      <th>CO</th>\n",
              "      <td>6220</td>\n",
              "      <td>36.874630</td>\n",
              "      <td>37.00</td>\n",
              "      <td>32.165386</td>\n",
              "      <td>32.0</td>\n",
              "      <td>63.972830</td>\n",
              "      <td>67.0</td>\n",
              "      <td>9.377503</td>\n",
              "      <td>10.0</td>\n",
              "      <td>7.970450</td>\n",
              "      <td>7.0</td>\n",
              "      <td>0.002080</td>\n",
              "      <td>0.0</td>\n",
              "      <td>0.631231</td>\n",
              "      <td>0.0000</td>\n",
              "    </tr>\n",
              "    <tr>\n",
              "      <th>GA</th>\n",
              "      <td>5367</td>\n",
              "      <td>47.763928</td>\n",
              "      <td>49.00</td>\n",
              "      <td>45.848556</td>\n",
              "      <td>48.0</td>\n",
              "      <td>75.735420</td>\n",
              "      <td>81.0</td>\n",
              "      <td>8.460958</td>\n",
              "      <td>10.0</td>\n",
              "      <td>6.219135</td>\n",
              "      <td>6.0</td>\n",
              "      <td>0.011977</td>\n",
              "      <td>0.0</td>\n",
              "      <td>0.627597</td>\n",
              "      <td>0.1320</td>\n",
              "    </tr>\n",
              "    <tr>\n",
              "      <th>LA</th>\n",
              "      <td>4712</td>\n",
              "      <td>49.613582</td>\n",
              "      <td>51.00</td>\n",
              "      <td>48.416426</td>\n",
              "      <td>51.0</td>\n",
              "      <td>77.959465</td>\n",
              "      <td>83.0</td>\n",
              "      <td>9.127039</td>\n",
              "      <td>10.0</td>\n",
              "      <td>6.050191</td>\n",
              "      <td>6.0</td>\n",
              "      <td>0.004745</td>\n",
              "      <td>0.0</td>\n",
              "      <td>0.333824</td>\n",
              "      <td>0.0630</td>\n",
              "    </tr>\n",
              "    <tr>\n",
              "      <th>CT</th>\n",
              "      <td>4458</td>\n",
              "      <td>42.682077</td>\n",
              "      <td>43.00</td>\n",
              "      <td>39.415433</td>\n",
              "      <td>39.0</td>\n",
              "      <td>72.175415</td>\n",
              "      <td>76.0</td>\n",
              "      <td>8.210895</td>\n",
              "      <td>10.0</td>\n",
              "      <td>7.515904</td>\n",
              "      <td>7.0</td>\n",
              "      <td>0.008905</td>\n",
              "      <td>0.0</td>\n",
              "      <td>0.905823</td>\n",
              "      <td>0.5270</td>\n",
              "    </tr>\n",
              "    <tr>\n",
              "      <th>AZ</th>\n",
              "      <td>4099</td>\n",
              "      <td>49.949695</td>\n",
              "      <td>51.00</td>\n",
              "      <td>48.751744</td>\n",
              "      <td>51.0</td>\n",
              "      <td>48.346670</td>\n",
              "      <td>44.0</td>\n",
              "      <td>9.787119</td>\n",
              "      <td>10.0</td>\n",
              "      <td>5.712296</td>\n",
              "      <td>6.0</td>\n",
              "      <td>0.002491</td>\n",
              "      <td>0.0</td>\n",
              "      <td>0.450073</td>\n",
              "      <td>0.0240</td>\n",
              "    </tr>\n",
              "    <tr>\n",
              "      <th>MA</th>\n",
              "      <td>4090</td>\n",
              "      <td>42.164792</td>\n",
              "      <td>42.05</td>\n",
              "      <td>38.033081</td>\n",
              "      <td>37.0</td>\n",
              "      <td>71.091687</td>\n",
              "      <td>77.0</td>\n",
              "      <td>7.718682</td>\n",
              "      <td>10.0</td>\n",
              "      <td>9.416748</td>\n",
              "      <td>9.0</td>\n",
              "      <td>0.009790</td>\n",
              "      <td>0.0</td>\n",
              "      <td>0.272217</td>\n",
              "      <td>0.0000</td>\n",
              "    </tr>\n",
              "    <tr>\n",
              "      <th>MO</th>\n",
              "      <td>4058</td>\n",
              "      <td>41.616092</td>\n",
              "      <td>42.00</td>\n",
              "      <td>37.601035</td>\n",
              "      <td>38.0</td>\n",
              "      <td>74.631592</td>\n",
              "      <td>79.0</td>\n",
              "      <td>8.256819</td>\n",
              "      <td>10.0</td>\n",
              "      <td>8.457713</td>\n",
              "      <td>8.0</td>\n",
              "      <td>0.008980</td>\n",
              "      <td>0.0</td>\n",
              "      <td>0.407196</td>\n",
              "      <td>0.0515</td>\n",
              "    </tr>\n",
              "    <tr>\n",
              "      <th>AL</th>\n",
              "      <td>3771</td>\n",
              "      <td>47.879979</td>\n",
              "      <td>50.00</td>\n",
              "      <td>46.532087</td>\n",
              "      <td>49.0</td>\n",
              "      <td>74.971891</td>\n",
              "      <td>80.0</td>\n",
              "      <td>8.841024</td>\n",
              "      <td>10.0</td>\n",
              "      <td>5.387298</td>\n",
              "      <td>5.0</td>\n",
              "      <td>0.007003</td>\n",
              "      <td>0.0</td>\n",
              "      <td>0.474256</td>\n",
              "      <td>0.0000</td>\n",
              "    </tr>\n",
              "    <tr>\n",
              "      <th>IN</th>\n",
              "      <td>2876</td>\n",
              "      <td>40.159388</td>\n",
              "      <td>41.00</td>\n",
              "      <td>35.468150</td>\n",
              "      <td>36.0</td>\n",
              "      <td>76.871349</td>\n",
              "      <td>81.0</td>\n",
              "      <td>8.214294</td>\n",
              "      <td>10.0</td>\n",
              "      <td>8.855146</td>\n",
              "      <td>8.0</td>\n",
              "      <td>0.005042</td>\n",
              "      <td>0.0</td>\n",
              "      <td>1.016852</td>\n",
              "      <td>0.2105</td>\n",
              "    </tr>\n",
              "    <tr>\n",
              "      <th>OK</th>\n",
              "      <td>2842</td>\n",
              "      <td>44.826812</td>\n",
              "      <td>45.00</td>\n",
              "      <td>40.914884</td>\n",
              "      <td>41.0</td>\n",
              "      <td>71.865939</td>\n",
              "      <td>76.0</td>\n",
              "      <td>8.477234</td>\n",
              "      <td>10.0</td>\n",
              "      <td>10.537016</td>\n",
              "      <td>9.2</td>\n",
              "      <td>0.008325</td>\n",
              "      <td>0.0</td>\n",
              "      <td>0.072831</td>\n",
              "      <td>0.0000</td>\n",
              "    </tr>\n",
              "    <tr>\n",
              "      <th>WI</th>\n",
              "      <td>2087</td>\n",
              "      <td>36.326545</td>\n",
              "      <td>36.00</td>\n",
              "      <td>30.412746</td>\n",
              "      <td>30.0</td>\n",
              "      <td>76.504073</td>\n",
              "      <td>80.0</td>\n",
              "      <td>7.400767</td>\n",
              "      <td>10.0</td>\n",
              "      <td>9.591040</td>\n",
              "      <td>9.0</td>\n",
              "      <td>0.007259</td>\n",
              "      <td>0.0</td>\n",
              "      <td>0.519654</td>\n",
              "      <td>0.0000</td>\n",
              "    </tr>\n",
              "    <tr>\n",
              "      <th>KY</th>\n",
              "      <td>1948</td>\n",
              "      <td>43.560729</td>\n",
              "      <td>45.00</td>\n",
              "      <td>40.157546</td>\n",
              "      <td>41.0</td>\n",
              "      <td>74.414271</td>\n",
              "      <td>79.0</td>\n",
              "      <td>7.979440</td>\n",
              "      <td>10.0</td>\n",
              "      <td>7.886242</td>\n",
              "      <td>7.0</td>\n",
              "      <td>0.009902</td>\n",
              "      <td>0.0</td>\n",
              "      <td>0.471646</td>\n",
              "      <td>0.0000</td>\n",
              "    </tr>\n",
              "    <tr>\n",
              "      <th>IA</th>\n",
              "      <td>1946</td>\n",
              "      <td>33.658993</td>\n",
              "      <td>32.00</td>\n",
              "      <td>26.648715</td>\n",
              "      <td>25.0</td>\n",
              "      <td>79.444502</td>\n",
              "      <td>83.0</td>\n",
              "      <td>7.871583</td>\n",
              "      <td>10.0</td>\n",
              "      <td>10.736639</td>\n",
              "      <td>9.2</td>\n",
              "      <td>0.004193</td>\n",
              "      <td>0.0</td>\n",
              "      <td>2.078183</td>\n",
              "      <td>0.9200</td>\n",
              "    </tr>\n",
              "    <tr>\n",
              "      <th>MT</th>\n",
              "      <td>1487</td>\n",
              "      <td>27.889980</td>\n",
              "      <td>27.00</td>\n",
              "      <td>22.731944</td>\n",
              "      <td>23.0</td>\n",
              "      <td>74.966375</td>\n",
              "      <td>79.0</td>\n",
              "      <td>8.226126</td>\n",
              "      <td>10.0</td>\n",
              "      <td>7.005380</td>\n",
              "      <td>6.0</td>\n",
              "      <td>0.001829</td>\n",
              "      <td>0.0</td>\n",
              "      <td>1.103306</td>\n",
              "      <td>0.2570</td>\n",
              "    </tr>\n",
              "    <tr>\n",
              "      <th>NE</th>\n",
              "      <td>1282</td>\n",
              "      <td>35.988924</td>\n",
              "      <td>35.00</td>\n",
              "      <td>30.275897</td>\n",
              "      <td>30.0</td>\n",
              "      <td>74.307332</td>\n",
              "      <td>78.0</td>\n",
              "      <td>8.318580</td>\n",
              "      <td>10.0</td>\n",
              "      <td>9.365289</td>\n",
              "      <td>8.0</td>\n",
              "      <td>0.005055</td>\n",
              "      <td>0.0</td>\n",
              "      <td>0.614301</td>\n",
              "      <td>0.0000</td>\n",
              "    </tr>\n",
              "    <tr>\n",
              "      <th>AR</th>\n",
              "      <td>1236</td>\n",
              "      <td>46.266586</td>\n",
              "      <td>47.00</td>\n",
              "      <td>44.302346</td>\n",
              "      <td>44.0</td>\n",
              "      <td>80.079288</td>\n",
              "      <td>85.0</td>\n",
              "      <td>8.793244</td>\n",
              "      <td>10.0</td>\n",
              "      <td>6.131877</td>\n",
              "      <td>6.0</td>\n",
              "      <td>0.009126</td>\n",
              "      <td>0.0</td>\n",
              "      <td>1.254786</td>\n",
              "      <td>0.3850</td>\n",
              "    </tr>\n",
              "    <tr>\n",
              "      <th>ID</th>\n",
              "      <td>1154</td>\n",
              "      <td>36.859532</td>\n",
              "      <td>37.00</td>\n",
              "      <td>32.629636</td>\n",
              "      <td>33.0</td>\n",
              "      <td>72.871750</td>\n",
              "      <td>76.0</td>\n",
              "      <td>8.755329</td>\n",
              "      <td>10.0</td>\n",
              "      <td>7.002080</td>\n",
              "      <td>6.0</td>\n",
              "      <td>0.003475</td>\n",
              "      <td>0.0</td>\n",
              "      <td>1.635831</td>\n",
              "      <td>0.5030</td>\n",
              "    </tr>\n",
              "    <tr>\n",
              "      <th>KS</th>\n",
              "      <td>1070</td>\n",
              "      <td>40.167477</td>\n",
              "      <td>41.00</td>\n",
              "      <td>35.829252</td>\n",
              "      <td>36.0</td>\n",
              "      <td>73.623364</td>\n",
              "      <td>76.0</td>\n",
              "      <td>8.271075</td>\n",
              "      <td>10.0</td>\n",
              "      <td>8.752150</td>\n",
              "      <td>8.0</td>\n",
              "      <td>0.006065</td>\n",
              "      <td>0.0</td>\n",
              "      <td>0.876925</td>\n",
              "      <td>0.2930</td>\n",
              "    </tr>\n",
              "    <tr>\n",
              "      <th>NH</th>\n",
              "      <td>1043</td>\n",
              "      <td>35.350144</td>\n",
              "      <td>33.10</td>\n",
              "      <td>30.361170</td>\n",
              "      <td>28.0</td>\n",
              "      <td>77.049856</td>\n",
              "      <td>85.0</td>\n",
              "      <td>6.361716</td>\n",
              "      <td>9.0</td>\n",
              "      <td>7.307191</td>\n",
              "      <td>6.9</td>\n",
              "      <td>0.013049</td>\n",
              "      <td>0.0</td>\n",
              "      <td>0.496819</td>\n",
              "      <td>0.0000</td>\n",
              "    </tr>\n",
              "    <tr>\n",
              "      <th>RI</th>\n",
              "      <td>1025</td>\n",
              "      <td>42.024585</td>\n",
              "      <td>43.00</td>\n",
              "      <td>37.349854</td>\n",
              "      <td>37.0</td>\n",
              "      <td>76.424390</td>\n",
              "      <td>84.0</td>\n",
              "      <td>7.589268</td>\n",
              "      <td>10.0</td>\n",
              "      <td>10.410049</td>\n",
              "      <td>9.0</td>\n",
              "      <td>0.018644</td>\n",
              "      <td>0.0</td>\n",
              "      <td>0.323162</td>\n",
              "      <td>0.0000</td>\n",
              "    </tr>\n",
              "    <tr>\n",
              "      <th>DC</th>\n",
              "      <td>1010</td>\n",
              "      <td>47.598020</td>\n",
              "      <td>49.00</td>\n",
              "      <td>45.181980</td>\n",
              "      <td>47.0</td>\n",
              "      <td>68.150495</td>\n",
              "      <td>71.0</td>\n",
              "      <td>9.387010</td>\n",
              "      <td>10.0</td>\n",
              "      <td>8.037030</td>\n",
              "      <td>8.0</td>\n",
              "      <td>0.003634</td>\n",
              "      <td>0.0</td>\n",
              "      <td>0.282999</td>\n",
              "      <td>0.0970</td>\n",
              "    </tr>\n",
              "    <tr>\n",
              "      <th>NV</th>\n",
              "      <td>979</td>\n",
              "      <td>40.805720</td>\n",
              "      <td>41.00</td>\n",
              "      <td>38.162104</td>\n",
              "      <td>38.0</td>\n",
              "      <td>57.275792</td>\n",
              "      <td>57.0</td>\n",
              "      <td>9.244893</td>\n",
              "      <td>10.0</td>\n",
              "      <td>5.760674</td>\n",
              "      <td>5.0</td>\n",
              "      <td>0.003023</td>\n",
              "      <td>0.0</td>\n",
              "      <td>0.805821</td>\n",
              "      <td>0.0000</td>\n",
              "    </tr>\n",
              "    <tr>\n",
              "      <th>DE</th>\n",
              "      <td>798</td>\n",
              "      <td>46.250501</td>\n",
              "      <td>48.00</td>\n",
              "      <td>43.446742</td>\n",
              "      <td>44.0</td>\n",
              "      <td>69.710526</td>\n",
              "      <td>71.0</td>\n",
              "      <td>8.672807</td>\n",
              "      <td>10.0</td>\n",
              "      <td>9.307393</td>\n",
              "      <td>9.0</td>\n",
              "      <td>0.005952</td>\n",
              "      <td>0.0</td>\n",
              "      <td>0.491429</td>\n",
              "      <td>0.0000</td>\n",
              "    </tr>\n",
              "    <tr>\n",
              "      <th>WV</th>\n",
              "      <td>720</td>\n",
              "      <td>39.744722</td>\n",
              "      <td>40.00</td>\n",
              "      <td>36.543750</td>\n",
              "      <td>38.0</td>\n",
              "      <td>77.704167</td>\n",
              "      <td>83.0</td>\n",
              "      <td>8.064931</td>\n",
              "      <td>10.0</td>\n",
              "      <td>5.694306</td>\n",
              "      <td>5.8</td>\n",
              "      <td>0.006972</td>\n",
              "      <td>0.0</td>\n",
              "      <td>1.062950</td>\n",
              "      <td>0.4520</td>\n",
              "    </tr>\n",
              "    <tr>\n",
              "      <th>NM</th>\n",
              "      <td>526</td>\n",
              "      <td>38.891445</td>\n",
              "      <td>39.00</td>\n",
              "      <td>35.291065</td>\n",
              "      <td>35.0</td>\n",
              "      <td>55.473384</td>\n",
              "      <td>54.0</td>\n",
              "      <td>9.321578</td>\n",
              "      <td>10.0</td>\n",
              "      <td>7.754373</td>\n",
              "      <td>6.0</td>\n",
              "      <td>0.001996</td>\n",
              "      <td>0.0</td>\n",
              "      <td>1.814304</td>\n",
              "      <td>0.1390</td>\n",
              "    </tr>\n",
              "    <tr>\n",
              "      <th>MS</th>\n",
              "      <td>506</td>\n",
              "      <td>46.619565</td>\n",
              "      <td>48.00</td>\n",
              "      <td>45.164427</td>\n",
              "      <td>46.0</td>\n",
              "      <td>78.664032</td>\n",
              "      <td>85.0</td>\n",
              "      <td>8.557312</td>\n",
              "      <td>10.0</td>\n",
              "      <td>5.011462</td>\n",
              "      <td>5.0</td>\n",
              "      <td>0.006502</td>\n",
              "      <td>0.0</td>\n",
              "      <td>0.681613</td>\n",
              "      <td>0.2550</td>\n",
              "    </tr>\n",
              "    <tr>\n",
              "      <th>ME</th>\n",
              "      <td>391</td>\n",
              "      <td>35.507928</td>\n",
              "      <td>33.80</td>\n",
              "      <td>30.356777</td>\n",
              "      <td>27.5</td>\n",
              "      <td>77.038363</td>\n",
              "      <td>84.0</td>\n",
              "      <td>6.928772</td>\n",
              "      <td>10.0</td>\n",
              "      <td>7.702558</td>\n",
              "      <td>7.0</td>\n",
              "      <td>0.014450</td>\n",
              "      <td>0.0</td>\n",
              "      <td>0.703008</td>\n",
              "      <td>0.1630</td>\n",
              "    </tr>\n",
              "    <tr>\n",
              "      <th>ND</th>\n",
              "      <td>216</td>\n",
              "      <td>25.222222</td>\n",
              "      <td>23.50</td>\n",
              "      <td>15.570370</td>\n",
              "      <td>15.5</td>\n",
              "      <td>80.939815</td>\n",
              "      <td>84.0</td>\n",
              "      <td>7.964815</td>\n",
              "      <td>10.0</td>\n",
              "      <td>11.563889</td>\n",
              "      <td>12.0</td>\n",
              "      <td>0.000787</td>\n",
              "      <td>0.0</td>\n",
              "      <td>1.927116</td>\n",
              "      <td>1.0035</td>\n",
              "    </tr>\n",
              "    <tr>\n",
              "      <th>VT</th>\n",
              "      <td>127</td>\n",
              "      <td>34.162205</td>\n",
              "      <td>33.00</td>\n",
              "      <td>29.653543</td>\n",
              "      <td>29.0</td>\n",
              "      <td>75.377953</td>\n",
              "      <td>81.0</td>\n",
              "      <td>7.321260</td>\n",
              "      <td>10.0</td>\n",
              "      <td>6.352756</td>\n",
              "      <td>5.8</td>\n",
              "      <td>0.004567</td>\n",
              "      <td>0.0</td>\n",
              "      <td>1.862654</td>\n",
              "      <td>0.3100</td>\n",
              "    </tr>\n",
              "    <tr>\n",
              "      <th>WY</th>\n",
              "      <td>75</td>\n",
              "      <td>31.321333</td>\n",
              "      <td>28.90</td>\n",
              "      <td>22.758667</td>\n",
              "      <td>19.1</td>\n",
              "      <td>73.600000</td>\n",
              "      <td>80.0</td>\n",
              "      <td>7.564667</td>\n",
              "      <td>10.0</td>\n",
              "      <td>13.445333</td>\n",
              "      <td>12.0</td>\n",
              "      <td>0.002933</td>\n",
              "      <td>0.0</td>\n",
              "      <td>9.773080</td>\n",
              "      <td>2.1150</td>\n",
              "    </tr>\n",
              "    <tr>\n",
              "      <th>SD</th>\n",
              "      <td>47</td>\n",
              "      <td>43.997872</td>\n",
              "      <td>50.00</td>\n",
              "      <td>40.500000</td>\n",
              "      <td>50.0</td>\n",
              "      <td>70.978723</td>\n",
              "      <td>71.0</td>\n",
              "      <td>8.697872</td>\n",
              "      <td>10.0</td>\n",
              "      <td>9.872340</td>\n",
              "      <td>7.0</td>\n",
              "      <td>0.001489</td>\n",
              "      <td>0.0</td>\n",
              "      <td>0.650021</td>\n",
              "      <td>0.1260</td>\n",
              "    </tr>\n",
              "  </tbody>\n",
              "</table>\n",
              "</div>"
            ],
            "text/plain": [
              "       num_accidents  avg_Temperature(F)  ...  avg_Distance(mi)  median_Distance(mi)\n",
              "State                                     ...                                       \n",
              "CA             94248           51.333631  ...          0.233457               0.0000\n",
              "OR             25549           44.715042  ...          0.725200               0.0730\n",
              "MN             24595           27.396930  ...          0.566670               0.0000\n",
              "NY             23072           41.452115  ...          0.593192               0.0100\n",
              "PA             18032           42.046279  ...          0.898560               0.0940\n",
              "TX             14517           48.345223  ...          0.301032               0.0140\n",
              "VA             14475           45.743143  ...          0.821904               0.1950\n",
              "SC             14039           47.269022  ...          0.202231               0.0000\n",
              "NC             13846           46.992409  ...          0.312496               0.0000\n",
              "MI             11196           36.743650  ...          0.395381               0.0100\n",
              "IL             10830           38.342355  ...          0.296799               0.0000\n",
              "FL              9437           51.660888  ...          0.545678               0.0600\n",
              "UT              9403           39.685664  ...          0.427846               0.0000\n",
              "NJ              7876           43.975241  ...          0.519619               0.0370\n",
              "MD              7570           44.955680  ...          0.614876               0.2180\n",
              "WA              7472           46.934422  ...          0.423409               0.0000\n",
              "TN              7462           45.935647  ...          0.378235               0.0080\n",
              "OH              6599           41.195833  ...          0.405487               0.0000\n",
              "CO              6220           36.874630  ...          0.631231               0.0000\n",
              "GA              5367           47.763928  ...          0.627597               0.1320\n",
              "LA              4712           49.613582  ...          0.333824               0.0630\n",
              "CT              4458           42.682077  ...          0.905823               0.5270\n",
              "AZ              4099           49.949695  ...          0.450073               0.0240\n",
              "MA              4090           42.164792  ...          0.272217               0.0000\n",
              "MO              4058           41.616092  ...          0.407196               0.0515\n",
              "AL              3771           47.879979  ...          0.474256               0.0000\n",
              "IN              2876           40.159388  ...          1.016852               0.2105\n",
              "OK              2842           44.826812  ...          0.072831               0.0000\n",
              "WI              2087           36.326545  ...          0.519654               0.0000\n",
              "KY              1948           43.560729  ...          0.471646               0.0000\n",
              "IA              1946           33.658993  ...          2.078183               0.9200\n",
              "MT              1487           27.889980  ...          1.103306               0.2570\n",
              "NE              1282           35.988924  ...          0.614301               0.0000\n",
              "AR              1236           46.266586  ...          1.254786               0.3850\n",
              "ID              1154           36.859532  ...          1.635831               0.5030\n",
              "KS              1070           40.167477  ...          0.876925               0.2930\n",
              "NH              1043           35.350144  ...          0.496819               0.0000\n",
              "RI              1025           42.024585  ...          0.323162               0.0000\n",
              "DC              1010           47.598020  ...          0.282999               0.0970\n",
              "NV               979           40.805720  ...          0.805821               0.0000\n",
              "DE               798           46.250501  ...          0.491429               0.0000\n",
              "WV               720           39.744722  ...          1.062950               0.4520\n",
              "NM               526           38.891445  ...          1.814304               0.1390\n",
              "MS               506           46.619565  ...          0.681613               0.2550\n",
              "ME               391           35.507928  ...          0.703008               0.1630\n",
              "ND               216           25.222222  ...          1.927116               1.0035\n",
              "VT               127           34.162205  ...          1.862654               0.3100\n",
              "WY                75           31.321333  ...          9.773080               2.1150\n",
              "SD                47           43.997872  ...          0.650021               0.1260\n",
              "\n",
              "[49 rows x 15 columns]"
            ]
          },
          "metadata": {},
          "execution_count": 85
        }
      ]
    },
    {
      "cell_type": "markdown",
      "metadata": {
        "id": "4JT8ICL7pTlZ"
      },
      "source": [
        "We can see the top 10 states generally have the same average and median temperature, with the exception of Minnesota which has the lowest temperature."
      ]
    },
    {
      "cell_type": "markdown",
      "metadata": {
        "id": "jASptSyv_ii-"
      },
      "source": [
        "Let's also look at the most popular times of the day when accidents happen in each state and for how long an accident typically lasted. "
      ]
    },
    {
      "cell_type": "code",
      "metadata": {
        "id": "nYYxOrgyJRtm"
      },
      "source": [
        "time_df = pd.DataFrame(\n",
        "    {   'ID': weather_df.ID,\n",
        "        'State': weather_df.State,\n",
        "        'start_hour': weather_df.Start_Time.astype(str).str[11:13],\n",
        "        'end_hour': weather_df.End_Time.astype(str).str[11:13],\n",
        "        'duration': weather_df.End_Time.astype(str).str[11:13].astype(float) - weather_df.Start_Time.astype(str).str[11:13].astype(float)\n",
        "     })\n",
        "time_df['duration'] = time_df['duration'].mask(time_df['duration'] < 0, 24 + time_df['duration'])"
      ],
      "execution_count": null,
      "outputs": []
    },
    {
      "cell_type": "code",
      "metadata": {
        "colab": {
          "base_uri": "https://localhost:8080/",
          "height": 422
        },
        "id": "MehiT9QUJBD-",
        "outputId": "79a4feed-e4a3-4389-ff5f-ad235ebc2ab9"
      },
      "source": [
        "time_df.sort_values(by='duration', ascending=False)"
      ],
      "execution_count": null,
      "outputs": [
        {
          "output_type": "execute_result",
          "data": {
            "text/html": [
              "<div>\n",
              "<style scoped>\n",
              "    .dataframe tbody tr th:only-of-type {\n",
              "        vertical-align: middle;\n",
              "    }\n",
              "\n",
              "    .dataframe tbody tr th {\n",
              "        vertical-align: top;\n",
              "    }\n",
              "\n",
              "    .dataframe thead th {\n",
              "        text-align: right;\n",
              "    }\n",
              "</style>\n",
              "<table border=\"1\" class=\"dataframe\">\n",
              "  <thead>\n",
              "    <tr style=\"text-align: right;\">\n",
              "      <th></th>\n",
              "      <th>ID</th>\n",
              "      <th>State</th>\n",
              "      <th>start_hour</th>\n",
              "      <th>end_hour</th>\n",
              "      <th>duration</th>\n",
              "    </tr>\n",
              "  </thead>\n",
              "  <tbody>\n",
              "    <tr>\n",
              "      <th>267695</th>\n",
              "      <td>A-1090457</td>\n",
              "      <td>WV</td>\n",
              "      <td>04</td>\n",
              "      <td>03</td>\n",
              "      <td>23.0</td>\n",
              "    </tr>\n",
              "    <tr>\n",
              "      <th>347406</th>\n",
              "      <td>A-1415747</td>\n",
              "      <td>NY</td>\n",
              "      <td>10</td>\n",
              "      <td>09</td>\n",
              "      <td>23.0</td>\n",
              "    </tr>\n",
              "    <tr>\n",
              "      <th>168800</th>\n",
              "      <td>A-687410</td>\n",
              "      <td>OR</td>\n",
              "      <td>09</td>\n",
              "      <td>08</td>\n",
              "      <td>23.0</td>\n",
              "    </tr>\n",
              "    <tr>\n",
              "      <th>12920</th>\n",
              "      <td>A-52985</td>\n",
              "      <td>PA</td>\n",
              "      <td>13</td>\n",
              "      <td>12</td>\n",
              "      <td>23.0</td>\n",
              "    </tr>\n",
              "    <tr>\n",
              "      <th>38977</th>\n",
              "      <td>A-157938</td>\n",
              "      <td>WA</td>\n",
              "      <td>01</td>\n",
              "      <td>00</td>\n",
              "      <td>23.0</td>\n",
              "    </tr>\n",
              "    <tr>\n",
              "      <th>...</th>\n",
              "      <td>...</td>\n",
              "      <td>...</td>\n",
              "      <td>...</td>\n",
              "      <td>...</td>\n",
              "      <td>...</td>\n",
              "    </tr>\n",
              "    <tr>\n",
              "      <th>119704</th>\n",
              "      <td>A-487014</td>\n",
              "      <td>CA</td>\n",
              "      <td>10</td>\n",
              "      <td>10</td>\n",
              "      <td>0.0</td>\n",
              "    </tr>\n",
              "    <tr>\n",
              "      <th>310730</th>\n",
              "      <td>A-1266500</td>\n",
              "      <td>NJ</td>\n",
              "      <td>21</td>\n",
              "      <td>21</td>\n",
              "      <td>0.0</td>\n",
              "    </tr>\n",
              "    <tr>\n",
              "      <th>310731</th>\n",
              "      <td>A-1266502</td>\n",
              "      <td>CA</td>\n",
              "      <td>10</td>\n",
              "      <td>10</td>\n",
              "      <td>0.0</td>\n",
              "    </tr>\n",
              "    <tr>\n",
              "      <th>119697</th>\n",
              "      <td>A-486986</td>\n",
              "      <td>OH</td>\n",
              "      <td>16</td>\n",
              "      <td>16</td>\n",
              "      <td>0.0</td>\n",
              "    </tr>\n",
              "    <tr>\n",
              "      <th>119643</th>\n",
              "      <td>A-486755</td>\n",
              "      <td>WA</td>\n",
              "      <td>08</td>\n",
              "      <td>08</td>\n",
              "      <td>0.0</td>\n",
              "    </tr>\n",
              "  </tbody>\n",
              "</table>\n",
              "<p>382385 rows × 5 columns</p>\n",
              "</div>"
            ],
            "text/plain": [
              "               ID State start_hour end_hour  duration\n",
              "267695  A-1090457    WV         04       03      23.0\n",
              "347406  A-1415747    NY         10       09      23.0\n",
              "168800   A-687410    OR         09       08      23.0\n",
              "12920     A-52985    PA         13       12      23.0\n",
              "38977    A-157938    WA         01       00      23.0\n",
              "...           ...   ...        ...      ...       ...\n",
              "119704   A-487014    CA         10       10       0.0\n",
              "310730  A-1266500    NJ         21       21       0.0\n",
              "310731  A-1266502    CA         10       10       0.0\n",
              "119697   A-486986    OH         16       16       0.0\n",
              "119643   A-486755    WA         08       08       0.0\n",
              "\n",
              "[382385 rows x 5 columns]"
            ]
          },
          "metadata": {},
          "execution_count": 5
        }
      ]
    },
    {
      "cell_type": "code",
      "metadata": {
        "colab": {
          "base_uri": "https://localhost:8080/"
        },
        "id": "8z3dbGH7JSOb",
        "outputId": "8dfcbfbb-e287-43a4-f8ed-9c7f42cbd78e"
      },
      "source": [
        "time_df['duration'].mode()"
      ],
      "execution_count": null,
      "outputs": [
        {
          "output_type": "execute_result",
          "data": {
            "text/plain": [
              "0    1.0\n",
              "dtype: float64"
            ]
          },
          "metadata": {},
          "execution_count": 6
        }
      ]
    },
    {
      "cell_type": "code",
      "metadata": {
        "colab": {
          "base_uri": "https://localhost:8080/"
        },
        "id": "D-Ol9NjHJmKw",
        "outputId": "1f6fdcb3-bad2-44e2-cf89-1350b3df3712"
      },
      "source": [
        "time_df['duration'].mean()"
      ],
      "execution_count": null,
      "outputs": [
        {
          "output_type": "execute_result",
          "data": {
            "text/plain": [
              "1.9993985119709194"
            ]
          },
          "metadata": {},
          "execution_count": 7
        }
      ]
    },
    {
      "cell_type": "code",
      "metadata": {
        "colab": {
          "base_uri": "https://localhost:8080/"
        },
        "id": "4VBRYnxuJips",
        "outputId": "fdc49342-5623-4a7f-b164-d24d662ce9ba"
      },
      "source": [
        "time_df['start_hour'].mode()"
      ],
      "execution_count": null,
      "outputs": [
        {
          "output_type": "execute_result",
          "data": {
            "text/plain": [
              "0    07\n",
              "dtype: object"
            ]
          },
          "metadata": {},
          "execution_count": 8
        }
      ]
    },
    {
      "cell_type": "code",
      "metadata": {
        "colab": {
          "base_uri": "https://localhost:8080/"
        },
        "id": "wTBfySVNJSEd",
        "outputId": "4d561a92-af7e-48ba-f314-b0add1cfe7bd"
      },
      "source": [
        "time_df['end_hour'].mode()"
      ],
      "execution_count": null,
      "outputs": [
        {
          "output_type": "execute_result",
          "data": {
            "text/plain": [
              "0    08\n",
              "dtype: object"
            ]
          },
          "metadata": {},
          "execution_count": 9
        }
      ]
    },
    {
      "cell_type": "markdown",
      "metadata": {
        "id": "LTHmCkPcJ1AG"
      },
      "source": [
        "We can see now that majority of accidents last for one hour. The most frequest time an accident occurs is at 7AM, and the most frequest time it ends is at 8AM.\n",
        "\n",
        "Let's now break those values up per state."
      ]
    },
    {
      "cell_type": "code",
      "metadata": {
        "id": "jnRI6YQrKY_3"
      },
      "source": [
        "time_per_state = pd.DataFrame({\n",
        "    'duration_mode': time_df.groupby(by='State')['duration'].agg(lambda x: x.value_counts().index[0]).sort_values(ascending=False),\n",
        "    'duration_mean': time_df.groupby(by='State')['duration'].mean(),\n",
        "    'start_hr_mode': time_df.groupby(by='State')['start_hour'].agg(lambda x: x.value_counts().index[0]).sort_values(ascending=False),\n",
        "    'end_hr_mode': time_df.groupby(by='State')['end_hour'].agg(lambda x: x.value_counts().index[0]).sort_values(ascending=False)\n",
        "})"
      ],
      "execution_count": null,
      "outputs": []
    },
    {
      "cell_type": "code",
      "metadata": {
        "id": "-TbEMVnkKZIi"
      },
      "source": [
        "time_per_state"
      ],
      "execution_count": null,
      "outputs": []
    },
    {
      "cell_type": "code",
      "metadata": {
        "colab": {
          "base_uri": "https://localhost:8080/",
          "height": 508
        },
        "id": "kfo8lUK_7YhP",
        "outputId": "fcbee2fc-f266-4597-f21a-abfb6b6a4c96"
      },
      "source": [
        "time_per_state['duration_mode'].plot(kind='bar', figsize=(12,8))"
      ],
      "execution_count": null,
      "outputs": [
        {
          "output_type": "execute_result",
          "data": {
            "text/plain": [
              "<matplotlib.axes._subplots.AxesSubplot at 0x7f7de3fadc50>"
            ]
          },
          "metadata": {},
          "execution_count": 20
        },
        {
          "output_type": "display_data",
          "data": {
            "image/png": "[encoded data removed]",
            "text/plain": [
              "<Figure size 864x576 with 1 Axes>"
            ]
          },
          "metadata": {
            "needs_background": "light"
          }
        }
      ]
    },
    {
      "cell_type": "code",
      "metadata": {
        "colab": {
          "base_uri": "https://localhost:8080/",
          "height": 585
        },
        "id": "SX0pY3JE8btJ",
        "outputId": "c8e24d61-ee3e-44ef-a942-061bc4fff6b1"
      },
      "source": [
        "x = np.arange(len(time_per_state['start_hr_mode']))\n",
        "width = 0.3\n",
        "fig, ax = plt.subplots(figsize=(14,8))\n",
        "start_hours = ax.bar(x-width/2, time_per_state['start_hr_mode'].astype(int), width, label='start_hours')\n",
        "end_hours = ax.bar(x+width/2, time_per_state['end_hr_mode'].astype(float), width, label='end_hours')\n",
        "plt.xticks(x, time_per_state['start_hr_mode'].index)\n",
        "plt.yticks(np.arange(24))\n",
        "ax.legend()\n",
        "fig.tight_layout()\n",
        "plt.show()"
      ],
      "execution_count": null,
      "outputs": [
        {
          "output_type": "display_data",
          "data": {
            "image/png": "[encoded data removed]",
            "text/plain": [
              "<Figure size 1008x576 with 1 Axes>"
            ]
          },
          "metadata": {}
        }
      ]
    },
    {
      "cell_type": "code",
      "metadata": {
        "id": "MHiKDaf5QIl8"
      },
      "source": [
        "holiday_df = pd.DataFrame({\n",
        "    'ID': weather_df.ID,\n",
        "    'State': weather_df.State,\n",
        "    'start_time': pd.to_datetime(weather_df['Start_Time']),\n",
        "    'year': pd.to_datetime(weather_df['Start_Time']).dt.year,\n",
        "    'month': pd.to_datetime(weather_df['Start_Time']).dt.month\n",
        "    })\n"
      ],
      "execution_count": null,
      "outputs": []
    },
    {
      "cell_type": "code",
      "metadata": {
        "colab": {
          "base_uri": "https://localhost:8080/",
          "height": 285
        },
        "id": "juiJ2MTAQIn2",
        "outputId": "5983cdd8-6207-4931-b724-09fc9b9e6e5c"
      },
      "source": [
        "plt.plot(holiday_df.groupby(by='month')['ID'].count())"
      ],
      "execution_count": null,
      "outputs": [
        {
          "output_type": "execute_result",
          "data": {
            "text/plain": [
              "[<matplotlib.lines.Line2D at 0x7f7dc067c450>]"
            ]
          },
          "metadata": {},
          "execution_count": 74
        },
        {
          "output_type": "display_data",
          "data": {
            "image/png": "[encoded data removed]",
            "text/plain": [
              "<Figure size 432x288 with 1 Axes>"
            ]
          },
          "metadata": {}
        }
      ]
    },
    {
      "cell_type": "markdown",
      "metadata": {
        "id": "Uj2bv2tuhVUe"
      },
      "source": [
        "From this graph we can see that the number of traffic accidents tend to increase as the end of the year approaches. Starting in October, the closer we get to December, the more accidents there are."
      ]
    },
    {
      "cell_type": "markdown",
      "metadata": {
        "id": "Y6NlhNqThnA1"
      },
      "source": [
        "Let's now look at the top 5 states in terms of number of accidents and see if they also follow this trend. "
      ]
    },
    {
      "cell_type": "code",
      "metadata": {
        "colab": {
          "base_uri": "https://localhost:8080/",
          "height": 718
        },
        "id": "wBj2IS17oPue",
        "outputId": "c456d58a-d603-4d9b-e213-5acd7412e024"
      },
      "source": [
        "fig, ax = plt.subplots(5, figsize=(12,12))\n",
        "ax[0].plot(holiday_df[holiday_df['State'] == 'CA'].groupby('month')['ID'].count())\n",
        "ax[1].plot(holiday_df[holiday_df['State'] == 'OR'].groupby('month')['ID'].count())\n",
        "ax[2].plot(holiday_df[holiday_df['State'] == 'MN'].groupby('month')['ID'].count())\n",
        "ax[3].plot(holiday_df[holiday_df['State'] == 'NY'].groupby('month')['ID'].count())\n",
        "ax[4].plot(holiday_df[holiday_df['State'] == 'PA'].groupby('month')['ID'].count())"
      ],
      "execution_count": null,
      "outputs": [
        {
          "output_type": "execute_result",
          "data": {
            "text/plain": [
              "[<matplotlib.lines.Line2D at 0x7f7dcac094d0>]"
            ]
          },
          "metadata": {},
          "execution_count": 97
        },
        {
          "output_type": "display_data",
          "data": {
            "image/png": "[encoded data removed]",
            "text/plain": [
              "<Figure size 864x864 with 5 Axes>"
            ]
          },
          "metadata": {}
        }
      ]
    },
    {
      "cell_type": "markdown",
      "metadata": {
        "id": "S2xES8zNcImq"
      },
      "source": [
        "- [ ] initial analysis \n",
        "  - [x] how many accidents per state\n",
        "  - when do the most accidents happen? \n",
        "    - [x] what months exactly?\n",
        "        - [ ] why in those months? - explain using text cells\n",
        "    - [x] day/night?\n",
        "  - [x] average distance of accident\n"
      ]
    },
    {
      "cell_type": "markdown",
      "metadata": {
        "id": "x77tfpXZEvZ4"
      },
      "source": [
        "# Questions to consider\n",
        "- Does weather condition make an impact in the severity of the accident? \n",
        "  - i.e if there was rain/hail/snow is the accident more severe? \n",
        "  - What type of weather correlates to the most severity? (does driving in snow/hail/rain have a greater effect on severity)\n",
        "\n",
        "- Digging deeper into weather:\n",
        "    - what about weather at night vs in the day? \n",
        "       - does raining during the night make it worse to drive in, causing more accidents than raining during the day? \n",
        "    - Does faster rain/snow/rain relate to more accidents? \n",
        "\n",
        "- Connection between severity and weather condition? \n",
        "  - include wind speed as well \n",
        "  - increased wind speed could lead to decreased visibility when paired with precipitation"
      ]
    },
    {
      "cell_type": "markdown",
      "metadata": {
        "id": "owUEVziAttab"
      },
      "source": [
        "### Does weather condition make an impact in the severity of the accident?\n",
        "- Look at:\n",
        "  - Temperature, Wind_Chill, Precipitation, Weather_Condition\n",
        "  "
      ]
    },
    {
      "cell_type": "code",
      "metadata": {
        "id": "c3VpZ6HJux8u"
      },
      "source": [
        " ## for temperature - do 10 degree buckets and make a bar graph counting number of accidents by severity \n",
        " ## for weather_condition - groupby this column and count number of accidents by severity\n",
        " ## for precipitation - do 0.5 inches buckets and make a bar graph counting nmber of accidents by severity\n",
        "\n",
        " ##do bar graphs like the one before -> multiple bars for one category (as many bars as severities so 4 in total)"
      ],
      "execution_count": null,
      "outputs": []
    },
    {
      "cell_type": "markdown",
      "metadata": {
        "id": "joqXU14eTZQc"
      },
      "source": [
        "temperature"
      ]
    },
    {
      "cell_type": "code",
      "metadata": {
        "id": "MpXEziFfO0pc",
        "colab": {
          "base_uri": "https://localhost:8080/",
          "height": 465
        },
        "outputId": "c7008bc0-59d2-4878-fc17-4a044d52f400"
      },
      "source": [
        "plt.hist(weather_df['Temperature(F)'], bins=np.arange(-20, 80, 10))\n",
        "plt.xticks(np.arange(-20, 80, 10))"
      ],
      "execution_count": null,
      "outputs": [
        {
          "output_type": "execute_result",
          "data": {
            "text/plain": [
              "([<matplotlib.axis.XTick at 0x7f90e53f51d0>,\n",
              "  <matplotlib.axis.XTick at 0x7f90e53f5190>,\n",
              "  <matplotlib.axis.XTick at 0x7f90e5426a10>,\n",
              "  <matplotlib.axis.XTick at 0x7f90e4f44750>,\n",
              "  <matplotlib.axis.XTick at 0x7f90e4f53cd0>,\n",
              "  <matplotlib.axis.XTick at 0x7f90e4f345d0>,\n",
              "  <matplotlib.axis.XTick at 0x7f90e4f34b50>,\n",
              "  <matplotlib.axis.XTick at 0x7f90e4f34d90>,\n",
              "  <matplotlib.axis.XTick at 0x7f90e4f34550>,\n",
              "  <matplotlib.axis.XTick at 0x7f90e4f341d0>],\n",
              " <a list of 10 Text major ticklabel objects>)"
            ]
          },
          "metadata": {},
          "execution_count": 44
        },
        {
          "output_type": "display_data",
          "data": {
            "image/png": "[encoded data removed]",
            "text/plain": [
              "<Figure size 432x288 with 1 Axes>"
            ]
          },
          "metadata": {}
        }
      ]
    },
    {
      "cell_type": "code",
      "metadata": {
        "colab": {
          "base_uri": "https://localhost:8080/",
          "height": 552
        },
        "id": "ZHMcBznVyhcC",
        "outputId": "ae0f18ce-cd0e-470a-c146-34c504b61a41"
      },
      "source": [
        "weather_df['temp_bins'] = pd.cut(weather_df['Temperature(F)'], bins=np.arange(-20, 80, 10))\n",
        "weather_df.groupby(by=['temp_bins', 'Severity']).size().unstack(fill_value=0).plot.bar(width=1, figsize=(10,8))"
      ],
      "execution_count": null,
      "outputs": [
        {
          "output_type": "execute_result",
          "data": {
            "text/plain": [
              "<matplotlib.axes._subplots.AxesSubplot at 0x7f90e784b210>"
            ]
          },
          "metadata": {},
          "execution_count": 16
        },
        {
          "output_type": "display_data",
          "data": {
            "image/png": "[encoded data removed]",
            "text/plain": [
              "<Figure size 720x576 with 1 Axes>"
            ]
          },
          "metadata": {}
        }
      ]
    },
    {
      "cell_type": "markdown",
      "metadata": {
        "id": "mOaJx1GQTULw"
      },
      "source": [
        "Weather condition"
      ]
    },
    {
      "cell_type": "code",
      "metadata": {
        "id": "TGleekQB195u",
        "colab": {
          "base_uri": "https://localhost:8080/"
        },
        "outputId": "b356c979-dddf-4d46-f96f-ea4cf8ba2014"
      },
      "source": [
        "#as b/c a lot of weather conditions, lets not graph all of them but just the top ten weather conditions in terms of accidents\n",
        "len(weather_df['Weather_Condition'].unique())"
      ],
      "execution_count": null,
      "outputs": [
        {
          "output_type": "execute_result",
          "data": {
            "text/plain": [
              "100"
            ]
          },
          "metadata": {},
          "execution_count": 39
        }
      ]
    },
    {
      "cell_type": "code",
      "metadata": {
        "colab": {
          "base_uri": "https://localhost:8080/",
          "height": 358
        },
        "id": "ePnajA85P9U-",
        "outputId": "1e27b743-02db-42a8-b533-41bff079565f"
      },
      "source": [
        "weather_cond = weather_df.groupby(by='Weather_Condition')['ID'].count().sort_values(ascending=False).head(10)\n",
        "weather_cond.plot.bar()"
      ],
      "execution_count": null,
      "outputs": [
        {
          "output_type": "execute_result",
          "data": {
            "text/plain": [
              "<matplotlib.axes._subplots.AxesSubplot at 0x7f90eafb7a50>"
            ]
          },
          "metadata": {},
          "execution_count": 42
        },
        {
          "output_type": "display_data",
          "data": {
            "image/png": "[encoded data removed]",
            "text/plain": [
              "<Figure size 432x288 with 1 Axes>"
            ]
          },
          "metadata": {}
        }
      ]
    },
    {
      "cell_type": "code",
      "metadata": {
        "colab": {
          "base_uri": "https://localhost:8080/",
          "height": 576
        },
        "id": "JyD5hKQZwVDX",
        "outputId": "4e457490-c92b-4238-f222-e11dc7269d64"
      },
      "source": [
        "weather_cond_subset = weather_df.loc[weather_df['Weather_Condition']\n",
        "                                     .isin(['Fair', 'Cloudy', 'Mostly Cloudy', 'Light Rain', 'Partly Cloudy', 'Light Snow', 'Fog', 'Rain', 'Overcast', 'Haze'])]\n",
        "weather_cond_subset.groupby(by=['Weather_Condition', 'Severity']).size().unstack(fill_value=0).plot.bar(width=1, figsize=(10,8))"
      ],
      "execution_count": null,
      "outputs": [
        {
          "output_type": "execute_result",
          "data": {
            "text/plain": [
              "<matplotlib.axes._subplots.AxesSubplot at 0x7f90d64ac2d0>"
            ]
          },
          "metadata": {},
          "execution_count": 78
        },
        {
          "output_type": "display_data",
          "data": {
            "image/png": "[encoded data removed]",
            "text/plain": [
              "<Figure size 720x576 with 1 Axes>"
            ]
          },
          "metadata": {}
        }
      ]
    },
    {
      "cell_type": "markdown",
      "metadata": {
        "id": "bLHskf7_Tdhb"
      },
      "source": [
        "precipitation"
      ]
    },
    {
      "cell_type": "code",
      "metadata": {
        "id": "aJ1ieu_BTSTL"
      },
      "source": [
        " ## for precipitation - do 0.5 inches buckets and make a bar graph counting nmber of accidents by severity"
      ],
      "execution_count": null,
      "outputs": []
    },
    {
      "cell_type": "code",
      "metadata": {
        "colab": {
          "base_uri": "https://localhost:8080/"
        },
        "id": "cRo7IRxKTSVs",
        "outputId": "d4ed3e89-ae3a-4c52-aa38-3b4658a4cd12"
      },
      "source": [
        "len(weather_df[weather_df['Precipitation(in)'] > 0]['Precipitation(in)'].unique())"
      ],
      "execution_count": null,
      "outputs": [
        {
          "output_type": "execute_result",
          "data": {
            "text/plain": [
              "112"
            ]
          },
          "metadata": {},
          "execution_count": 76
        }
      ]
    },
    {
      "cell_type": "code",
      "metadata": {
        "colab": {
          "base_uri": "https://localhost:8080/"
        },
        "id": "klSgsHlzyFwb",
        "outputId": "48f60b0d-9815-4de9-e7af-84c2ed3d37ff"
      },
      "source": [
        "weather_df[weather_df['Precipitation(in)'] > 0]['Precipitation(in)'].max()"
      ],
      "execution_count": null,
      "outputs": [
        {
          "output_type": "execute_result",
          "data": {
            "text/plain": [
              "24.0"
            ]
          },
          "metadata": {},
          "execution_count": 77
        }
      ]
    },
    {
      "cell_type": "markdown",
      "metadata": {
        "id": "U8Y6DVo-4g7K"
      },
      "source": [
        "#look at 0 inches precipitation vs > 0 inches precip"
      ]
    },
    {
      "cell_type": "code",
      "metadata": {
        "colab": {
          "base_uri": "https://localhost:8080/",
          "height": 283
        },
        "id": "P58TIxaQ2ifC",
        "outputId": "80fda2de-5e7a-4c0b-b2a3-7db328f8a57b"
      },
      "source": [
        "precip_zero = weather_df[weather_df['Precipitation(in)'] == 0].copy()\n",
        "precip_zero['Severity'].hist()"
      ],
      "execution_count": 19,
      "outputs": [
        {
          "output_type": "execute_result",
          "data": {
            "text/plain": [
              "<matplotlib.axes._subplots.AxesSubplot at 0x7f67df346f90>"
            ]
          },
          "metadata": {},
          "execution_count": 19
        },
        {
          "output_type": "display_data",
          "data": {
            "image/png": "[encoded data removed]",
            "text/plain": [
              "<Figure size 432x288 with 1 Axes>"
            ]
          },
          "metadata": {}
        }
      ]
    },
    {
      "cell_type": "code",
      "metadata": {
        "colab": {
          "base_uri": "https://localhost:8080/",
          "height": 568
        },
        "id": "epLj2O6CzpUP",
        "outputId": "2e69f537-7963-4c41-8ebc-7f9f07a8d554"
      },
      "source": [
        "precip_more_zero = weather_df[weather_df['Precipitation(in)'] > 0].copy()\n",
        "precip_more_zero['precip_bins'] = pd.cut(precip_more_zero['Precipitation(in)'], bins=np.arange(0.0, 11.0, 0.5))\n",
        "precip_more_zero.groupby(by=['precip_bins', 'Severity']).size().unstack(fill_value=0).plot.bar(width=1, figsize=(10,8))\n",
        "#say that cant see the other accidnets in otehr bins b/c so little amount of accidents there -> will make another graph for this"
      ],
      "execution_count": 16,
      "outputs": [
        {
          "output_type": "execute_result",
          "data": {
            "text/plain": [
              "<matplotlib.axes._subplots.AxesSubplot at 0x7f67df61c5d0>"
            ]
          },
          "metadata": {},
          "execution_count": 16
        },
        {
          "output_type": "display_data",
          "data": {
            "image/png": "[encoded data removed]",
            "text/plain": [
              "<Figure size 720x576 with 1 Axes>"
            ]
          },
          "metadata": {}
        }
      ]
    },
    {
      "cell_type": "code",
      "metadata": {
        "colab": {
          "base_uri": "https://localhost:8080/",
          "height": 565
        },
        "id": "bp8c8qZkTSbK",
        "outputId": "2d6b76f3-1de1-43c6-c9bc-c4f714c3fe62"
      },
      "source": [
        "precip_more_zero_1 = weather_df[weather_df['Precipitation(in)'] > 0].copy()\n",
        "precip_more_zero_1['precip_bins'] = pd.cut(precip_more_zero_1['Precipitation(in)'], bins=np.arange(0.5, 11.0, 0.5))\n",
        "precip_more_zero_1.groupby(by=['precip_bins', 'Severity']).size().unstack(fill_value=0).plot.bar(width=1, figsize=(10,8))"
      ],
      "execution_count": null,
      "outputs": [
        {
          "output_type": "execute_result",
          "data": {
            "text/plain": [
              "<matplotlib.axes._subplots.AxesSubplot at 0x7f39307e6450>"
            ]
          },
          "metadata": {},
          "execution_count": 33
        },
        {
          "output_type": "display_data",
          "data": {
            "image/png": "[encoded data removed]",
            "text/plain": [
              "<Figure size 720x576 with 1 Axes>"
            ]
          },
          "metadata": {}
        }
      ]
    },
    {
      "cell_type": "markdown",
      "metadata": {
        "id": "H-9ydCZVTvpj"
      },
      "source": [
        "- Connection between severity and weather condition? \n",
        "  - include wind speed as well \n",
        "  - increased wind speed could lead to decreased visibility when paired with precipitation"
      ]
    },
    {
      "cell_type": "code",
      "metadata": {
        "colab": {
          "base_uri": "https://localhost:8080/",
          "height": 586
        },
        "id": "gxAMTPdHTvem",
        "outputId": "c80bcff6-d0fc-4f06-d724-f617a6ba8857"
      },
      "source": [
        "#correlation matrix between start_time, end_time, severity, wind_speed, and precipitation\n",
        "corr_matrix = weather_df[['Severity', 'Temperature(F)', 'Wind_Chill(F)', 'Humidity(%)', \n",
        "                          'Pressure(in)', 'Visibility(mi)', 'Wind_Direction', \n",
        "                          'Wind_Speed(mph)', 'Precipitation(in)']].corr()\n",
        "plt.figure(figsize = (10,8))              \n",
        "sns.heatmap(corr_matrix, annot=True)"
      ],
      "execution_count": null,
      "outputs": [
        {
          "output_type": "execute_result",
          "data": {
            "text/plain": [
              "<matplotlib.axes._subplots.AxesSubplot at 0x7f39277092d0>"
            ]
          },
          "metadata": {},
          "execution_count": 40
        },
        {
          "output_type": "display_data",
          "data": {
            "image/png": "[encoded data removed]",
            "text/plain": [
              "<Figure size 720x576 with 2 Axes>"
            ]
          },
          "metadata": {}
        }
      ]
    },
    {
      "cell_type": "markdown",
      "metadata": {
        "id": "UJ0UdpNbToY5"
      },
      "source": [
        "what about weather at night vs in the day?  \n",
        "       - does raining during the night make it worse to drive in, causing more accidents than raining during the day?  \n",
        "    - Does faster rain/snow/rain relate to more accidents? "
      ]
    },
    {
      "cell_type": "code",
      "metadata": {
        "id": "kpFucA0zTvjl"
      },
      "source": [
        "#look at those accidents with precp > 0, and then look at their timestamps -> cateogirze based on the time into morning, afternoon, evening, night \n",
        "# for each cateogry, look at the severity of accidents\n",
        "\n",
        "#categorize the precip > 0 into low, medium and high precip, and look at their morning, afternoon, evening, night severities "
      ],
      "execution_count": null,
      "outputs": []
    },
    {
      "cell_type": "code",
      "metadata": {
        "id": "lDaCEtiLv4eO",
        "colab": {
          "base_uri": "https://localhost:8080/",
          "height": 357
        },
        "outputId": "9aa253f6-4a9b-4a94-dc89-e501c0a2e3c3"
      },
      "source": [
        "#this lets us divide the accidents into 4 bins -> morning, afternoon, evening, night \n",
        "precip_more_zero['time_bins'] = pd.cut(pd.to_datetime(precip_more_zero['Start_Time']).dt.hour, bins = 4)\n",
        "time_bins_grouped = precip_more_zero.groupby(by='time_bins')['ID'].count().sort_values(ascending=False)\n",
        "time_bins_grouped.plot.bar()"
      ],
      "execution_count": 20,
      "outputs": [
        {
          "output_type": "execute_result",
          "data": {
            "text/plain": [
              "<matplotlib.axes._subplots.AxesSubplot at 0x7f67df2ed890>"
            ]
          },
          "metadata": {},
          "execution_count": 20
        },
        {
          "output_type": "display_data",
          "data": {
            "image/png": "[encoded data removed]",
            "text/plain": [
              "<Figure size 432x288 with 1 Axes>"
            ]
          },
          "metadata": {}
        }
      ]
    },
    {
      "cell_type": "code",
      "metadata": {
        "id": "lXPo2ylLv4g9",
        "colab": {
          "base_uri": "https://localhost:8080/",
          "height": 575
        },
        "outputId": "4321bb34-229d-40c8-e3c7-30709987e298"
      },
      "source": [
        "precip_more_zero.groupby(by=['time_bins', 'Severity']).size().unstack(fill_value=0).plot.bar(width=1, figsize=(10,8))"
      ],
      "execution_count": 18,
      "outputs": [
        {
          "output_type": "execute_result",
          "data": {
            "text/plain": [
              "<matplotlib.axes._subplots.AxesSubplot at 0x7f67df425350>"
            ]
          },
          "metadata": {},
          "execution_count": 18
        },
        {
          "output_type": "display_data",
          "data": {
            "image/png": "[encoded data removed]",
            "text/plain": [
              "<Figure size 720x576 with 1 Axes>"
            ]
          },
          "metadata": {}
        }
      ]
    },
    {
      "cell_type": "code",
      "metadata": {
        "id": "bDDvdNpev4kQ",
        "colab": {
          "base_uri": "https://localhost:8080/",
          "height": 357
        },
        "outputId": "8d586ccc-9a90-464a-e6a1-85178529d6eb"
      },
      "source": [
        "precip_zero['time_bins'] = pd.cut(pd.to_datetime(precip_zero['Start_Time']).dt.hour, bins = 4)\n",
        "time_bins_precip_zero_grouped = precip_zero.groupby(by='time_bins')['ID'].count().sort_values(ascending=False)\n",
        "time_bins_precip_zero_grouped.plot.bar()"
      ],
      "execution_count": 21,
      "outputs": [
        {
          "output_type": "execute_result",
          "data": {
            "text/plain": [
              "<matplotlib.axes._subplots.AxesSubplot at 0x7f67df25e650>"
            ]
          },
          "metadata": {},
          "execution_count": 21
        },
        {
          "output_type": "display_data",
          "data": {
            "image/png": "[encoded data removed]",
            "text/plain": [
              "<Figure size 432x288 with 1 Axes>"
            ]
          },
          "metadata": {}
        }
      ]
    },
    {
      "cell_type": "code",
      "metadata": {
        "colab": {
          "base_uri": "https://localhost:8080/",
          "height": 575
        },
        "id": "2G0nyUF8mHXe",
        "outputId": "8d368a2d-b48f-469d-c401-c19a2087a8b3"
      },
      "source": [
        "precip_zero.groupby(by=['time_bins', 'Severity']).size().unstack(fill_value=0).plot.bar(width=1, figsize=(10,8))"
      ],
      "execution_count": 22,
      "outputs": [
        {
          "output_type": "execute_result",
          "data": {
            "text/plain": [
              "<matplotlib.axes._subplots.AxesSubplot at 0x7f67df1cb650>"
            ]
          },
          "metadata": {},
          "execution_count": 22
        },
        {
          "output_type": "display_data",
          "data": {
            "image/png": "[encoded data removed]",
            "text/plain": [
              "<Figure size 720x576 with 1 Axes>"
            ]
          },
          "metadata": {}
        }
      ]
    },
    {
      "cell_type": "markdown",
      "metadata": {
        "id": "HNPWIP3nT_DR"
      },
      "source": [
        "#References\n",
        "\n",
        "*   Moosavi, Sobhan, Mohammad Hossein Samavatian, Srinivasan Parthasarathy, and Rajiv Ramnath. “A Countrywide Traffic Accident Dataset.”, 2019.\n",
        "\n",
        "* Moosavi, Sobhan, Mohammad Hossein Samavatian, Srinivasan Parthasarathy, Radu Teodorescu, and Rajiv Ramnath. \"Accident Risk Prediction based on Heterogeneous Sparse Data: New Dataset and Insights.\" In proceedings of the 27th ACM SIGSPATIAL International Conference on Advances in Geographic Information Systems, ACM, 2019.\n",
        "\n",
        "*   https://www.ibm.com/cloud/learn/exploratory-data-analysis \n",
        "*   https://www.stat.cmu.edu/~hseltman/309/Book/chapter4.pdf \n",
        "* https://pandas.pydata.org/pandas-docs/stable/reference/general_functions.html\n",
        "* https://www.timeanddate.com/astronomy/different-types-twilight.html \n",
        "* https://www.washingtonpost.com/weather/2020/08/16/death-valley-heat-record/\n",
        "* https://www.mountwashington.org/about-us/history/world-record-wind.aspx#:~:text=For%20nearly%20sixty%2Dtwo%20years,by%20Mount%20Washington%20Observatory%20staff. "
      ]
    }
  ]
}